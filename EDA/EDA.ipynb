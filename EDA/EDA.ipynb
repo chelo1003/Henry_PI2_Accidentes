{
 "cells": [
  {
   "cell_type": "code",
   "execution_count": 28,
   "metadata": {},
   "outputs": [],
   "source": [
    "# Importar las librerías a utilizar\n",
    "import pandas as pd\n",
    "from datetime import datetime\n",
    "import numpy as np"
   ]
  },
  {
   "cell_type": "code",
   "execution_count": 64,
   "metadata": {},
   "outputs": [
    {
     "data": {
      "text/html": [
       "<div>\n",
       "<style scoped>\n",
       "    .dataframe tbody tr th:only-of-type {\n",
       "        vertical-align: middle;\n",
       "    }\n",
       "\n",
       "    .dataframe tbody tr th {\n",
       "        vertical-align: top;\n",
       "    }\n",
       "\n",
       "    .dataframe thead th {\n",
       "        text-align: right;\n",
       "    }\n",
       "</style>\n",
       "<table border=\"1\" class=\"dataframe\">\n",
       "  <thead>\n",
       "    <tr style=\"text-align: right;\">\n",
       "      <th></th>\n",
       "      <th>id</th>\n",
       "      <th>n_victimas</th>\n",
       "      <th>fecha</th>\n",
       "      <th>aaaa</th>\n",
       "      <th>mm</th>\n",
       "      <th>dd</th>\n",
       "      <th>hora</th>\n",
       "      <th>franja_hora</th>\n",
       "      <th>direccion</th>\n",
       "      <th>tipo_calle</th>\n",
       "      <th>...</th>\n",
       "      <th>rol</th>\n",
       "      <th>vehiculo_victima</th>\n",
       "      <th>sexo</th>\n",
       "      <th>edad</th>\n",
       "      <th>gravedad</th>\n",
       "      <th>moto</th>\n",
       "      <th>auto</th>\n",
       "      <th>transporte_publico</th>\n",
       "      <th>camion</th>\n",
       "      <th>ciclista</th>\n",
       "    </tr>\n",
       "  </thead>\n",
       "  <tbody>\n",
       "    <tr>\n",
       "      <th>0</th>\n",
       "      <td>2016-0001</td>\n",
       "      <td>1</td>\n",
       "      <td>2016-01-01</td>\n",
       "      <td>2016</td>\n",
       "      <td>1</td>\n",
       "      <td>1</td>\n",
       "      <td>04:00:00</td>\n",
       "      <td>4</td>\n",
       "      <td>AV PIEDRA BUENA Y AV FERNANDEZ DE LA CRUZ</td>\n",
       "      <td>AVENIDA</td>\n",
       "      <td>...</td>\n",
       "      <td>CONDUCTOR</td>\n",
       "      <td>MOTO</td>\n",
       "      <td>MASCULINO</td>\n",
       "      <td>19</td>\n",
       "      <td>2016-01-01 00:00:00</td>\n",
       "      <td>5e-324</td>\n",
       "      <td>0.0</td>\n",
       "      <td>0.0</td>\n",
       "      <td>0.0</td>\n",
       "      <td>0.0</td>\n",
       "    </tr>\n",
       "    <tr>\n",
       "      <th>1</th>\n",
       "      <td>2016-0002</td>\n",
       "      <td>1</td>\n",
       "      <td>2016-01-02</td>\n",
       "      <td>2016</td>\n",
       "      <td>1</td>\n",
       "      <td>2</td>\n",
       "      <td>01:15:00</td>\n",
       "      <td>1</td>\n",
       "      <td>AV GRAL PAZ  Y AV DE LOS CORRALES</td>\n",
       "      <td>GRAL PAZ</td>\n",
       "      <td>...</td>\n",
       "      <td>CONDUCTOR</td>\n",
       "      <td>AUTO</td>\n",
       "      <td>MASCULINO</td>\n",
       "      <td>70</td>\n",
       "      <td>2016-01-02 00:00:00</td>\n",
       "      <td>5e-324</td>\n",
       "      <td>0.0</td>\n",
       "      <td>0.0</td>\n",
       "      <td>0.0</td>\n",
       "      <td>0.0</td>\n",
       "    </tr>\n",
       "    <tr>\n",
       "      <th>2</th>\n",
       "      <td>2016-0003</td>\n",
       "      <td>1</td>\n",
       "      <td>2016-01-03</td>\n",
       "      <td>2016</td>\n",
       "      <td>1</td>\n",
       "      <td>3</td>\n",
       "      <td>07:00:00</td>\n",
       "      <td>7</td>\n",
       "      <td>AV ENTRE RIOS 2034</td>\n",
       "      <td>AVENIDA</td>\n",
       "      <td>...</td>\n",
       "      <td>CONDUCTOR</td>\n",
       "      <td>MOTO</td>\n",
       "      <td>MASCULINO</td>\n",
       "      <td>30</td>\n",
       "      <td>2016-01-03 00:00:00</td>\n",
       "      <td>5e-324</td>\n",
       "      <td>0.0</td>\n",
       "      <td>0.0</td>\n",
       "      <td>0.0</td>\n",
       "      <td>0.0</td>\n",
       "    </tr>\n",
       "    <tr>\n",
       "      <th>3</th>\n",
       "      <td>2016-0004</td>\n",
       "      <td>1</td>\n",
       "      <td>2016-01-10</td>\n",
       "      <td>2016</td>\n",
       "      <td>1</td>\n",
       "      <td>10</td>\n",
       "      <td>00:00:00</td>\n",
       "      <td>0</td>\n",
       "      <td>AV LARRAZABAL Y GRAL VILLEGAS CONRADO</td>\n",
       "      <td>AVENIDA</td>\n",
       "      <td>...</td>\n",
       "      <td>CONDUCTOR</td>\n",
       "      <td>MOTO</td>\n",
       "      <td>MASCULINO</td>\n",
       "      <td>18</td>\n",
       "      <td>SD</td>\n",
       "      <td>5e-324</td>\n",
       "      <td>0.0</td>\n",
       "      <td>0.0</td>\n",
       "      <td>0.0</td>\n",
       "      <td>0.0</td>\n",
       "    </tr>\n",
       "    <tr>\n",
       "      <th>4</th>\n",
       "      <td>2016-0005</td>\n",
       "      <td>1</td>\n",
       "      <td>2016-01-21</td>\n",
       "      <td>2016</td>\n",
       "      <td>1</td>\n",
       "      <td>21</td>\n",
       "      <td>05:20:00</td>\n",
       "      <td>5</td>\n",
       "      <td>AV SAN JUAN Y PRESIDENTE LUIS SAENZ PEÑA</td>\n",
       "      <td>AVENIDA</td>\n",
       "      <td>...</td>\n",
       "      <td>CONDUCTOR</td>\n",
       "      <td>MOTO</td>\n",
       "      <td>MASCULINO</td>\n",
       "      <td>29</td>\n",
       "      <td>2016-02-01 00:00:00</td>\n",
       "      <td>5e-324</td>\n",
       "      <td>0.0</td>\n",
       "      <td>0.0</td>\n",
       "      <td>0.0</td>\n",
       "      <td>0.0</td>\n",
       "    </tr>\n",
       "  </tbody>\n",
       "</table>\n",
       "<p>5 rows × 31 columns</p>\n",
       "</div>"
      ],
      "text/plain": [
       "          id  n_victimas       fecha  aaaa  mm  dd      hora franja_hora  \\\n",
       "0  2016-0001           1  2016-01-01  2016   1   1  04:00:00           4   \n",
       "1  2016-0002           1  2016-01-02  2016   1   2  01:15:00           1   \n",
       "2  2016-0003           1  2016-01-03  2016   1   3  07:00:00           7   \n",
       "3  2016-0004           1  2016-01-10  2016   1  10  00:00:00           0   \n",
       "4  2016-0005           1  2016-01-21  2016   1  21  05:20:00           5   \n",
       "\n",
       "                                   direccion tipo_calle  ...        rol  \\\n",
       "0  AV PIEDRA BUENA Y AV FERNANDEZ DE LA CRUZ    AVENIDA  ...  CONDUCTOR   \n",
       "1          AV GRAL PAZ  Y AV DE LOS CORRALES   GRAL PAZ  ...  CONDUCTOR   \n",
       "2                         AV ENTRE RIOS 2034    AVENIDA  ...  CONDUCTOR   \n",
       "3      AV LARRAZABAL Y GRAL VILLEGAS CONRADO    AVENIDA  ...  CONDUCTOR   \n",
       "4  AV SAN JUAN Y PRESIDENTE LUIS SAENZ PEÑA     AVENIDA  ...  CONDUCTOR   \n",
       "\n",
       "   vehiculo_victima       sexo edad             gravedad    moto auto  \\\n",
       "0              MOTO  MASCULINO   19  2016-01-01 00:00:00  5e-324  0.0   \n",
       "1              AUTO  MASCULINO   70  2016-01-02 00:00:00  5e-324  0.0   \n",
       "2              MOTO  MASCULINO   30  2016-01-03 00:00:00  5e-324  0.0   \n",
       "3              MOTO  MASCULINO   18                   SD  5e-324  0.0   \n",
       "4              MOTO  MASCULINO   29  2016-02-01 00:00:00  5e-324  0.0   \n",
       "\n",
       "  transporte_publico camion ciclista  \n",
       "0                0.0    0.0      0.0  \n",
       "1                0.0    0.0      0.0  \n",
       "2                0.0    0.0      0.0  \n",
       "3                0.0    0.0      0.0  \n",
       "4                0.0    0.0      0.0  \n",
       "\n",
       "[5 rows x 31 columns]"
      ]
     },
     "execution_count": 64,
     "metadata": {},
     "output_type": "execute_result"
    }
   ],
   "source": [
    "# Cargar el .csv\n",
    "df_accidentes = pd.read_csv(\"accidentes.csv\")\n",
    "df_accidentes.head()"
   ]
  },
  {
   "cell_type": "markdown",
   "metadata": {},
   "source": [
    "# Fecha y Hora\n",
    "\n",
    "Voy a conservar una columna con la fecha y una con la franja horaria."
   ]
  },
  {
   "cell_type": "code",
   "execution_count": 65,
   "metadata": {},
   "outputs": [
    {
     "data": {
      "text/plain": [
       "count     28310\n",
       "unique       26\n",
       "top          17\n",
       "freq       2032\n",
       "Name: franja_hora, dtype: object"
      ]
     },
     "execution_count": 65,
     "metadata": {},
     "output_type": "execute_result"
    }
   ],
   "source": [
    "# Revisar la columna de franja_horaria\n",
    "df_accidentes[\"franja_hora\"].describe()"
   ]
  },
  {
   "cell_type": "code",
   "execution_count": 66,
   "metadata": {},
   "outputs": [
    {
     "data": {
      "text/plain": [
       "franja_hora\n",
       "17    2032\n",
       "16    2006\n",
       "14    1894\n",
       "13    1857\n",
       "12    1823\n",
       "15    1811\n",
       "18    1808\n",
       "19    1562\n",
       "11    1484\n",
       "20    1360\n",
       "9     1327\n",
       "10    1300\n",
       "8     1265\n",
       "21    1158\n",
       "0      946\n",
       "22     920\n",
       "7      878\n",
       "23     700\n",
       "6      565\n",
       "1      445\n",
       "5      386\n",
       "2      293\n",
       "4      253\n",
       "3      233\n",
       "sd       3\n",
       "SD       1\n",
       "Name: count, dtype: int64"
      ]
     },
     "execution_count": 66,
     "metadata": {},
     "output_type": "execute_result"
    }
   ],
   "source": [
    "# Revisar la distribución de franja_horaria\n",
    "df_accidentes[\"franja_hora\"].value_counts()"
   ]
  },
  {
   "cell_type": "code",
   "execution_count": 67,
   "metadata": {},
   "outputs": [
    {
     "data": {
      "text/plain": [
       "5"
      ]
     },
     "execution_count": 67,
     "metadata": {},
     "output_type": "execute_result"
    }
   ],
   "source": [
    "# Cuento los nulos\n",
    "df_accidentes[\"franja_hora\"].isnull().sum()"
   ]
  },
  {
   "cell_type": "markdown",
   "metadata": {},
   "source": [
    "Tengo 4 valores desconocidos y 5 nulos, voy a asignar los nulos a las 17 (5) los sd a las 16(3) y los SD a las 14 (1)"
   ]
  },
  {
   "cell_type": "code",
   "execution_count": 68,
   "metadata": {},
   "outputs": [
    {
     "data": {
      "text/plain": [
       "count     28315\n",
       "unique       24\n",
       "top          17\n",
       "freq       2037\n",
       "Name: franja_hora, dtype: object"
      ]
     },
     "execution_count": 68,
     "metadata": {},
     "output_type": "execute_result"
    }
   ],
   "source": [
    "df_accidentes[\"franja_hora\"].replace('sd', \"16\", inplace=True)\n",
    "df_accidentes[\"franja_hora\"].replace('SD', \"14\", inplace=True)\n",
    "df_accidentes[\"franja_hora\"].fillna(\"17\", inplace=True)\n",
    "df_accidentes[\"franja_hora\"].describe()"
   ]
  },
  {
   "cell_type": "code",
   "execution_count": 69,
   "metadata": {},
   "outputs": [
    {
     "data": {
      "text/plain": [
       "count    28315.000000\n",
       "mean        13.496733\n",
       "std          5.634942\n",
       "min          0.000000\n",
       "25%         10.000000\n",
       "50%         14.000000\n",
       "75%         18.000000\n",
       "max         23.000000\n",
       "Name: franja_hora, dtype: float64"
      ]
     },
     "execution_count": 69,
     "metadata": {},
     "output_type": "execute_result"
    }
   ],
   "source": [
    "# Convertir la columna de franja_horaria a entero\n",
    "df_accidentes[\"franja_hora\"] = df_accidentes[\"franja_hora\"].astype(np.int8)\n",
    "df_accidentes[\"franja_hora\"].describe()"
   ]
  },
  {
   "cell_type": "code",
   "execution_count": 70,
   "metadata": {},
   "outputs": [
    {
     "data": {
      "text/plain": [
       "count                   28315\n",
       "unique                   1695\n",
       "top       2021-12-17 00:00:00\n",
       "freq                       79\n",
       "Name: fecha, dtype: object"
      ]
     },
     "execution_count": 70,
     "metadata": {},
     "output_type": "execute_result"
    }
   ],
   "source": [
    "# Revisar la columna fecha\n",
    "df_accidentes[\"fecha\"].describe()"
   ]
  },
  {
   "cell_type": "code",
   "execution_count": 71,
   "metadata": {},
   "outputs": [
    {
     "data": {
      "text/plain": [
       "0"
      ]
     },
     "execution_count": 71,
     "metadata": {},
     "output_type": "execute_result"
    }
   ],
   "source": [
    "# Contar los nulos\n",
    "df_accidentes[\"fecha\"].isnull().sum()"
   ]
  },
  {
   "cell_type": "code",
   "execution_count": 85,
   "metadata": {},
   "outputs": [],
   "source": [
    "# Pasar a fecha los valores de la columna fecha\n",
    "df_accidentes[\"fecha\"] = pd.to_datetime(df_accidentes[\"fecha\"], format='mixed')"
   ]
  },
  {
   "cell_type": "code",
   "execution_count": 86,
   "metadata": {},
   "outputs": [],
   "source": [
    "# Normalizar los valores al formato que me agrade\n",
    "df_accidentes[\"fecha\"] = df_accidentes[\"fecha\"].dt.strftime(\"%Y-%m-%d\")"
   ]
  },
  {
   "cell_type": "code",
   "execution_count": 91,
   "metadata": {},
   "outputs": [
    {
     "data": {
      "text/plain": [
       "count          28315\n",
       "unique          1446\n",
       "top       2021-12-17\n",
       "freq              79\n",
       "Name: fecha, dtype: object"
      ]
     },
     "execution_count": 91,
     "metadata": {},
     "output_type": "execute_result"
    }
   ],
   "source": [
    "df_accidentes[\"fecha\"].describe()"
   ]
  },
  {
   "cell_type": "code",
   "execution_count": 88,
   "metadata": {},
   "outputs": [
    {
     "data": {
      "text/plain": [
       "0"
      ]
     },
     "execution_count": 88,
     "metadata": {},
     "output_type": "execute_result"
    }
   ],
   "source": [
    "df_accidentes[\"fecha\"].isnull().sum()"
   ]
  },
  {
   "cell_type": "code",
   "execution_count": 93,
   "metadata": {},
   "outputs": [
    {
     "data": {
      "text/plain": [
       "<bound method Series.info of 0        2016-01-01\n",
       "1        2016-01-02\n",
       "2        2016-01-03\n",
       "3        2016-01-10\n",
       "4        2016-01-21\n",
       "            ...    \n",
       "28310    2021-12-31\n",
       "28311    2021-12-31\n",
       "28312    2021-12-31\n",
       "28313    2021-12-31\n",
       "28314    2020-05-17\n",
       "Name: fecha, Length: 28315, dtype: object>"
      ]
     },
     "execution_count": 93,
     "metadata": {},
     "output_type": "execute_result"
    }
   ],
   "source": [
    "# Revisar la columna fecha\n",
    "df_accidentes[\"fecha\"].info"
   ]
  },
  {
   "cell_type": "markdown",
   "metadata": {},
   "source": [
    "Por último voy a borrar las columnas con la fecha dividida y con la hora."
   ]
  },
  {
   "cell_type": "code",
   "execution_count": 94,
   "metadata": {},
   "outputs": [
    {
     "data": {
      "text/plain": [
       "Index(['id', 'n_victimas', 'fecha', 'aaaa', 'mm', 'dd', 'hora', 'franja_hora',\n",
       "       'direccion', 'tipo_calle', 'calle', 'altura', 'cruce',\n",
       "       'direccion_normalizada', 'comuna', 'geocodificacion_CABA', 'longitud',\n",
       "       'latitud', 'participantes', 'victima', 'acusado', 'rol',\n",
       "       'vehiculo_victima', 'sexo', 'edad', 'gravedad', 'moto', 'auto',\n",
       "       'transporte_publico', 'camion', 'ciclista'],\n",
       "      dtype='object')"
      ]
     },
     "execution_count": 94,
     "metadata": {},
     "output_type": "execute_result"
    }
   ],
   "source": [
    "df_accidentes.columns"
   ]
  },
  {
   "cell_type": "code",
   "execution_count": 95,
   "metadata": {},
   "outputs": [],
   "source": [
    "# Eliminar las columnas que ya no se necesitan\n",
    "columnas_eliminar = [\"aaaa\", \"mm\", \"dd\", \"hora\"]\n",
    "df_accidentes = df_accidentes.drop(columnas_eliminar,axis=1)"
   ]
  },
  {
   "cell_type": "code",
   "execution_count": 96,
   "metadata": {},
   "outputs": [
    {
     "data": {
      "text/plain": [
       "Index(['id', 'n_victimas', 'fecha', 'franja_hora', 'direccion', 'tipo_calle',\n",
       "       'calle', 'altura', 'cruce', 'direccion_normalizada', 'comuna',\n",
       "       'geocodificacion_CABA', 'longitud', 'latitud', 'participantes',\n",
       "       'victima', 'acusado', 'rol', 'vehiculo_victima', 'sexo', 'edad',\n",
       "       'gravedad', 'moto', 'auto', 'transporte_publico', 'camion', 'ciclista'],\n",
       "      dtype='object')"
      ]
     },
     "execution_count": 96,
     "metadata": {},
     "output_type": "execute_result"
    }
   ],
   "source": [
    "df_accidentes.columns"
   ]
  },
  {
   "cell_type": "code",
   "execution_count": 97,
   "metadata": {},
   "outputs": [],
   "source": [
    "# Guardar el csv parcial\n",
    "df_accidentes.to_csv(\"accidentes_parcial.csv\", index=False)"
   ]
  },
  {
   "cell_type": "markdown",
   "metadata": {},
   "source": [
    "# Número de Víctimas"
   ]
  },
  {
   "cell_type": "code",
   "execution_count": 99,
   "metadata": {},
   "outputs": [],
   "source": [
    "# Cargar el csv\n",
    "df_accidentes = pd.read_csv(\"accidentes_parcial.csv\")"
   ]
  },
  {
   "cell_type": "code",
   "execution_count": 100,
   "metadata": {},
   "outputs": [
    {
     "data": {
      "text/plain": [
       "count    28315.000000\n",
       "mean         1.413350\n",
       "std          1.076277\n",
       "min          1.000000\n",
       "25%          1.000000\n",
       "50%          1.000000\n",
       "75%          1.000000\n",
       "max         16.000000\n",
       "Name: n_victimas, dtype: float64"
      ]
     },
     "execution_count": 100,
     "metadata": {},
     "output_type": "execute_result"
    }
   ],
   "source": [
    "# Revisar la columna n_victimas\n",
    "df_accidentes[\"n_victimas\"].describe()"
   ]
  },
  {
   "cell_type": "code",
   "execution_count": 101,
   "metadata": {},
   "outputs": [
    {
     "data": {
      "text/plain": [
       "n_victimas\n",
       "1     21707\n",
       "2      4286\n",
       "3      1200\n",
       "4       472\n",
       "5       330\n",
       "6       126\n",
       "8        80\n",
       "7        42\n",
       "10       40\n",
       "16       32\n",
       "Name: count, dtype: int64"
      ]
     },
     "execution_count": 101,
     "metadata": {},
     "output_type": "execute_result"
    }
   ],
   "source": [
    "# Contar los valores distintos de n_victimas\n",
    "df_accidentes[\"n_victimas\"].value_counts()"
   ]
  },
  {
   "cell_type": "code",
   "execution_count": 102,
   "metadata": {},
   "outputs": [
    {
     "data": {
      "text/plain": [
       "id\n",
       "LC-2019-0291069    16\n",
       "LC-2019-0188476    16\n",
       "LC-2021-0137640    10\n",
       "LC-2019-0049800    10\n",
       "LC-2019-0428120    10\n",
       "                   ..\n",
       "LC-2019-0616801     1\n",
       "LC-2019-0616592     1\n",
       "LC-2019-0635165     1\n",
       "LC-2019-0616529     1\n",
       "LC-2020-0244615     1\n",
       "Name: count, Length: 24477, dtype: int64"
      ]
     },
     "execution_count": 102,
     "metadata": {},
     "output_type": "execute_result"
    }
   ],
   "source": [
    "# Contar los valores distintos de id\n",
    "df_accidentes[\"id\"].value_counts()"
   ]
  },
  {
   "cell_type": "code",
   "execution_count": 104,
   "metadata": {},
   "outputs": [
    {
     "data": {
      "text/html": [
       "<div>\n",
       "<style scoped>\n",
       "    .dataframe tbody tr th:only-of-type {\n",
       "        vertical-align: middle;\n",
       "    }\n",
       "\n",
       "    .dataframe tbody tr th {\n",
       "        vertical-align: top;\n",
       "    }\n",
       "\n",
       "    .dataframe thead th {\n",
       "        text-align: right;\n",
       "    }\n",
       "</style>\n",
       "<table border=\"1\" class=\"dataframe\">\n",
       "  <thead>\n",
       "    <tr style=\"text-align: right;\">\n",
       "      <th></th>\n",
       "      <th>id</th>\n",
       "      <th>n_victimas</th>\n",
       "      <th>fecha</th>\n",
       "      <th>franja_hora</th>\n",
       "      <th>direccion</th>\n",
       "      <th>tipo_calle</th>\n",
       "      <th>calle</th>\n",
       "      <th>altura</th>\n",
       "      <th>cruce</th>\n",
       "      <th>direccion_normalizada</th>\n",
       "      <th>...</th>\n",
       "      <th>rol</th>\n",
       "      <th>vehiculo_victima</th>\n",
       "      <th>sexo</th>\n",
       "      <th>edad</th>\n",
       "      <th>gravedad</th>\n",
       "      <th>moto</th>\n",
       "      <th>auto</th>\n",
       "      <th>transporte_publico</th>\n",
       "      <th>camion</th>\n",
       "      <th>ciclista</th>\n",
       "    </tr>\n",
       "  </thead>\n",
       "  <tbody>\n",
       "    <tr>\n",
       "      <th>5172</th>\n",
       "      <td>LC-2019-0291069</td>\n",
       "      <td>16</td>\n",
       "      <td>2019-05-10</td>\n",
       "      <td>7</td>\n",
       "      <td>Goyena, Pedro Av. y Mitre, Emilio 0, Barrio: C...</td>\n",
       "      <td>SD</td>\n",
       "      <td>NaN</td>\n",
       "      <td>NaN</td>\n",
       "      <td>NaN</td>\n",
       "      <td>SD</td>\n",
       "      <td>...</td>\n",
       "      <td>0.0</td>\n",
       "      <td>sd</td>\n",
       "      <td>Varon</td>\n",
       "      <td>SD</td>\n",
       "      <td>SD</td>\n",
       "      <td>SD</td>\n",
       "      <td>SD</td>\n",
       "      <td>x</td>\n",
       "      <td>SD</td>\n",
       "      <td>SD</td>\n",
       "    </tr>\n",
       "    <tr>\n",
       "      <th>5173</th>\n",
       "      <td>LC-2019-0291069</td>\n",
       "      <td>16</td>\n",
       "      <td>2019-05-10</td>\n",
       "      <td>7</td>\n",
       "      <td>Goyena, Pedro Av. y Mitre, Emilio 0, Barrio: C...</td>\n",
       "      <td>SD</td>\n",
       "      <td>NaN</td>\n",
       "      <td>NaN</td>\n",
       "      <td>NaN</td>\n",
       "      <td>SD</td>\n",
       "      <td>...</td>\n",
       "      <td>0.0</td>\n",
       "      <td>sd</td>\n",
       "      <td>Varon</td>\n",
       "      <td>SD</td>\n",
       "      <td>SD</td>\n",
       "      <td>SD</td>\n",
       "      <td>SD</td>\n",
       "      <td>x</td>\n",
       "      <td>SD</td>\n",
       "      <td>SD</td>\n",
       "    </tr>\n",
       "    <tr>\n",
       "      <th>5174</th>\n",
       "      <td>LC-2019-0291069</td>\n",
       "      <td>16</td>\n",
       "      <td>2019-05-10</td>\n",
       "      <td>7</td>\n",
       "      <td>Goyena, Pedro Av. y Mitre, Emilio 0, Barrio: C...</td>\n",
       "      <td>SD</td>\n",
       "      <td>NaN</td>\n",
       "      <td>NaN</td>\n",
       "      <td>NaN</td>\n",
       "      <td>SD</td>\n",
       "      <td>...</td>\n",
       "      <td>0.0</td>\n",
       "      <td>sd</td>\n",
       "      <td>Varon</td>\n",
       "      <td>54</td>\n",
       "      <td>SD</td>\n",
       "      <td>SD</td>\n",
       "      <td>SD</td>\n",
       "      <td>x</td>\n",
       "      <td>SD</td>\n",
       "      <td>SD</td>\n",
       "    </tr>\n",
       "    <tr>\n",
       "      <th>5175</th>\n",
       "      <td>LC-2019-0291069</td>\n",
       "      <td>16</td>\n",
       "      <td>2019-05-10</td>\n",
       "      <td>7</td>\n",
       "      <td>Goyena, Pedro Av. y Mitre, Emilio 0, Barrio: C...</td>\n",
       "      <td>SD</td>\n",
       "      <td>NaN</td>\n",
       "      <td>NaN</td>\n",
       "      <td>NaN</td>\n",
       "      <td>SD</td>\n",
       "      <td>...</td>\n",
       "      <td>0.0</td>\n",
       "      <td>sd</td>\n",
       "      <td>Varon</td>\n",
       "      <td>35</td>\n",
       "      <td>SD</td>\n",
       "      <td>SD</td>\n",
       "      <td>SD</td>\n",
       "      <td>x</td>\n",
       "      <td>SD</td>\n",
       "      <td>SD</td>\n",
       "    </tr>\n",
       "    <tr>\n",
       "      <th>5176</th>\n",
       "      <td>LC-2019-0291069</td>\n",
       "      <td>16</td>\n",
       "      <td>2019-05-10</td>\n",
       "      <td>7</td>\n",
       "      <td>Goyena, Pedro Av. y Mitre, Emilio 0, Barrio: C...</td>\n",
       "      <td>SD</td>\n",
       "      <td>NaN</td>\n",
       "      <td>NaN</td>\n",
       "      <td>NaN</td>\n",
       "      <td>SD</td>\n",
       "      <td>...</td>\n",
       "      <td>0.0</td>\n",
       "      <td>sd</td>\n",
       "      <td>Varon</td>\n",
       "      <td>63</td>\n",
       "      <td>SD</td>\n",
       "      <td>SD</td>\n",
       "      <td>SD</td>\n",
       "      <td>x</td>\n",
       "      <td>SD</td>\n",
       "      <td>SD</td>\n",
       "    </tr>\n",
       "    <tr>\n",
       "      <th>5177</th>\n",
       "      <td>LC-2019-0291069</td>\n",
       "      <td>16</td>\n",
       "      <td>2019-05-10</td>\n",
       "      <td>7</td>\n",
       "      <td>Goyena, Pedro Av. y Mitre, Emilio 0, Barrio: C...</td>\n",
       "      <td>SD</td>\n",
       "      <td>NaN</td>\n",
       "      <td>NaN</td>\n",
       "      <td>NaN</td>\n",
       "      <td>SD</td>\n",
       "      <td>...</td>\n",
       "      <td>0.0</td>\n",
       "      <td>sd</td>\n",
       "      <td>Varon</td>\n",
       "      <td>22</td>\n",
       "      <td>SD</td>\n",
       "      <td>SD</td>\n",
       "      <td>SD</td>\n",
       "      <td>x</td>\n",
       "      <td>SD</td>\n",
       "      <td>SD</td>\n",
       "    </tr>\n",
       "    <tr>\n",
       "      <th>5178</th>\n",
       "      <td>LC-2019-0291069</td>\n",
       "      <td>16</td>\n",
       "      <td>2019-05-10</td>\n",
       "      <td>7</td>\n",
       "      <td>Goyena, Pedro Av. y Mitre, Emilio 0, Barrio: C...</td>\n",
       "      <td>SD</td>\n",
       "      <td>NaN</td>\n",
       "      <td>NaN</td>\n",
       "      <td>NaN</td>\n",
       "      <td>SD</td>\n",
       "      <td>...</td>\n",
       "      <td>0.0</td>\n",
       "      <td>sd</td>\n",
       "      <td>Mujer</td>\n",
       "      <td>22</td>\n",
       "      <td>SD</td>\n",
       "      <td>SD</td>\n",
       "      <td>SD</td>\n",
       "      <td>x</td>\n",
       "      <td>SD</td>\n",
       "      <td>SD</td>\n",
       "    </tr>\n",
       "    <tr>\n",
       "      <th>5179</th>\n",
       "      <td>LC-2019-0291069</td>\n",
       "      <td>16</td>\n",
       "      <td>2019-05-10</td>\n",
       "      <td>7</td>\n",
       "      <td>Goyena, Pedro Av. y Mitre, Emilio 0, Barrio: C...</td>\n",
       "      <td>SD</td>\n",
       "      <td>NaN</td>\n",
       "      <td>NaN</td>\n",
       "      <td>NaN</td>\n",
       "      <td>SD</td>\n",
       "      <td>...</td>\n",
       "      <td>0.0</td>\n",
       "      <td>sd</td>\n",
       "      <td>Mujer</td>\n",
       "      <td>30</td>\n",
       "      <td>SD</td>\n",
       "      <td>SD</td>\n",
       "      <td>SD</td>\n",
       "      <td>x</td>\n",
       "      <td>SD</td>\n",
       "      <td>SD</td>\n",
       "    </tr>\n",
       "    <tr>\n",
       "      <th>5180</th>\n",
       "      <td>LC-2019-0291069</td>\n",
       "      <td>16</td>\n",
       "      <td>2019-05-10</td>\n",
       "      <td>7</td>\n",
       "      <td>Goyena, Pedro Av. y Mitre, Emilio 0, Barrio: C...</td>\n",
       "      <td>SD</td>\n",
       "      <td>NaN</td>\n",
       "      <td>NaN</td>\n",
       "      <td>NaN</td>\n",
       "      <td>SD</td>\n",
       "      <td>...</td>\n",
       "      <td>0.0</td>\n",
       "      <td>sd</td>\n",
       "      <td>Mujer</td>\n",
       "      <td>39</td>\n",
       "      <td>SD</td>\n",
       "      <td>SD</td>\n",
       "      <td>SD</td>\n",
       "      <td>x</td>\n",
       "      <td>SD</td>\n",
       "      <td>SD</td>\n",
       "    </tr>\n",
       "    <tr>\n",
       "      <th>5181</th>\n",
       "      <td>LC-2019-0291069</td>\n",
       "      <td>16</td>\n",
       "      <td>2019-05-10</td>\n",
       "      <td>7</td>\n",
       "      <td>Goyena, Pedro Av. y Mitre, Emilio 0, Barrio: C...</td>\n",
       "      <td>SD</td>\n",
       "      <td>NaN</td>\n",
       "      <td>NaN</td>\n",
       "      <td>NaN</td>\n",
       "      <td>SD</td>\n",
       "      <td>...</td>\n",
       "      <td>0.0</td>\n",
       "      <td>sd</td>\n",
       "      <td>Mujer</td>\n",
       "      <td>SD</td>\n",
       "      <td>SD</td>\n",
       "      <td>SD</td>\n",
       "      <td>SD</td>\n",
       "      <td>x</td>\n",
       "      <td>SD</td>\n",
       "      <td>SD</td>\n",
       "    </tr>\n",
       "    <tr>\n",
       "      <th>5182</th>\n",
       "      <td>LC-2019-0291069</td>\n",
       "      <td>16</td>\n",
       "      <td>2019-05-10</td>\n",
       "      <td>7</td>\n",
       "      <td>Goyena, Pedro Av. y Mitre, Emilio 0, Barrio: C...</td>\n",
       "      <td>SD</td>\n",
       "      <td>NaN</td>\n",
       "      <td>NaN</td>\n",
       "      <td>NaN</td>\n",
       "      <td>SD</td>\n",
       "      <td>...</td>\n",
       "      <td>0.0</td>\n",
       "      <td>sd</td>\n",
       "      <td>Mujer</td>\n",
       "      <td>SD</td>\n",
       "      <td>SD</td>\n",
       "      <td>SD</td>\n",
       "      <td>SD</td>\n",
       "      <td>x</td>\n",
       "      <td>SD</td>\n",
       "      <td>SD</td>\n",
       "    </tr>\n",
       "    <tr>\n",
       "      <th>5183</th>\n",
       "      <td>LC-2019-0291069</td>\n",
       "      <td>16</td>\n",
       "      <td>2019-05-10</td>\n",
       "      <td>7</td>\n",
       "      <td>Goyena, Pedro Av. y Mitre, Emilio 0, Barrio: C...</td>\n",
       "      <td>SD</td>\n",
       "      <td>NaN</td>\n",
       "      <td>NaN</td>\n",
       "      <td>NaN</td>\n",
       "      <td>SD</td>\n",
       "      <td>...</td>\n",
       "      <td>0.0</td>\n",
       "      <td>sd</td>\n",
       "      <td>Mujer</td>\n",
       "      <td>SD</td>\n",
       "      <td>SD</td>\n",
       "      <td>SD</td>\n",
       "      <td>SD</td>\n",
       "      <td>x</td>\n",
       "      <td>SD</td>\n",
       "      <td>SD</td>\n",
       "    </tr>\n",
       "    <tr>\n",
       "      <th>5184</th>\n",
       "      <td>LC-2019-0291069</td>\n",
       "      <td>16</td>\n",
       "      <td>2019-05-10</td>\n",
       "      <td>7</td>\n",
       "      <td>Goyena, Pedro Av. y Mitre, Emilio 0, Barrio: C...</td>\n",
       "      <td>SD</td>\n",
       "      <td>NaN</td>\n",
       "      <td>NaN</td>\n",
       "      <td>NaN</td>\n",
       "      <td>SD</td>\n",
       "      <td>...</td>\n",
       "      <td>0.0</td>\n",
       "      <td>sd</td>\n",
       "      <td>Mujer</td>\n",
       "      <td>41</td>\n",
       "      <td>SD</td>\n",
       "      <td>SD</td>\n",
       "      <td>SD</td>\n",
       "      <td>x</td>\n",
       "      <td>SD</td>\n",
       "      <td>SD</td>\n",
       "    </tr>\n",
       "    <tr>\n",
       "      <th>5185</th>\n",
       "      <td>LC-2019-0291069</td>\n",
       "      <td>16</td>\n",
       "      <td>2019-05-10</td>\n",
       "      <td>7</td>\n",
       "      <td>Goyena, Pedro Av. y Mitre, Emilio 0, Barrio: C...</td>\n",
       "      <td>SD</td>\n",
       "      <td>NaN</td>\n",
       "      <td>NaN</td>\n",
       "      <td>NaN</td>\n",
       "      <td>SD</td>\n",
       "      <td>...</td>\n",
       "      <td>0.0</td>\n",
       "      <td>sd</td>\n",
       "      <td>Varon</td>\n",
       "      <td>SD</td>\n",
       "      <td>SD</td>\n",
       "      <td>SD</td>\n",
       "      <td>SD</td>\n",
       "      <td>x</td>\n",
       "      <td>SD</td>\n",
       "      <td>SD</td>\n",
       "    </tr>\n",
       "    <tr>\n",
       "      <th>5186</th>\n",
       "      <td>LC-2019-0291069</td>\n",
       "      <td>16</td>\n",
       "      <td>2019-05-10</td>\n",
       "      <td>7</td>\n",
       "      <td>Goyena, Pedro Av. y Mitre, Emilio 0, Barrio: C...</td>\n",
       "      <td>SD</td>\n",
       "      <td>NaN</td>\n",
       "      <td>NaN</td>\n",
       "      <td>NaN</td>\n",
       "      <td>SD</td>\n",
       "      <td>...</td>\n",
       "      <td>0.0</td>\n",
       "      <td>sd</td>\n",
       "      <td>Mujer</td>\n",
       "      <td>SD</td>\n",
       "      <td>SD</td>\n",
       "      <td>SD</td>\n",
       "      <td>SD</td>\n",
       "      <td>x</td>\n",
       "      <td>SD</td>\n",
       "      <td>SD</td>\n",
       "    </tr>\n",
       "    <tr>\n",
       "      <th>5187</th>\n",
       "      <td>LC-2019-0291069</td>\n",
       "      <td>16</td>\n",
       "      <td>2019-05-10</td>\n",
       "      <td>7</td>\n",
       "      <td>Goyena, Pedro Av. y Mitre, Emilio 0, Barrio: C...</td>\n",
       "      <td>SD</td>\n",
       "      <td>NaN</td>\n",
       "      <td>NaN</td>\n",
       "      <td>NaN</td>\n",
       "      <td>SD</td>\n",
       "      <td>...</td>\n",
       "      <td>0.0</td>\n",
       "      <td>sd</td>\n",
       "      <td>Varon</td>\n",
       "      <td>44</td>\n",
       "      <td>SD</td>\n",
       "      <td>SD</td>\n",
       "      <td>SD</td>\n",
       "      <td>x</td>\n",
       "      <td>SD</td>\n",
       "      <td>SD</td>\n",
       "    </tr>\n",
       "  </tbody>\n",
       "</table>\n",
       "<p>16 rows × 27 columns</p>\n",
       "</div>"
      ],
      "text/plain": [
       "                   id  n_victimas       fecha  franja_hora  \\\n",
       "5172  LC-2019-0291069          16  2019-05-10            7   \n",
       "5173  LC-2019-0291069          16  2019-05-10            7   \n",
       "5174  LC-2019-0291069          16  2019-05-10            7   \n",
       "5175  LC-2019-0291069          16  2019-05-10            7   \n",
       "5176  LC-2019-0291069          16  2019-05-10            7   \n",
       "5177  LC-2019-0291069          16  2019-05-10            7   \n",
       "5178  LC-2019-0291069          16  2019-05-10            7   \n",
       "5179  LC-2019-0291069          16  2019-05-10            7   \n",
       "5180  LC-2019-0291069          16  2019-05-10            7   \n",
       "5181  LC-2019-0291069          16  2019-05-10            7   \n",
       "5182  LC-2019-0291069          16  2019-05-10            7   \n",
       "5183  LC-2019-0291069          16  2019-05-10            7   \n",
       "5184  LC-2019-0291069          16  2019-05-10            7   \n",
       "5185  LC-2019-0291069          16  2019-05-10            7   \n",
       "5186  LC-2019-0291069          16  2019-05-10            7   \n",
       "5187  LC-2019-0291069          16  2019-05-10            7   \n",
       "\n",
       "                                              direccion tipo_calle calle  \\\n",
       "5172  Goyena, Pedro Av. y Mitre, Emilio 0, Barrio: C...         SD   NaN   \n",
       "5173  Goyena, Pedro Av. y Mitre, Emilio 0, Barrio: C...         SD   NaN   \n",
       "5174  Goyena, Pedro Av. y Mitre, Emilio 0, Barrio: C...         SD   NaN   \n",
       "5175  Goyena, Pedro Av. y Mitre, Emilio 0, Barrio: C...         SD   NaN   \n",
       "5176  Goyena, Pedro Av. y Mitre, Emilio 0, Barrio: C...         SD   NaN   \n",
       "5177  Goyena, Pedro Av. y Mitre, Emilio 0, Barrio: C...         SD   NaN   \n",
       "5178  Goyena, Pedro Av. y Mitre, Emilio 0, Barrio: C...         SD   NaN   \n",
       "5179  Goyena, Pedro Av. y Mitre, Emilio 0, Barrio: C...         SD   NaN   \n",
       "5180  Goyena, Pedro Av. y Mitre, Emilio 0, Barrio: C...         SD   NaN   \n",
       "5181  Goyena, Pedro Av. y Mitre, Emilio 0, Barrio: C...         SD   NaN   \n",
       "5182  Goyena, Pedro Av. y Mitre, Emilio 0, Barrio: C...         SD   NaN   \n",
       "5183  Goyena, Pedro Av. y Mitre, Emilio 0, Barrio: C...         SD   NaN   \n",
       "5184  Goyena, Pedro Av. y Mitre, Emilio 0, Barrio: C...         SD   NaN   \n",
       "5185  Goyena, Pedro Av. y Mitre, Emilio 0, Barrio: C...         SD   NaN   \n",
       "5186  Goyena, Pedro Av. y Mitre, Emilio 0, Barrio: C...         SD   NaN   \n",
       "5187  Goyena, Pedro Av. y Mitre, Emilio 0, Barrio: C...         SD   NaN   \n",
       "\n",
       "      altura cruce direccion_normalizada  ...  rol vehiculo_victima   sexo  \\\n",
       "5172     NaN   NaN                    SD  ...  0.0               sd  Varon   \n",
       "5173     NaN   NaN                    SD  ...  0.0               sd  Varon   \n",
       "5174     NaN   NaN                    SD  ...  0.0               sd  Varon   \n",
       "5175     NaN   NaN                    SD  ...  0.0               sd  Varon   \n",
       "5176     NaN   NaN                    SD  ...  0.0               sd  Varon   \n",
       "5177     NaN   NaN                    SD  ...  0.0               sd  Varon   \n",
       "5178     NaN   NaN                    SD  ...  0.0               sd  Mujer   \n",
       "5179     NaN   NaN                    SD  ...  0.0               sd  Mujer   \n",
       "5180     NaN   NaN                    SD  ...  0.0               sd  Mujer   \n",
       "5181     NaN   NaN                    SD  ...  0.0               sd  Mujer   \n",
       "5182     NaN   NaN                    SD  ...  0.0               sd  Mujer   \n",
       "5183     NaN   NaN                    SD  ...  0.0               sd  Mujer   \n",
       "5184     NaN   NaN                    SD  ...  0.0               sd  Mujer   \n",
       "5185     NaN   NaN                    SD  ...  0.0               sd  Varon   \n",
       "5186     NaN   NaN                    SD  ...  0.0               sd  Mujer   \n",
       "5187     NaN   NaN                    SD  ...  0.0               sd  Varon   \n",
       "\n",
       "     edad gravedad moto auto transporte_publico camion ciclista  \n",
       "5172   SD       SD   SD   SD                  x     SD       SD  \n",
       "5173   SD       SD   SD   SD                  x     SD       SD  \n",
       "5174   54       SD   SD   SD                  x     SD       SD  \n",
       "5175   35       SD   SD   SD                  x     SD       SD  \n",
       "5176   63       SD   SD   SD                  x     SD       SD  \n",
       "5177   22       SD   SD   SD                  x     SD       SD  \n",
       "5178   22       SD   SD   SD                  x     SD       SD  \n",
       "5179   30       SD   SD   SD                  x     SD       SD  \n",
       "5180   39       SD   SD   SD                  x     SD       SD  \n",
       "5181   SD       SD   SD   SD                  x     SD       SD  \n",
       "5182   SD       SD   SD   SD                  x     SD       SD  \n",
       "5183   SD       SD   SD   SD                  x     SD       SD  \n",
       "5184   41       SD   SD   SD                  x     SD       SD  \n",
       "5185   SD       SD   SD   SD                  x     SD       SD  \n",
       "5186   SD       SD   SD   SD                  x     SD       SD  \n",
       "5187   44       SD   SD   SD                  x     SD       SD  \n",
       "\n",
       "[16 rows x 27 columns]"
      ]
     },
     "execution_count": 104,
     "metadata": {},
     "output_type": "execute_result"
    }
   ],
   "source": [
    "# Reviso el id puntual para ver que está pasando\n",
    "df_accidentes[df_accidentes[\"id\"] == \"LC-2019-0291069\"]"
   ]
  },
  {
   "cell_type": "markdown",
   "metadata": {},
   "source": [
    "#### Como realicé la unión de los datos, hay registros duplicados en las columnas con datos globales sobre el accidente.\n",
    "\n",
    "#### No voy a hacer cambios sobre estos datos, pero debo recordar que si quiero obtener el número de víctimas para una categoría debo sumar registros y no sumar la columna de n_victimas."
   ]
  },
  {
   "cell_type": "markdown",
   "metadata": {},
   "source": [
    "# Dirección / Ubicación Geográfica"
   ]
  },
  {
   "cell_type": "code",
   "execution_count": 105,
   "metadata": {},
   "outputs": [],
   "source": [
    "# Cargar el csv\n",
    "df_accidentes = pd.read_csv(\"accidentes_parcial.csv\")"
   ]
  },
  {
   "cell_type": "code",
   "execution_count": 108,
   "metadata": {},
   "outputs": [
    {
     "data": {
      "text/plain": [
       "0      Point (98896.78238426 93532.43437792)\n",
       "1      Point (95832.05571093 95505.41641999)\n",
       "2     Point (106684.29090040 99706.57687843)\n",
       "3      Point (99840.65224780 94269.16534422)\n",
       "4    Point (106980.32827929 100752.16915795)\n",
       "Name: geocodificacion_CABA, dtype: object"
      ]
     },
     "execution_count": 108,
     "metadata": {},
     "output_type": "execute_result"
    }
   ],
   "source": [
    "# Reviso que datos hay en la columna de codificación\n",
    "df_accidentes[\"geocodificacion_CABA\"].head()"
   ]
  },
  {
   "cell_type": "code",
   "execution_count": 106,
   "metadata": {},
   "outputs": [
    {
     "data": {
      "text/plain": [
       "Index(['id', 'n_victimas', 'fecha', 'franja_hora', 'direccion', 'tipo_calle',\n",
       "       'calle', 'altura', 'cruce', 'direccion_normalizada', 'comuna',\n",
       "       'geocodificacion_CABA', 'longitud', 'latitud', 'participantes',\n",
       "       'victima', 'acusado', 'rol', 'vehiculo_victima', 'sexo', 'edad',\n",
       "       'gravedad', 'moto', 'auto', 'transporte_publico', 'camion', 'ciclista'],\n",
       "      dtype='object')"
      ]
     },
     "execution_count": 106,
     "metadata": {},
     "output_type": "execute_result"
    }
   ],
   "source": [
    "df_accidentes.columns"
   ]
  },
  {
   "cell_type": "markdown",
   "metadata": {},
   "source": [
    "De todas las columnas con información sobre el lugar del hecho, me voy a quedar con \"tipo_calle\", \"direccion_normalizada\", \"comuna\", \"latitud\" y \"longitud\"."
   ]
  },
  {
   "cell_type": "code",
   "execution_count": 109,
   "metadata": {},
   "outputs": [
    {
     "data": {
      "text/plain": [
       "tipo_calle\n",
       "SD           12879\n",
       "AVENIDA       8251\n",
       "CALLE         6323\n",
       "GRAL PAZ       745\n",
       "AUTOPISTA      117\n",
       "Name: count, dtype: int64"
      ]
     },
     "execution_count": 109,
     "metadata": {},
     "output_type": "execute_result"
    }
   ],
   "source": [
    "df_accidentes[\"tipo_calle\"].value_counts()"
   ]
  },
  {
   "cell_type": "code",
   "execution_count": 110,
   "metadata": {},
   "outputs": [
    {
     "data": {
      "text/plain": [
       "0"
      ]
     },
     "execution_count": 110,
     "metadata": {},
     "output_type": "execute_result"
    }
   ],
   "source": [
    "df_accidentes[\"tipo_calle\"].isna().sum()"
   ]
  },
  {
   "cell_type": "markdown",
   "metadata": {},
   "source": [
    "tipo_calle está OK"
   ]
  },
  {
   "cell_type": "code",
   "execution_count": 113,
   "metadata": {},
   "outputs": [
    {
     "data": {
      "text/plain": [
       "count     28253\n",
       "unique     9261\n",
       "top          SD\n",
       "freq      12643\n",
       "Name: direccion_normalizada, dtype: object"
      ]
     },
     "execution_count": 113,
     "metadata": {},
     "output_type": "execute_result"
    }
   ],
   "source": [
    "df_accidentes[\"direccion_normalizada\"].describe()"
   ]
  },
  {
   "cell_type": "code",
   "execution_count": 114,
   "metadata": {},
   "outputs": [
    {
     "data": {
      "text/plain": [
       "62"
      ]
     },
     "execution_count": 114,
     "metadata": {},
     "output_type": "execute_result"
    }
   ],
   "source": [
    "df_accidentes[\"direccion_normalizada\"].isna().sum()"
   ]
  },
  {
   "cell_type": "code",
   "execution_count": 115,
   "metadata": {},
   "outputs": [
    {
     "data": {
      "text/plain": [
       "0"
      ]
     },
     "execution_count": 115,
     "metadata": {},
     "output_type": "execute_result"
    }
   ],
   "source": [
    "df_accidentes[\"direccion_normalizada\"].fillna(\"SD\", inplace=True)\n",
    "df_accidentes[\"direccion_normalizada\"].isna().sum()"
   ]
  },
  {
   "cell_type": "markdown",
   "metadata": {},
   "source": [
    "dirección_normalizada está OK"
   ]
  },
  {
   "cell_type": "code",
   "execution_count": 116,
   "metadata": {},
   "outputs": [
    {
     "data": {
      "text/plain": [
       "comuna\n",
       "1                  2931\n",
       "15                 2237\n",
       "4                  2213\n",
       "9                  2150\n",
       "3                  2003\n",
       "14                 1840\n",
       "7                  1817\n",
       "12                 1750\n",
       "11                 1645\n",
       "13                 1590\n",
       "10                 1568\n",
       "8                  1420\n",
       "5                  1400\n",
       "6                  1104\n",
       "2                  1021\n",
       "SD                  936\n",
       "No Especificada     510\n",
       "0                     2\n",
       "Name: count, dtype: int64"
      ]
     },
     "execution_count": 116,
     "metadata": {},
     "output_type": "execute_result"
    }
   ],
   "source": [
    "df_accidentes[\"comuna\"].value_counts()"
   ]
  },
  {
   "cell_type": "code",
   "execution_count": 117,
   "metadata": {},
   "outputs": [
    {
     "data": {
      "text/plain": [
       "178"
      ]
     },
     "execution_count": 117,
     "metadata": {},
     "output_type": "execute_result"
    }
   ],
   "source": [
    "df_accidentes[\"comuna\"].isna().sum()"
   ]
  },
  {
   "cell_type": "markdown",
   "metadata": {},
   "source": [
    "Voy a juntar los valores \"no Especificada\", \"0\" y \"nulos\", todos en \"SD\" "
   ]
  }
 ],
 "metadata": {
  "kernelspec": {
   "display_name": "Python 3",
   "language": "python",
   "name": "python3"
  },
  "language_info": {
   "codemirror_mode": {
    "name": "ipython",
    "version": 3
   },
   "file_extension": ".py",
   "mimetype": "text/x-python",
   "name": "python",
   "nbconvert_exporter": "python",
   "pygments_lexer": "ipython3",
   "version": "3.11.5"
  }
 },
 "nbformat": 4,
 "nbformat_minor": 2
}
