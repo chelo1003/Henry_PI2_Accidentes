{
 "cells": [
  {
   "cell_type": "code",
   "execution_count": 1,
   "metadata": {},
   "outputs": [],
   "source": [
    "# Importar las librerías a utilizar\n",
    "import pandas as pd\n",
    "from datetime import datetime\n",
    "import numpy as np"
   ]
  },
  {
   "cell_type": "code",
   "execution_count": 23,
   "metadata": {},
   "outputs": [
    {
     "data": {
      "text/html": [
       "<div>\n",
       "<style scoped>\n",
       "    .dataframe tbody tr th:only-of-type {\n",
       "        vertical-align: middle;\n",
       "    }\n",
       "\n",
       "    .dataframe tbody tr th {\n",
       "        vertical-align: top;\n",
       "    }\n",
       "\n",
       "    .dataframe thead th {\n",
       "        text-align: right;\n",
       "    }\n",
       "</style>\n",
       "<table border=\"1\" class=\"dataframe\">\n",
       "  <thead>\n",
       "    <tr style=\"text-align: right;\">\n",
       "      <th></th>\n",
       "      <th>id</th>\n",
       "      <th>n_victimas</th>\n",
       "      <th>fecha</th>\n",
       "      <th>aaaa</th>\n",
       "      <th>mm</th>\n",
       "      <th>dd</th>\n",
       "      <th>hora</th>\n",
       "      <th>franja_hora</th>\n",
       "      <th>direccion</th>\n",
       "      <th>tipo_calle</th>\n",
       "      <th>...</th>\n",
       "      <th>rol</th>\n",
       "      <th>vehiculo_victima</th>\n",
       "      <th>sexo</th>\n",
       "      <th>edad</th>\n",
       "      <th>gravedad</th>\n",
       "      <th>moto</th>\n",
       "      <th>auto</th>\n",
       "      <th>transporte_publico</th>\n",
       "      <th>camion</th>\n",
       "      <th>ciclista</th>\n",
       "    </tr>\n",
       "  </thead>\n",
       "  <tbody>\n",
       "    <tr>\n",
       "      <th>0</th>\n",
       "      <td>2016-0001</td>\n",
       "      <td>1</td>\n",
       "      <td>2016-01-01</td>\n",
       "      <td>2016</td>\n",
       "      <td>1</td>\n",
       "      <td>1</td>\n",
       "      <td>04:00:00</td>\n",
       "      <td>4</td>\n",
       "      <td>AV PIEDRA BUENA Y AV FERNANDEZ DE LA CRUZ</td>\n",
       "      <td>AVENIDA</td>\n",
       "      <td>...</td>\n",
       "      <td>CONDUCTOR</td>\n",
       "      <td>MOTO</td>\n",
       "      <td>MASCULINO</td>\n",
       "      <td>19</td>\n",
       "      <td>2016-01-01 00:00:00</td>\n",
       "      <td>5e-324</td>\n",
       "      <td>0.0</td>\n",
       "      <td>0.0</td>\n",
       "      <td>0.0</td>\n",
       "      <td>0.0</td>\n",
       "    </tr>\n",
       "    <tr>\n",
       "      <th>1</th>\n",
       "      <td>2016-0002</td>\n",
       "      <td>1</td>\n",
       "      <td>2016-01-02</td>\n",
       "      <td>2016</td>\n",
       "      <td>1</td>\n",
       "      <td>2</td>\n",
       "      <td>01:15:00</td>\n",
       "      <td>1</td>\n",
       "      <td>AV GRAL PAZ  Y AV DE LOS CORRALES</td>\n",
       "      <td>GRAL PAZ</td>\n",
       "      <td>...</td>\n",
       "      <td>CONDUCTOR</td>\n",
       "      <td>AUTO</td>\n",
       "      <td>MASCULINO</td>\n",
       "      <td>70</td>\n",
       "      <td>2016-01-02 00:00:00</td>\n",
       "      <td>5e-324</td>\n",
       "      <td>0.0</td>\n",
       "      <td>0.0</td>\n",
       "      <td>0.0</td>\n",
       "      <td>0.0</td>\n",
       "    </tr>\n",
       "    <tr>\n",
       "      <th>2</th>\n",
       "      <td>2016-0003</td>\n",
       "      <td>1</td>\n",
       "      <td>2016-01-03</td>\n",
       "      <td>2016</td>\n",
       "      <td>1</td>\n",
       "      <td>3</td>\n",
       "      <td>07:00:00</td>\n",
       "      <td>7</td>\n",
       "      <td>AV ENTRE RIOS 2034</td>\n",
       "      <td>AVENIDA</td>\n",
       "      <td>...</td>\n",
       "      <td>CONDUCTOR</td>\n",
       "      <td>MOTO</td>\n",
       "      <td>MASCULINO</td>\n",
       "      <td>30</td>\n",
       "      <td>2016-01-03 00:00:00</td>\n",
       "      <td>5e-324</td>\n",
       "      <td>0.0</td>\n",
       "      <td>0.0</td>\n",
       "      <td>0.0</td>\n",
       "      <td>0.0</td>\n",
       "    </tr>\n",
       "    <tr>\n",
       "      <th>3</th>\n",
       "      <td>2016-0004</td>\n",
       "      <td>1</td>\n",
       "      <td>2016-01-10</td>\n",
       "      <td>2016</td>\n",
       "      <td>1</td>\n",
       "      <td>10</td>\n",
       "      <td>00:00:00</td>\n",
       "      <td>0</td>\n",
       "      <td>AV LARRAZABAL Y GRAL VILLEGAS CONRADO</td>\n",
       "      <td>AVENIDA</td>\n",
       "      <td>...</td>\n",
       "      <td>CONDUCTOR</td>\n",
       "      <td>MOTO</td>\n",
       "      <td>MASCULINO</td>\n",
       "      <td>18</td>\n",
       "      <td>SD</td>\n",
       "      <td>5e-324</td>\n",
       "      <td>0.0</td>\n",
       "      <td>0.0</td>\n",
       "      <td>0.0</td>\n",
       "      <td>0.0</td>\n",
       "    </tr>\n",
       "    <tr>\n",
       "      <th>4</th>\n",
       "      <td>2016-0005</td>\n",
       "      <td>1</td>\n",
       "      <td>2016-01-21</td>\n",
       "      <td>2016</td>\n",
       "      <td>1</td>\n",
       "      <td>21</td>\n",
       "      <td>05:20:00</td>\n",
       "      <td>5</td>\n",
       "      <td>AV SAN JUAN Y PRESIDENTE LUIS SAENZ PEÑA</td>\n",
       "      <td>AVENIDA</td>\n",
       "      <td>...</td>\n",
       "      <td>CONDUCTOR</td>\n",
       "      <td>MOTO</td>\n",
       "      <td>MASCULINO</td>\n",
       "      <td>29</td>\n",
       "      <td>2016-02-01 00:00:00</td>\n",
       "      <td>5e-324</td>\n",
       "      <td>0.0</td>\n",
       "      <td>0.0</td>\n",
       "      <td>0.0</td>\n",
       "      <td>0.0</td>\n",
       "    </tr>\n",
       "  </tbody>\n",
       "</table>\n",
       "<p>5 rows × 31 columns</p>\n",
       "</div>"
      ],
      "text/plain": [
       "          id  n_victimas       fecha  aaaa  mm  dd      hora franja_hora  \\\n",
       "0  2016-0001           1  2016-01-01  2016   1   1  04:00:00           4   \n",
       "1  2016-0002           1  2016-01-02  2016   1   2  01:15:00           1   \n",
       "2  2016-0003           1  2016-01-03  2016   1   3  07:00:00           7   \n",
       "3  2016-0004           1  2016-01-10  2016   1  10  00:00:00           0   \n",
       "4  2016-0005           1  2016-01-21  2016   1  21  05:20:00           5   \n",
       "\n",
       "                                   direccion tipo_calle  ...        rol  \\\n",
       "0  AV PIEDRA BUENA Y AV FERNANDEZ DE LA CRUZ    AVENIDA  ...  CONDUCTOR   \n",
       "1          AV GRAL PAZ  Y AV DE LOS CORRALES   GRAL PAZ  ...  CONDUCTOR   \n",
       "2                         AV ENTRE RIOS 2034    AVENIDA  ...  CONDUCTOR   \n",
       "3      AV LARRAZABAL Y GRAL VILLEGAS CONRADO    AVENIDA  ...  CONDUCTOR   \n",
       "4  AV SAN JUAN Y PRESIDENTE LUIS SAENZ PEÑA     AVENIDA  ...  CONDUCTOR   \n",
       "\n",
       "   vehiculo_victima       sexo edad             gravedad    moto auto  \\\n",
       "0              MOTO  MASCULINO   19  2016-01-01 00:00:00  5e-324  0.0   \n",
       "1              AUTO  MASCULINO   70  2016-01-02 00:00:00  5e-324  0.0   \n",
       "2              MOTO  MASCULINO   30  2016-01-03 00:00:00  5e-324  0.0   \n",
       "3              MOTO  MASCULINO   18                   SD  5e-324  0.0   \n",
       "4              MOTO  MASCULINO   29  2016-02-01 00:00:00  5e-324  0.0   \n",
       "\n",
       "  transporte_publico camion ciclista  \n",
       "0                0.0    0.0      0.0  \n",
       "1                0.0    0.0      0.0  \n",
       "2                0.0    0.0      0.0  \n",
       "3                0.0    0.0      0.0  \n",
       "4                0.0    0.0      0.0  \n",
       "\n",
       "[5 rows x 31 columns]"
      ]
     },
     "execution_count": 23,
     "metadata": {},
     "output_type": "execute_result"
    }
   ],
   "source": [
    "# Cargar el .csv\n",
    "df_accidentes = pd.read_csv(\"accidentes.csv\")\n",
    "df_accidentes.head()"
   ]
  },
  {
   "cell_type": "markdown",
   "metadata": {},
   "source": [
    "# Fecha y Hora\n",
    "\n",
    "Voy a conservar una columna con la fecha y una con la franja horaria."
   ]
  },
  {
   "cell_type": "code",
   "execution_count": 24,
   "metadata": {},
   "outputs": [
    {
     "data": {
      "text/plain": [
       "count     28310\n",
       "unique       26\n",
       "top          17\n",
       "freq       2032\n",
       "Name: franja_hora, dtype: object"
      ]
     },
     "execution_count": 24,
     "metadata": {},
     "output_type": "execute_result"
    }
   ],
   "source": [
    "# Revisar la columna de franja_horaria\n",
    "df_accidentes[\"franja_hora\"].describe()"
   ]
  },
  {
   "cell_type": "code",
   "execution_count": 25,
   "metadata": {},
   "outputs": [
    {
     "data": {
      "text/plain": [
       "franja_hora\n",
       "17    2032\n",
       "16    2006\n",
       "14    1894\n",
       "13    1857\n",
       "12    1823\n",
       "15    1811\n",
       "18    1808\n",
       "19    1562\n",
       "11    1484\n",
       "20    1360\n",
       "9     1327\n",
       "10    1300\n",
       "8     1265\n",
       "21    1158\n",
       "0      946\n",
       "22     920\n",
       "7      878\n",
       "23     700\n",
       "6      565\n",
       "1      445\n",
       "5      386\n",
       "2      293\n",
       "4      253\n",
       "3      233\n",
       "sd       3\n",
       "SD       1\n",
       "Name: count, dtype: int64"
      ]
     },
     "execution_count": 25,
     "metadata": {},
     "output_type": "execute_result"
    }
   ],
   "source": [
    "# Revisar la distribución de franja_horaria\n",
    "df_accidentes[\"franja_hora\"].value_counts()"
   ]
  },
  {
   "cell_type": "code",
   "execution_count": 26,
   "metadata": {},
   "outputs": [
    {
     "data": {
      "text/plain": [
       "5"
      ]
     },
     "execution_count": 26,
     "metadata": {},
     "output_type": "execute_result"
    }
   ],
   "source": [
    "# Cuento los nulos\n",
    "df_accidentes[\"franja_hora\"].isnull().sum()"
   ]
  },
  {
   "cell_type": "markdown",
   "metadata": {},
   "source": [
    "Tengo 4 valores \"sin datos\" y 5 nulos, voy a asignar los nulos a las 17 (5) los sd a las 16(3) y los SD a las 14 (1)"
   ]
  },
  {
   "cell_type": "code",
   "execution_count": 27,
   "metadata": {},
   "outputs": [
    {
     "data": {
      "text/plain": [
       "count     28315\n",
       "unique       24\n",
       "top          17\n",
       "freq       2037\n",
       "Name: franja_hora, dtype: object"
      ]
     },
     "execution_count": 27,
     "metadata": {},
     "output_type": "execute_result"
    }
   ],
   "source": [
    "df_accidentes[\"franja_hora\"].replace('sd', \"16\", inplace=True)\n",
    "df_accidentes[\"franja_hora\"].replace('SD', \"14\", inplace=True)\n",
    "df_accidentes[\"franja_hora\"].fillna(\"17\", inplace=True)\n",
    "df_accidentes[\"franja_hora\"].describe()"
   ]
  },
  {
   "cell_type": "code",
   "execution_count": 28,
   "metadata": {},
   "outputs": [
    {
     "data": {
      "text/plain": [
       "count    28315.000000\n",
       "mean        13.496733\n",
       "std          5.634942\n",
       "min          0.000000\n",
       "25%         10.000000\n",
       "50%         14.000000\n",
       "75%         18.000000\n",
       "max         23.000000\n",
       "Name: franja_hora, dtype: float64"
      ]
     },
     "execution_count": 28,
     "metadata": {},
     "output_type": "execute_result"
    }
   ],
   "source": [
    "# Convertir la columna de franja_horaria a entero\n",
    "df_accidentes[\"franja_hora\"] = df_accidentes[\"franja_hora\"].astype(np.int8)\n",
    "df_accidentes[\"franja_hora\"].describe()"
   ]
  },
  {
   "cell_type": "code",
   "execution_count": 29,
   "metadata": {},
   "outputs": [
    {
     "data": {
      "text/plain": [
       "count                   28315\n",
       "unique                   1695\n",
       "top       2021-12-17 00:00:00\n",
       "freq                       79\n",
       "Name: fecha, dtype: object"
      ]
     },
     "execution_count": 29,
     "metadata": {},
     "output_type": "execute_result"
    }
   ],
   "source": [
    "# Revisar la columna fecha\n",
    "df_accidentes[\"fecha\"].describe()"
   ]
  },
  {
   "cell_type": "code",
   "execution_count": 30,
   "metadata": {},
   "outputs": [
    {
     "data": {
      "text/plain": [
       "0"
      ]
     },
     "execution_count": 30,
     "metadata": {},
     "output_type": "execute_result"
    }
   ],
   "source": [
    "# Contar los nulos\n",
    "df_accidentes[\"fecha\"].isnull().sum()"
   ]
  },
  {
   "cell_type": "code",
   "execution_count": 31,
   "metadata": {},
   "outputs": [],
   "source": [
    "# Pasar a fecha los valores de la columna fecha\n",
    "df_accidentes[\"fecha\"] = pd.to_datetime(df_accidentes[\"fecha\"], format='mixed')"
   ]
  },
  {
   "cell_type": "code",
   "execution_count": 32,
   "metadata": {},
   "outputs": [],
   "source": [
    "# Normalizar los valores al formato que me agrade\n",
    "df_accidentes[\"fecha\"] = df_accidentes[\"fecha\"].dt.strftime(\"%Y-%m-%d\")"
   ]
  },
  {
   "cell_type": "code",
   "execution_count": 33,
   "metadata": {},
   "outputs": [
    {
     "data": {
      "text/plain": [
       "count          28315\n",
       "unique          1446\n",
       "top       2021-12-17\n",
       "freq              79\n",
       "Name: fecha, dtype: object"
      ]
     },
     "execution_count": 33,
     "metadata": {},
     "output_type": "execute_result"
    }
   ],
   "source": [
    "df_accidentes[\"fecha\"].describe()"
   ]
  },
  {
   "cell_type": "code",
   "execution_count": 34,
   "metadata": {},
   "outputs": [
    {
     "data": {
      "text/plain": [
       "<bound method Series.info of 0        2016-01-01\n",
       "1        2016-01-02\n",
       "2        2016-01-03\n",
       "3        2016-01-10\n",
       "4        2016-01-21\n",
       "            ...    \n",
       "28310    2021-12-31\n",
       "28311    2021-12-31\n",
       "28312    2021-12-31\n",
       "28313    2021-12-31\n",
       "28314    2020-05-17\n",
       "Name: fecha, Length: 28315, dtype: object>"
      ]
     },
     "execution_count": 34,
     "metadata": {},
     "output_type": "execute_result"
    }
   ],
   "source": [
    "# Revisar la columna fecha\n",
    "df_accidentes[\"fecha\"].info"
   ]
  },
  {
   "cell_type": "markdown",
   "metadata": {},
   "source": [
    "Por último voy a borrar las columnas con la fecha dividida y con la hora."
   ]
  },
  {
   "cell_type": "code",
   "execution_count": 35,
   "metadata": {},
   "outputs": [
    {
     "data": {
      "text/plain": [
       "Index(['id', 'n_victimas', 'fecha', 'aaaa', 'mm', 'dd', 'hora', 'franja_hora',\n",
       "       'direccion', 'tipo_calle', 'calle', 'altura', 'cruce',\n",
       "       'direccion_normalizada', 'comuna', 'geocodificacion_CABA', 'longitud',\n",
       "       'latitud', 'participantes', 'victima', 'acusado', 'rol',\n",
       "       'vehiculo_victima', 'sexo', 'edad', 'gravedad', 'moto', 'auto',\n",
       "       'transporte_publico', 'camion', 'ciclista'],\n",
       "      dtype='object')"
      ]
     },
     "execution_count": 35,
     "metadata": {},
     "output_type": "execute_result"
    }
   ],
   "source": [
    "df_accidentes.columns"
   ]
  },
  {
   "cell_type": "code",
   "execution_count": 36,
   "metadata": {},
   "outputs": [],
   "source": [
    "# Eliminar las columnas que ya no se necesitan\n",
    "columnas_eliminar = [\"aaaa\", \"mm\", \"dd\", \"hora\"]\n",
    "df_accidentes.drop(columnas_eliminar, axis=1, inplace=True)"
   ]
  },
  {
   "cell_type": "code",
   "execution_count": 37,
   "metadata": {},
   "outputs": [
    {
     "data": {
      "text/plain": [
       "Index(['id', 'n_victimas', 'fecha', 'franja_hora', 'direccion', 'tipo_calle',\n",
       "       'calle', 'altura', 'cruce', 'direccion_normalizada', 'comuna',\n",
       "       'geocodificacion_CABA', 'longitud', 'latitud', 'participantes',\n",
       "       'victima', 'acusado', 'rol', 'vehiculo_victima', 'sexo', 'edad',\n",
       "       'gravedad', 'moto', 'auto', 'transporte_publico', 'camion', 'ciclista'],\n",
       "      dtype='object')"
      ]
     },
     "execution_count": 37,
     "metadata": {},
     "output_type": "execute_result"
    }
   ],
   "source": [
    "df_accidentes.columns"
   ]
  },
  {
   "cell_type": "code",
   "execution_count": 38,
   "metadata": {},
   "outputs": [],
   "source": [
    "# Guardar el csv parcial\n",
    "df_accidentes.to_csv(\"accidentes_parcial.csv\", index=False)"
   ]
  },
  {
   "cell_type": "markdown",
   "metadata": {},
   "source": [
    "# Número de Víctimas"
   ]
  },
  {
   "cell_type": "code",
   "execution_count": 99,
   "metadata": {},
   "outputs": [],
   "source": [
    "# Cargar el csv\n",
    "df_accidentes = pd.read_csv(\"accidentes_parcial.csv\")"
   ]
  },
  {
   "cell_type": "code",
   "execution_count": 39,
   "metadata": {},
   "outputs": [
    {
     "data": {
      "text/plain": [
       "count    28315.000000\n",
       "mean         1.413350\n",
       "std          1.076277\n",
       "min          1.000000\n",
       "25%          1.000000\n",
       "50%          1.000000\n",
       "75%          1.000000\n",
       "max         16.000000\n",
       "Name: n_victimas, dtype: float64"
      ]
     },
     "execution_count": 39,
     "metadata": {},
     "output_type": "execute_result"
    }
   ],
   "source": [
    "# Revisar la columna n_victimas\n",
    "df_accidentes[\"n_victimas\"].describe()"
   ]
  },
  {
   "cell_type": "code",
   "execution_count": 40,
   "metadata": {},
   "outputs": [
    {
     "data": {
      "text/plain": [
       "n_victimas\n",
       "1     21707\n",
       "2      4286\n",
       "3      1200\n",
       "4       472\n",
       "5       330\n",
       "6       126\n",
       "8        80\n",
       "7        42\n",
       "10       40\n",
       "16       32\n",
       "Name: count, dtype: int64"
      ]
     },
     "execution_count": 40,
     "metadata": {},
     "output_type": "execute_result"
    }
   ],
   "source": [
    "# Contar los valores distintos de n_victimas\n",
    "df_accidentes[\"n_victimas\"].value_counts()"
   ]
  },
  {
   "cell_type": "code",
   "execution_count": 41,
   "metadata": {},
   "outputs": [
    {
     "data": {
      "text/plain": [
       "id\n",
       "LC-2019-0291069    16\n",
       "LC-2019-0188476    16\n",
       "LC-2021-0137640    10\n",
       "LC-2019-0049800    10\n",
       "LC-2019-0428120    10\n",
       "                   ..\n",
       "LC-2019-0616801     1\n",
       "LC-2019-0616592     1\n",
       "LC-2019-0635165     1\n",
       "LC-2019-0616529     1\n",
       "LC-2020-0244615     1\n",
       "Name: count, Length: 24477, dtype: int64"
      ]
     },
     "execution_count": 41,
     "metadata": {},
     "output_type": "execute_result"
    }
   ],
   "source": [
    "# Contar los valores distintos de id\n",
    "df_accidentes[\"id\"].value_counts()"
   ]
  },
  {
   "cell_type": "code",
   "execution_count": 42,
   "metadata": {},
   "outputs": [
    {
     "data": {
      "text/html": [
       "<div>\n",
       "<style scoped>\n",
       "    .dataframe tbody tr th:only-of-type {\n",
       "        vertical-align: middle;\n",
       "    }\n",
       "\n",
       "    .dataframe tbody tr th {\n",
       "        vertical-align: top;\n",
       "    }\n",
       "\n",
       "    .dataframe thead th {\n",
       "        text-align: right;\n",
       "    }\n",
       "</style>\n",
       "<table border=\"1\" class=\"dataframe\">\n",
       "  <thead>\n",
       "    <tr style=\"text-align: right;\">\n",
       "      <th></th>\n",
       "      <th>id</th>\n",
       "      <th>n_victimas</th>\n",
       "      <th>fecha</th>\n",
       "      <th>franja_hora</th>\n",
       "      <th>direccion</th>\n",
       "      <th>tipo_calle</th>\n",
       "      <th>calle</th>\n",
       "      <th>altura</th>\n",
       "      <th>cruce</th>\n",
       "      <th>direccion_normalizada</th>\n",
       "      <th>...</th>\n",
       "      <th>rol</th>\n",
       "      <th>vehiculo_victima</th>\n",
       "      <th>sexo</th>\n",
       "      <th>edad</th>\n",
       "      <th>gravedad</th>\n",
       "      <th>moto</th>\n",
       "      <th>auto</th>\n",
       "      <th>transporte_publico</th>\n",
       "      <th>camion</th>\n",
       "      <th>ciclista</th>\n",
       "    </tr>\n",
       "  </thead>\n",
       "  <tbody>\n",
       "    <tr>\n",
       "      <th>5172</th>\n",
       "      <td>LC-2019-0291069</td>\n",
       "      <td>16</td>\n",
       "      <td>2019-05-10</td>\n",
       "      <td>7</td>\n",
       "      <td>Goyena, Pedro Av. y Mitre, Emilio 0, Barrio: C...</td>\n",
       "      <td>SD</td>\n",
       "      <td>NaN</td>\n",
       "      <td>NaN</td>\n",
       "      <td>NaN</td>\n",
       "      <td>SD</td>\n",
       "      <td>...</td>\n",
       "      <td>0.0</td>\n",
       "      <td>sd</td>\n",
       "      <td>Varon</td>\n",
       "      <td>SD</td>\n",
       "      <td>SD</td>\n",
       "      <td>SD</td>\n",
       "      <td>SD</td>\n",
       "      <td>x</td>\n",
       "      <td>SD</td>\n",
       "      <td>SD</td>\n",
       "    </tr>\n",
       "    <tr>\n",
       "      <th>5173</th>\n",
       "      <td>LC-2019-0291069</td>\n",
       "      <td>16</td>\n",
       "      <td>2019-05-10</td>\n",
       "      <td>7</td>\n",
       "      <td>Goyena, Pedro Av. y Mitre, Emilio 0, Barrio: C...</td>\n",
       "      <td>SD</td>\n",
       "      <td>NaN</td>\n",
       "      <td>NaN</td>\n",
       "      <td>NaN</td>\n",
       "      <td>SD</td>\n",
       "      <td>...</td>\n",
       "      <td>0.0</td>\n",
       "      <td>sd</td>\n",
       "      <td>Varon</td>\n",
       "      <td>SD</td>\n",
       "      <td>SD</td>\n",
       "      <td>SD</td>\n",
       "      <td>SD</td>\n",
       "      <td>x</td>\n",
       "      <td>SD</td>\n",
       "      <td>SD</td>\n",
       "    </tr>\n",
       "    <tr>\n",
       "      <th>5174</th>\n",
       "      <td>LC-2019-0291069</td>\n",
       "      <td>16</td>\n",
       "      <td>2019-05-10</td>\n",
       "      <td>7</td>\n",
       "      <td>Goyena, Pedro Av. y Mitre, Emilio 0, Barrio: C...</td>\n",
       "      <td>SD</td>\n",
       "      <td>NaN</td>\n",
       "      <td>NaN</td>\n",
       "      <td>NaN</td>\n",
       "      <td>SD</td>\n",
       "      <td>...</td>\n",
       "      <td>0.0</td>\n",
       "      <td>sd</td>\n",
       "      <td>Varon</td>\n",
       "      <td>54</td>\n",
       "      <td>SD</td>\n",
       "      <td>SD</td>\n",
       "      <td>SD</td>\n",
       "      <td>x</td>\n",
       "      <td>SD</td>\n",
       "      <td>SD</td>\n",
       "    </tr>\n",
       "    <tr>\n",
       "      <th>5175</th>\n",
       "      <td>LC-2019-0291069</td>\n",
       "      <td>16</td>\n",
       "      <td>2019-05-10</td>\n",
       "      <td>7</td>\n",
       "      <td>Goyena, Pedro Av. y Mitre, Emilio 0, Barrio: C...</td>\n",
       "      <td>SD</td>\n",
       "      <td>NaN</td>\n",
       "      <td>NaN</td>\n",
       "      <td>NaN</td>\n",
       "      <td>SD</td>\n",
       "      <td>...</td>\n",
       "      <td>0.0</td>\n",
       "      <td>sd</td>\n",
       "      <td>Varon</td>\n",
       "      <td>35</td>\n",
       "      <td>SD</td>\n",
       "      <td>SD</td>\n",
       "      <td>SD</td>\n",
       "      <td>x</td>\n",
       "      <td>SD</td>\n",
       "      <td>SD</td>\n",
       "    </tr>\n",
       "    <tr>\n",
       "      <th>5176</th>\n",
       "      <td>LC-2019-0291069</td>\n",
       "      <td>16</td>\n",
       "      <td>2019-05-10</td>\n",
       "      <td>7</td>\n",
       "      <td>Goyena, Pedro Av. y Mitre, Emilio 0, Barrio: C...</td>\n",
       "      <td>SD</td>\n",
       "      <td>NaN</td>\n",
       "      <td>NaN</td>\n",
       "      <td>NaN</td>\n",
       "      <td>SD</td>\n",
       "      <td>...</td>\n",
       "      <td>0.0</td>\n",
       "      <td>sd</td>\n",
       "      <td>Varon</td>\n",
       "      <td>63</td>\n",
       "      <td>SD</td>\n",
       "      <td>SD</td>\n",
       "      <td>SD</td>\n",
       "      <td>x</td>\n",
       "      <td>SD</td>\n",
       "      <td>SD</td>\n",
       "    </tr>\n",
       "    <tr>\n",
       "      <th>5177</th>\n",
       "      <td>LC-2019-0291069</td>\n",
       "      <td>16</td>\n",
       "      <td>2019-05-10</td>\n",
       "      <td>7</td>\n",
       "      <td>Goyena, Pedro Av. y Mitre, Emilio 0, Barrio: C...</td>\n",
       "      <td>SD</td>\n",
       "      <td>NaN</td>\n",
       "      <td>NaN</td>\n",
       "      <td>NaN</td>\n",
       "      <td>SD</td>\n",
       "      <td>...</td>\n",
       "      <td>0.0</td>\n",
       "      <td>sd</td>\n",
       "      <td>Varon</td>\n",
       "      <td>22</td>\n",
       "      <td>SD</td>\n",
       "      <td>SD</td>\n",
       "      <td>SD</td>\n",
       "      <td>x</td>\n",
       "      <td>SD</td>\n",
       "      <td>SD</td>\n",
       "    </tr>\n",
       "    <tr>\n",
       "      <th>5178</th>\n",
       "      <td>LC-2019-0291069</td>\n",
       "      <td>16</td>\n",
       "      <td>2019-05-10</td>\n",
       "      <td>7</td>\n",
       "      <td>Goyena, Pedro Av. y Mitre, Emilio 0, Barrio: C...</td>\n",
       "      <td>SD</td>\n",
       "      <td>NaN</td>\n",
       "      <td>NaN</td>\n",
       "      <td>NaN</td>\n",
       "      <td>SD</td>\n",
       "      <td>...</td>\n",
       "      <td>0.0</td>\n",
       "      <td>sd</td>\n",
       "      <td>Mujer</td>\n",
       "      <td>22</td>\n",
       "      <td>SD</td>\n",
       "      <td>SD</td>\n",
       "      <td>SD</td>\n",
       "      <td>x</td>\n",
       "      <td>SD</td>\n",
       "      <td>SD</td>\n",
       "    </tr>\n",
       "    <tr>\n",
       "      <th>5179</th>\n",
       "      <td>LC-2019-0291069</td>\n",
       "      <td>16</td>\n",
       "      <td>2019-05-10</td>\n",
       "      <td>7</td>\n",
       "      <td>Goyena, Pedro Av. y Mitre, Emilio 0, Barrio: C...</td>\n",
       "      <td>SD</td>\n",
       "      <td>NaN</td>\n",
       "      <td>NaN</td>\n",
       "      <td>NaN</td>\n",
       "      <td>SD</td>\n",
       "      <td>...</td>\n",
       "      <td>0.0</td>\n",
       "      <td>sd</td>\n",
       "      <td>Mujer</td>\n",
       "      <td>30</td>\n",
       "      <td>SD</td>\n",
       "      <td>SD</td>\n",
       "      <td>SD</td>\n",
       "      <td>x</td>\n",
       "      <td>SD</td>\n",
       "      <td>SD</td>\n",
       "    </tr>\n",
       "    <tr>\n",
       "      <th>5180</th>\n",
       "      <td>LC-2019-0291069</td>\n",
       "      <td>16</td>\n",
       "      <td>2019-05-10</td>\n",
       "      <td>7</td>\n",
       "      <td>Goyena, Pedro Av. y Mitre, Emilio 0, Barrio: C...</td>\n",
       "      <td>SD</td>\n",
       "      <td>NaN</td>\n",
       "      <td>NaN</td>\n",
       "      <td>NaN</td>\n",
       "      <td>SD</td>\n",
       "      <td>...</td>\n",
       "      <td>0.0</td>\n",
       "      <td>sd</td>\n",
       "      <td>Mujer</td>\n",
       "      <td>39</td>\n",
       "      <td>SD</td>\n",
       "      <td>SD</td>\n",
       "      <td>SD</td>\n",
       "      <td>x</td>\n",
       "      <td>SD</td>\n",
       "      <td>SD</td>\n",
       "    </tr>\n",
       "    <tr>\n",
       "      <th>5181</th>\n",
       "      <td>LC-2019-0291069</td>\n",
       "      <td>16</td>\n",
       "      <td>2019-05-10</td>\n",
       "      <td>7</td>\n",
       "      <td>Goyena, Pedro Av. y Mitre, Emilio 0, Barrio: C...</td>\n",
       "      <td>SD</td>\n",
       "      <td>NaN</td>\n",
       "      <td>NaN</td>\n",
       "      <td>NaN</td>\n",
       "      <td>SD</td>\n",
       "      <td>...</td>\n",
       "      <td>0.0</td>\n",
       "      <td>sd</td>\n",
       "      <td>Mujer</td>\n",
       "      <td>SD</td>\n",
       "      <td>SD</td>\n",
       "      <td>SD</td>\n",
       "      <td>SD</td>\n",
       "      <td>x</td>\n",
       "      <td>SD</td>\n",
       "      <td>SD</td>\n",
       "    </tr>\n",
       "    <tr>\n",
       "      <th>5182</th>\n",
       "      <td>LC-2019-0291069</td>\n",
       "      <td>16</td>\n",
       "      <td>2019-05-10</td>\n",
       "      <td>7</td>\n",
       "      <td>Goyena, Pedro Av. y Mitre, Emilio 0, Barrio: C...</td>\n",
       "      <td>SD</td>\n",
       "      <td>NaN</td>\n",
       "      <td>NaN</td>\n",
       "      <td>NaN</td>\n",
       "      <td>SD</td>\n",
       "      <td>...</td>\n",
       "      <td>0.0</td>\n",
       "      <td>sd</td>\n",
       "      <td>Mujer</td>\n",
       "      <td>SD</td>\n",
       "      <td>SD</td>\n",
       "      <td>SD</td>\n",
       "      <td>SD</td>\n",
       "      <td>x</td>\n",
       "      <td>SD</td>\n",
       "      <td>SD</td>\n",
       "    </tr>\n",
       "    <tr>\n",
       "      <th>5183</th>\n",
       "      <td>LC-2019-0291069</td>\n",
       "      <td>16</td>\n",
       "      <td>2019-05-10</td>\n",
       "      <td>7</td>\n",
       "      <td>Goyena, Pedro Av. y Mitre, Emilio 0, Barrio: C...</td>\n",
       "      <td>SD</td>\n",
       "      <td>NaN</td>\n",
       "      <td>NaN</td>\n",
       "      <td>NaN</td>\n",
       "      <td>SD</td>\n",
       "      <td>...</td>\n",
       "      <td>0.0</td>\n",
       "      <td>sd</td>\n",
       "      <td>Mujer</td>\n",
       "      <td>SD</td>\n",
       "      <td>SD</td>\n",
       "      <td>SD</td>\n",
       "      <td>SD</td>\n",
       "      <td>x</td>\n",
       "      <td>SD</td>\n",
       "      <td>SD</td>\n",
       "    </tr>\n",
       "    <tr>\n",
       "      <th>5184</th>\n",
       "      <td>LC-2019-0291069</td>\n",
       "      <td>16</td>\n",
       "      <td>2019-05-10</td>\n",
       "      <td>7</td>\n",
       "      <td>Goyena, Pedro Av. y Mitre, Emilio 0, Barrio: C...</td>\n",
       "      <td>SD</td>\n",
       "      <td>NaN</td>\n",
       "      <td>NaN</td>\n",
       "      <td>NaN</td>\n",
       "      <td>SD</td>\n",
       "      <td>...</td>\n",
       "      <td>0.0</td>\n",
       "      <td>sd</td>\n",
       "      <td>Mujer</td>\n",
       "      <td>41</td>\n",
       "      <td>SD</td>\n",
       "      <td>SD</td>\n",
       "      <td>SD</td>\n",
       "      <td>x</td>\n",
       "      <td>SD</td>\n",
       "      <td>SD</td>\n",
       "    </tr>\n",
       "    <tr>\n",
       "      <th>5185</th>\n",
       "      <td>LC-2019-0291069</td>\n",
       "      <td>16</td>\n",
       "      <td>2019-05-10</td>\n",
       "      <td>7</td>\n",
       "      <td>Goyena, Pedro Av. y Mitre, Emilio 0, Barrio: C...</td>\n",
       "      <td>SD</td>\n",
       "      <td>NaN</td>\n",
       "      <td>NaN</td>\n",
       "      <td>NaN</td>\n",
       "      <td>SD</td>\n",
       "      <td>...</td>\n",
       "      <td>0.0</td>\n",
       "      <td>sd</td>\n",
       "      <td>Varon</td>\n",
       "      <td>SD</td>\n",
       "      <td>SD</td>\n",
       "      <td>SD</td>\n",
       "      <td>SD</td>\n",
       "      <td>x</td>\n",
       "      <td>SD</td>\n",
       "      <td>SD</td>\n",
       "    </tr>\n",
       "    <tr>\n",
       "      <th>5186</th>\n",
       "      <td>LC-2019-0291069</td>\n",
       "      <td>16</td>\n",
       "      <td>2019-05-10</td>\n",
       "      <td>7</td>\n",
       "      <td>Goyena, Pedro Av. y Mitre, Emilio 0, Barrio: C...</td>\n",
       "      <td>SD</td>\n",
       "      <td>NaN</td>\n",
       "      <td>NaN</td>\n",
       "      <td>NaN</td>\n",
       "      <td>SD</td>\n",
       "      <td>...</td>\n",
       "      <td>0.0</td>\n",
       "      <td>sd</td>\n",
       "      <td>Mujer</td>\n",
       "      <td>SD</td>\n",
       "      <td>SD</td>\n",
       "      <td>SD</td>\n",
       "      <td>SD</td>\n",
       "      <td>x</td>\n",
       "      <td>SD</td>\n",
       "      <td>SD</td>\n",
       "    </tr>\n",
       "    <tr>\n",
       "      <th>5187</th>\n",
       "      <td>LC-2019-0291069</td>\n",
       "      <td>16</td>\n",
       "      <td>2019-05-10</td>\n",
       "      <td>7</td>\n",
       "      <td>Goyena, Pedro Av. y Mitre, Emilio 0, Barrio: C...</td>\n",
       "      <td>SD</td>\n",
       "      <td>NaN</td>\n",
       "      <td>NaN</td>\n",
       "      <td>NaN</td>\n",
       "      <td>SD</td>\n",
       "      <td>...</td>\n",
       "      <td>0.0</td>\n",
       "      <td>sd</td>\n",
       "      <td>Varon</td>\n",
       "      <td>44</td>\n",
       "      <td>SD</td>\n",
       "      <td>SD</td>\n",
       "      <td>SD</td>\n",
       "      <td>x</td>\n",
       "      <td>SD</td>\n",
       "      <td>SD</td>\n",
       "    </tr>\n",
       "  </tbody>\n",
       "</table>\n",
       "<p>16 rows × 27 columns</p>\n",
       "</div>"
      ],
      "text/plain": [
       "                   id  n_victimas       fecha  franja_hora  \\\n",
       "5172  LC-2019-0291069          16  2019-05-10            7   \n",
       "5173  LC-2019-0291069          16  2019-05-10            7   \n",
       "5174  LC-2019-0291069          16  2019-05-10            7   \n",
       "5175  LC-2019-0291069          16  2019-05-10            7   \n",
       "5176  LC-2019-0291069          16  2019-05-10            7   \n",
       "5177  LC-2019-0291069          16  2019-05-10            7   \n",
       "5178  LC-2019-0291069          16  2019-05-10            7   \n",
       "5179  LC-2019-0291069          16  2019-05-10            7   \n",
       "5180  LC-2019-0291069          16  2019-05-10            7   \n",
       "5181  LC-2019-0291069          16  2019-05-10            7   \n",
       "5182  LC-2019-0291069          16  2019-05-10            7   \n",
       "5183  LC-2019-0291069          16  2019-05-10            7   \n",
       "5184  LC-2019-0291069          16  2019-05-10            7   \n",
       "5185  LC-2019-0291069          16  2019-05-10            7   \n",
       "5186  LC-2019-0291069          16  2019-05-10            7   \n",
       "5187  LC-2019-0291069          16  2019-05-10            7   \n",
       "\n",
       "                                              direccion tipo_calle calle  \\\n",
       "5172  Goyena, Pedro Av. y Mitre, Emilio 0, Barrio: C...         SD   NaN   \n",
       "5173  Goyena, Pedro Av. y Mitre, Emilio 0, Barrio: C...         SD   NaN   \n",
       "5174  Goyena, Pedro Av. y Mitre, Emilio 0, Barrio: C...         SD   NaN   \n",
       "5175  Goyena, Pedro Av. y Mitre, Emilio 0, Barrio: C...         SD   NaN   \n",
       "5176  Goyena, Pedro Av. y Mitre, Emilio 0, Barrio: C...         SD   NaN   \n",
       "5177  Goyena, Pedro Av. y Mitre, Emilio 0, Barrio: C...         SD   NaN   \n",
       "5178  Goyena, Pedro Av. y Mitre, Emilio 0, Barrio: C...         SD   NaN   \n",
       "5179  Goyena, Pedro Av. y Mitre, Emilio 0, Barrio: C...         SD   NaN   \n",
       "5180  Goyena, Pedro Av. y Mitre, Emilio 0, Barrio: C...         SD   NaN   \n",
       "5181  Goyena, Pedro Av. y Mitre, Emilio 0, Barrio: C...         SD   NaN   \n",
       "5182  Goyena, Pedro Av. y Mitre, Emilio 0, Barrio: C...         SD   NaN   \n",
       "5183  Goyena, Pedro Av. y Mitre, Emilio 0, Barrio: C...         SD   NaN   \n",
       "5184  Goyena, Pedro Av. y Mitre, Emilio 0, Barrio: C...         SD   NaN   \n",
       "5185  Goyena, Pedro Av. y Mitre, Emilio 0, Barrio: C...         SD   NaN   \n",
       "5186  Goyena, Pedro Av. y Mitre, Emilio 0, Barrio: C...         SD   NaN   \n",
       "5187  Goyena, Pedro Av. y Mitre, Emilio 0, Barrio: C...         SD   NaN   \n",
       "\n",
       "      altura cruce direccion_normalizada  ...  rol vehiculo_victima   sexo  \\\n",
       "5172     NaN   NaN                    SD  ...  0.0               sd  Varon   \n",
       "5173     NaN   NaN                    SD  ...  0.0               sd  Varon   \n",
       "5174     NaN   NaN                    SD  ...  0.0               sd  Varon   \n",
       "5175     NaN   NaN                    SD  ...  0.0               sd  Varon   \n",
       "5176     NaN   NaN                    SD  ...  0.0               sd  Varon   \n",
       "5177     NaN   NaN                    SD  ...  0.0               sd  Varon   \n",
       "5178     NaN   NaN                    SD  ...  0.0               sd  Mujer   \n",
       "5179     NaN   NaN                    SD  ...  0.0               sd  Mujer   \n",
       "5180     NaN   NaN                    SD  ...  0.0               sd  Mujer   \n",
       "5181     NaN   NaN                    SD  ...  0.0               sd  Mujer   \n",
       "5182     NaN   NaN                    SD  ...  0.0               sd  Mujer   \n",
       "5183     NaN   NaN                    SD  ...  0.0               sd  Mujer   \n",
       "5184     NaN   NaN                    SD  ...  0.0               sd  Mujer   \n",
       "5185     NaN   NaN                    SD  ...  0.0               sd  Varon   \n",
       "5186     NaN   NaN                    SD  ...  0.0               sd  Mujer   \n",
       "5187     NaN   NaN                    SD  ...  0.0               sd  Varon   \n",
       "\n",
       "     edad gravedad moto auto transporte_publico camion ciclista  \n",
       "5172   SD       SD   SD   SD                  x     SD       SD  \n",
       "5173   SD       SD   SD   SD                  x     SD       SD  \n",
       "5174   54       SD   SD   SD                  x     SD       SD  \n",
       "5175   35       SD   SD   SD                  x     SD       SD  \n",
       "5176   63       SD   SD   SD                  x     SD       SD  \n",
       "5177   22       SD   SD   SD                  x     SD       SD  \n",
       "5178   22       SD   SD   SD                  x     SD       SD  \n",
       "5179   30       SD   SD   SD                  x     SD       SD  \n",
       "5180   39       SD   SD   SD                  x     SD       SD  \n",
       "5181   SD       SD   SD   SD                  x     SD       SD  \n",
       "5182   SD       SD   SD   SD                  x     SD       SD  \n",
       "5183   SD       SD   SD   SD                  x     SD       SD  \n",
       "5184   41       SD   SD   SD                  x     SD       SD  \n",
       "5185   SD       SD   SD   SD                  x     SD       SD  \n",
       "5186   SD       SD   SD   SD                  x     SD       SD  \n",
       "5187   44       SD   SD   SD                  x     SD       SD  \n",
       "\n",
       "[16 rows x 27 columns]"
      ]
     },
     "execution_count": 42,
     "metadata": {},
     "output_type": "execute_result"
    }
   ],
   "source": [
    "# Reviso el id puntual para ver que está pasando\n",
    "df_accidentes[df_accidentes[\"id\"] == \"LC-2019-0291069\"]"
   ]
  },
  {
   "cell_type": "markdown",
   "metadata": {},
   "source": [
    "#### Como realicé la unión de los datos, hay registros duplicados en las columnas con datos globales sobre el accidente. En el caso de la columna del número de víctimas, no necesito una columna que las cuente, ya que si quiero ese dato puedo hacer un agrupamiento por id de accidente y sumar. Por lo que decido eliminarla.\n",
    "\n",
    "#### En el caso de los otros datos, debo tener presente esto para contar siempre una sola vez para cada id a la hora de hacer análisis."
   ]
  },
  {
   "cell_type": "code",
   "execution_count": 43,
   "metadata": {},
   "outputs": [
    {
     "data": {
      "text/plain": [
       "Index(['id', 'fecha', 'franja_hora', 'direccion', 'tipo_calle', 'calle',\n",
       "       'altura', 'cruce', 'direccion_normalizada', 'comuna',\n",
       "       'geocodificacion_CABA', 'longitud', 'latitud', 'participantes',\n",
       "       'victima', 'acusado', 'rol', 'vehiculo_victima', 'sexo', 'edad',\n",
       "       'gravedad', 'moto', 'auto', 'transporte_publico', 'camion', 'ciclista'],\n",
       "      dtype='object')"
      ]
     },
     "execution_count": 43,
     "metadata": {},
     "output_type": "execute_result"
    }
   ],
   "source": [
    "df_accidentes.drop(\"n_victimas\", axis=1, inplace=True)\n",
    "df_accidentes.columns"
   ]
  },
  {
   "cell_type": "markdown",
   "metadata": {},
   "source": [
    "# Dirección / Ubicación Geográfica"
   ]
  },
  {
   "cell_type": "code",
   "execution_count": 2,
   "metadata": {},
   "outputs": [],
   "source": [
    "# Cargar el csv\n",
    "df_accidentes = pd.read_csv(\"accidentes_parcial.csv\")"
   ]
  },
  {
   "cell_type": "code",
   "execution_count": 44,
   "metadata": {},
   "outputs": [
    {
     "data": {
      "text/plain": [
       "0      Point (98896.78238426 93532.43437792)\n",
       "1      Point (95832.05571093 95505.41641999)\n",
       "2     Point (106684.29090040 99706.57687843)\n",
       "3      Point (99840.65224780 94269.16534422)\n",
       "4    Point (106980.32827929 100752.16915795)\n",
       "Name: geocodificacion_CABA, dtype: object"
      ]
     },
     "execution_count": 44,
     "metadata": {},
     "output_type": "execute_result"
    }
   ],
   "source": [
    "# Revisar que datos hay en la columna de codificación\n",
    "df_accidentes[\"geocodificacion_CABA\"].head()"
   ]
  },
  {
   "cell_type": "code",
   "execution_count": 45,
   "metadata": {},
   "outputs": [
    {
     "data": {
      "text/plain": [
       "Index(['id', 'fecha', 'franja_hora', 'direccion', 'tipo_calle', 'calle',\n",
       "       'altura', 'cruce', 'direccion_normalizada', 'comuna',\n",
       "       'geocodificacion_CABA', 'longitud', 'latitud', 'participantes',\n",
       "       'victima', 'acusado', 'rol', 'vehiculo_victima', 'sexo', 'edad',\n",
       "       'gravedad', 'moto', 'auto', 'transporte_publico', 'camion', 'ciclista'],\n",
       "      dtype='object')"
      ]
     },
     "execution_count": 45,
     "metadata": {},
     "output_type": "execute_result"
    }
   ],
   "source": [
    "# Revisar columnas\n",
    "df_accidentes.columns"
   ]
  },
  {
   "cell_type": "markdown",
   "metadata": {},
   "source": [
    "De todas las columnas con información sobre el lugar del hecho, me voy a quedar con \"tipo_calle\", \"direccion_normalizada\", \"comuna\", \"latitud\" y \"longitud\"."
   ]
  },
  {
   "cell_type": "code",
   "execution_count": 46,
   "metadata": {},
   "outputs": [
    {
     "data": {
      "text/plain": [
       "tipo_calle\n",
       "SD           12879\n",
       "AVENIDA       8251\n",
       "CALLE         6323\n",
       "GRAL PAZ       745\n",
       "AUTOPISTA      117\n",
       "Name: count, dtype: int64"
      ]
     },
     "execution_count": 46,
     "metadata": {},
     "output_type": "execute_result"
    }
   ],
   "source": [
    "# Distribución valores distintos\n",
    "df_accidentes[\"tipo_calle\"].value_counts()"
   ]
  },
  {
   "cell_type": "code",
   "execution_count": 47,
   "metadata": {},
   "outputs": [
    {
     "data": {
      "text/plain": [
       "0"
      ]
     },
     "execution_count": 47,
     "metadata": {},
     "output_type": "execute_result"
    }
   ],
   "source": [
    "# Verificar si hay nulos\n",
    "df_accidentes[\"tipo_calle\"].isna().sum()"
   ]
  },
  {
   "cell_type": "markdown",
   "metadata": {},
   "source": [
    "tipo_calle está OK"
   ]
  },
  {
   "cell_type": "code",
   "execution_count": 48,
   "metadata": {},
   "outputs": [
    {
     "data": {
      "text/plain": [
       "count     28253\n",
       "unique     9261\n",
       "top          SD\n",
       "freq      12643\n",
       "Name: direccion_normalizada, dtype: object"
      ]
     },
     "execution_count": 48,
     "metadata": {},
     "output_type": "execute_result"
    }
   ],
   "source": [
    "# Revisar direccion_normalizada\n",
    "df_accidentes[\"direccion_normalizada\"].describe()"
   ]
  },
  {
   "cell_type": "code",
   "execution_count": 49,
   "metadata": {},
   "outputs": [
    {
     "data": {
      "text/plain": [
       "62"
      ]
     },
     "execution_count": 49,
     "metadata": {},
     "output_type": "execute_result"
    }
   ],
   "source": [
    "# Revisar si hay nulos\n",
    "df_accidentes[\"direccion_normalizada\"].isna().sum()"
   ]
  },
  {
   "cell_type": "code",
   "execution_count": 50,
   "metadata": {},
   "outputs": [
    {
     "data": {
      "text/plain": [
       "0"
      ]
     },
     "execution_count": 50,
     "metadata": {},
     "output_type": "execute_result"
    }
   ],
   "source": [
    "# Rellenar los nulos\n",
    "df_accidentes[\"direccion_normalizada\"].fillna(\"SD\", inplace=True)\n",
    "df_accidentes[\"direccion_normalizada\"].isna().sum()"
   ]
  },
  {
   "cell_type": "markdown",
   "metadata": {},
   "source": [
    "dirección_normalizada está OK"
   ]
  },
  {
   "cell_type": "code",
   "execution_count": 51,
   "metadata": {},
   "outputs": [
    {
     "data": {
      "text/plain": [
       "comuna\n",
       "1                  2931\n",
       "15                 2237\n",
       "4                  2213\n",
       "9                  2150\n",
       "3                  2003\n",
       "14                 1840\n",
       "7                  1817\n",
       "12                 1750\n",
       "11                 1645\n",
       "13                 1590\n",
       "10                 1568\n",
       "8                  1420\n",
       "5                  1400\n",
       "6                  1104\n",
       "2                  1021\n",
       "SD                  936\n",
       "No Especificada     510\n",
       "0                     2\n",
       "Name: count, dtype: int64"
      ]
     },
     "execution_count": 51,
     "metadata": {},
     "output_type": "execute_result"
    }
   ],
   "source": [
    "# Distribución valores distintos\n",
    "df_accidentes[\"comuna\"].value_counts()"
   ]
  },
  {
   "cell_type": "code",
   "execution_count": 52,
   "metadata": {},
   "outputs": [
    {
     "data": {
      "text/plain": [
       "178"
      ]
     },
     "execution_count": 52,
     "metadata": {},
     "output_type": "execute_result"
    }
   ],
   "source": [
    "# Revisar valores nulos\n",
    "df_accidentes[\"comuna\"].isna().sum()"
   ]
  },
  {
   "cell_type": "markdown",
   "metadata": {},
   "source": [
    "Voy a juntar los valores \"no Especificada\", \"0\" y \"nulos\", todos en \"SD\" "
   ]
  },
  {
   "cell_type": "code",
   "execution_count": 53,
   "metadata": {},
   "outputs": [],
   "source": [
    "# Llenar los nulos y unificar criterio de valores desconocidos\n",
    "df_accidentes[\"comuna\"].fillna(\"SD\", inplace=True)\n",
    "df_accidentes[\"comuna\"].replace(\"No Especificada\", \"SD\", inplace=True)\n",
    "df_accidentes[\"comuna\"].replace(\"0\", \"SD\", inplace=True)"
   ]
  },
  {
   "cell_type": "code",
   "execution_count": 54,
   "metadata": {},
   "outputs": [
    {
     "data": {
      "text/plain": [
       "comuna\n",
       "1     2931\n",
       "15    2237\n",
       "4     2213\n",
       "9     2150\n",
       "3     2003\n",
       "14    1840\n",
       "7     1817\n",
       "12    1750\n",
       "11    1645\n",
       "SD    1626\n",
       "13    1590\n",
       "10    1568\n",
       "8     1420\n",
       "5     1400\n",
       "6     1104\n",
       "2     1021\n",
       "Name: count, dtype: int64"
      ]
     },
     "execution_count": 54,
     "metadata": {},
     "output_type": "execute_result"
    }
   ],
   "source": [
    "df_accidentes[\"comuna\"].value_counts()"
   ]
  },
  {
   "cell_type": "code",
   "execution_count": 55,
   "metadata": {},
   "outputs": [
    {
     "data": {
      "text/plain": [
       "0"
      ]
     },
     "execution_count": 55,
     "metadata": {},
     "output_type": "execute_result"
    }
   ],
   "source": [
    "df_accidentes[\"comuna\"].isna().sum()"
   ]
  },
  {
   "cell_type": "markdown",
   "metadata": {},
   "source": [
    "Comuna está OK"
   ]
  },
  {
   "cell_type": "code",
   "execution_count": 56,
   "metadata": {},
   "outputs": [
    {
     "data": {
      "text/plain": [
       "count     28045\n",
       "unique    14362\n",
       "top          SD\n",
       "freq       1386\n",
       "Name: latitud, dtype: object"
      ]
     },
     "execution_count": 56,
     "metadata": {},
     "output_type": "execute_result"
    }
   ],
   "source": [
    "# Revisar latitud\n",
    "df_accidentes[\"latitud\"].describe()"
   ]
  },
  {
   "cell_type": "code",
   "execution_count": 57,
   "metadata": {},
   "outputs": [
    {
     "data": {
      "text/plain": [
       "270"
      ]
     },
     "execution_count": 57,
     "metadata": {},
     "output_type": "execute_result"
    }
   ],
   "source": [
    "# Verificar si hay nulos\n",
    "df_accidentes[\"latitud\"].isna().sum()"
   ]
  },
  {
   "cell_type": "code",
   "execution_count": 58,
   "metadata": {},
   "outputs": [
    {
     "data": {
      "text/plain": [
       "0"
      ]
     },
     "execution_count": 58,
     "metadata": {},
     "output_type": "execute_result"
    }
   ],
   "source": [
    "# Rellenar nulos con SD\n",
    "df_accidentes[\"latitud\"].fillna(\"SD\", inplace=True)\n",
    "df_accidentes[\"latitud\"].isna().sum()"
   ]
  },
  {
   "cell_type": "code",
   "execution_count": 59,
   "metadata": {},
   "outputs": [
    {
     "data": {
      "text/plain": [
       "count     28315\n",
       "unique    14362\n",
       "top          SD\n",
       "freq       1656\n",
       "Name: latitud, dtype: object"
      ]
     },
     "execution_count": 59,
     "metadata": {},
     "output_type": "execute_result"
    }
   ],
   "source": [
    "df_accidentes[\"latitud\"].describe()"
   ]
  },
  {
   "cell_type": "code",
   "execution_count": 60,
   "metadata": {},
   "outputs": [
    {
     "data": {
      "text/plain": [
       "count     28045\n",
       "unique    14415\n",
       "top          SD\n",
       "freq       1386\n",
       "Name: longitud, dtype: object"
      ]
     },
     "execution_count": 60,
     "metadata": {},
     "output_type": "execute_result"
    }
   ],
   "source": [
    "# Revisar longitud\n",
    "df_accidentes[\"longitud\"].describe()"
   ]
  },
  {
   "cell_type": "code",
   "execution_count": 61,
   "metadata": {},
   "outputs": [
    {
     "data": {
      "text/plain": [
       "270"
      ]
     },
     "execution_count": 61,
     "metadata": {},
     "output_type": "execute_result"
    }
   ],
   "source": [
    "# Verificar si hay nulos\n",
    "df_accidentes[\"longitud\"].isna().sum()"
   ]
  },
  {
   "cell_type": "code",
   "execution_count": 62,
   "metadata": {},
   "outputs": [
    {
     "data": {
      "text/plain": [
       "0"
      ]
     },
     "execution_count": 62,
     "metadata": {},
     "output_type": "execute_result"
    }
   ],
   "source": [
    "# Rellenar nulos con SD\n",
    "df_accidentes[\"longitud\"].fillna(\"SD\", inplace=True)\n",
    "df_accidentes[\"longitud\"].isna().sum()"
   ]
  },
  {
   "cell_type": "code",
   "execution_count": 63,
   "metadata": {},
   "outputs": [
    {
     "data": {
      "text/plain": [
       "count     28315\n",
       "unique    14415\n",
       "top          SD\n",
       "freq       1656\n",
       "Name: longitud, dtype: object"
      ]
     },
     "execution_count": 63,
     "metadata": {},
     "output_type": "execute_result"
    }
   ],
   "source": [
    "df_accidentes[\"longitud\"].describe()"
   ]
  },
  {
   "cell_type": "markdown",
   "metadata": {},
   "source": [
    "Latitud y Longitud están OK"
   ]
  },
  {
   "cell_type": "code",
   "execution_count": 64,
   "metadata": {},
   "outputs": [
    {
     "data": {
      "text/plain": [
       "Index(['id', 'fecha', 'franja_hora', 'direccion', 'tipo_calle', 'calle',\n",
       "       'altura', 'cruce', 'direccion_normalizada', 'comuna',\n",
       "       'geocodificacion_CABA', 'longitud', 'latitud', 'participantes',\n",
       "       'victima', 'acusado', 'rol', 'vehiculo_victima', 'sexo', 'edad',\n",
       "       'gravedad', 'moto', 'auto', 'transporte_publico', 'camion', 'ciclista'],\n",
       "      dtype='object')"
      ]
     },
     "execution_count": 64,
     "metadata": {},
     "output_type": "execute_result"
    }
   ],
   "source": [
    "df_accidentes.columns"
   ]
  },
  {
   "cell_type": "code",
   "execution_count": 65,
   "metadata": {},
   "outputs": [
    {
     "data": {
      "text/plain": [
       "Index(['id', 'fecha', 'franja_hora', 'tipo_calle', 'direccion_normalizada',\n",
       "       'comuna', 'longitud', 'latitud', 'participantes', 'victima', 'acusado',\n",
       "       'rol', 'vehiculo_victima', 'sexo', 'edad', 'gravedad', 'moto', 'auto',\n",
       "       'transporte_publico', 'camion', 'ciclista'],\n",
       "      dtype='object')"
      ]
     },
     "execution_count": 65,
     "metadata": {},
     "output_type": "execute_result"
    }
   ],
   "source": [
    "# Eliminar las columnas que ya no se necesitan\n",
    "columnas_eliminar = [\"direccion\", \"calle\", \"altura\", \"cruce\", \"geocodificacion_CABA\"]\n",
    "df_accidentes = df_accidentes.drop(columnas_eliminar,axis=1)\n",
    "df_accidentes.columns"
   ]
  },
  {
   "cell_type": "code",
   "execution_count": 66,
   "metadata": {},
   "outputs": [],
   "source": [
    "# Guardar el csv parcial\n",
    "df_accidentes.to_csv(\"accidentes_parcial.csv\", index=False)"
   ]
  },
  {
   "cell_type": "markdown",
   "metadata": {},
   "source": [
    "# Rol"
   ]
  },
  {
   "cell_type": "code",
   "execution_count": 67,
   "metadata": {},
   "outputs": [],
   "source": [
    "# Cargar el csv\n",
    "df_accidentes = pd.read_csv(\"accidentes_parcial.csv\")"
   ]
  },
  {
   "cell_type": "code",
   "execution_count": 67,
   "metadata": {},
   "outputs": [
    {
     "data": {
      "text/plain": [
       "0        CONDUCTOR\n",
       "1        CONDUCTOR\n",
       "2        CONDUCTOR\n",
       "3        CONDUCTOR\n",
       "4        CONDUCTOR\n",
       "           ...    \n",
       "28310       1e-323\n",
       "28311       1e-323\n",
       "28312       5e-324\n",
       "28313       5e-324\n",
       "28314       5e-324\n",
       "Name: rol, Length: 28315, dtype: object"
      ]
     },
     "execution_count": 67,
     "metadata": {},
     "output_type": "execute_result"
    }
   ],
   "source": [
    "df_accidentes[\"rol\"]"
   ]
  },
  {
   "cell_type": "code",
   "execution_count": 68,
   "metadata": {},
   "outputs": [
    {
     "data": {
      "text/plain": [
       "rol\n",
       "0.0                     27136\n",
       "CONDUCTOR                 330\n",
       "5e-324                    326\n",
       "PEATON                    267\n",
       "PASAJERO_ACOMPAÑANTE       80\n",
       "1e-323                     80\n",
       "CICLISTA                   29\n",
       "1.5e-323                   27\n",
       "2.5e-323                   15\n",
       "2e-323                     12\n",
       "SD                         11\n",
       "1.113730556184e-311         1\n",
       "1.1137296434825e-311        1\n",
       "Name: count, dtype: int64"
      ]
     },
     "execution_count": 68,
     "metadata": {},
     "output_type": "execute_result"
    }
   ],
   "source": [
    "df_accidentes[\"rol\"].value_counts()"
   ]
  },
  {
   "cell_type": "markdown",
   "metadata": {},
   "source": [
    "Hay demasiados valores vacíos, y algunos de los valores se repiten con los de otras columnas. No voy a utilizar esta columna para los análisis, así que la voy a eliminar."
   ]
  },
  {
   "cell_type": "code",
   "execution_count": 69,
   "metadata": {},
   "outputs": [
    {
     "data": {
      "text/plain": [
       "Index(['id', 'fecha', 'franja_hora', 'tipo_calle', 'direccion_normalizada',\n",
       "       'comuna', 'longitud', 'latitud', 'participantes', 'victima', 'acusado',\n",
       "       'vehiculo_victima', 'sexo', 'edad', 'gravedad', 'moto', 'auto',\n",
       "       'transporte_publico', 'camion', 'ciclista'],\n",
       "      dtype='object')"
      ]
     },
     "execution_count": 69,
     "metadata": {},
     "output_type": "execute_result"
    }
   ],
   "source": [
    "df_accidentes = df_accidentes.drop(\"rol\",axis=1)\n",
    "df_accidentes.columns"
   ]
  },
  {
   "cell_type": "code",
   "execution_count": 70,
   "metadata": {},
   "outputs": [],
   "source": [
    "# Guardar el csv parcial\n",
    "df_accidentes.to_csv(\"accidentes_parcial.csv\", index=False)"
   ]
  },
  {
   "cell_type": "markdown",
   "metadata": {},
   "source": [
    "# Participantes / Víctima / Acusado / Vehículo víctima / Moto / Auto / Transporte Público / Camión / Ciclista"
   ]
  },
  {
   "cell_type": "code",
   "execution_count": 101,
   "metadata": {},
   "outputs": [],
   "source": [
    "# Cargar el csv\n",
    "df_accidentes = pd.read_csv(\"accidentes_parcial.csv\")"
   ]
  },
  {
   "cell_type": "markdown",
   "metadata": {},
   "source": [
    "En el caso del estudio de las columnas con los vehículos participantes, se fijan algunos criterios previos:\n",
    "- No se va a analizar la culpabilidad de cada parte, solo se van a considerar las partes intervinientes en el siniestro vial, sin identificar responsabilidades. Por lo tanto la calificación de víctima y acusado no se mantendrá.\n",
    "- La columna participantes necesita ser desagregada, porque quiero poder analizar los accidentes por vehículos intervinientes de manera individual, y si tengo por ejemplo moto-auto y moto-camión, no me sirve que sean dos datos categóricos independientes. En ambos hubo una moto involucrada y eso es lo que me interesa, lógicamente voy a guardar los datos de los dos participantes del siniestro, pero en columnas separadas.\n",
    "- Las columnas de vehículo víctima y víctima tienen información casi idéntica.\n",
    "- Desde uno de los excel vienen columnas diferentes para individualizar los vehículos intervinientes (moto, auto, transporte público, camión, ciclista). Como no se va a trabajar con modelos de machine learning, no considero necesario trabajar los datos de esa forma, aunque si voy a sacar datos de estas columnas, que se ven más completas que las otras.\n",
    "- Voy a revisar si es posible agrupar las categorías con poca cantidad en \"OTRO\".  \n",
    "\n",
    "Como conclusión, voy a dejar dos columnas para las partes intervinientes, llamadas vehiculo_1 y vehiculo_2. Las cuales voy a rellenar con los datos del resto de las columnas de participantes, y en caso de que sean más de dos vehículos voy a sintetizarlo en los dos más relevantes. "
   ]
  },
  {
   "cell_type": "code",
   "execution_count": 71,
   "metadata": {},
   "outputs": [
    {
     "data": {
      "text/plain": [
       "0                      MOTO-AUTO\n",
       "1                 AUTO-PASAJEROS\n",
       "2                      MOTO-AUTO\n",
       "3                        MOTO-SD\n",
       "4                 MOTO-PASAJEROS\n",
       "                  ...           \n",
       "28310                      SD-SD\n",
       "28311                      SD-SD\n",
       "28312                      SD-SD\n",
       "28313    MOTO-TRANSPORTE PUBLICO\n",
       "28314                  MOTO-AUTO\n",
       "Name: participantes, Length: 28315, dtype: object"
      ]
     },
     "execution_count": 71,
     "metadata": {},
     "output_type": "execute_result"
    }
   ],
   "source": [
    "df_accidentes[\"participantes\"]"
   ]
  },
  {
   "cell_type": "code",
   "execution_count": 72,
   "metadata": {},
   "outputs": [
    {
     "data": {
      "text/html": [
       "<div>\n",
       "<style scoped>\n",
       "    .dataframe tbody tr th:only-of-type {\n",
       "        vertical-align: middle;\n",
       "    }\n",
       "\n",
       "    .dataframe tbody tr th {\n",
       "        vertical-align: top;\n",
       "    }\n",
       "\n",
       "    .dataframe thead th {\n",
       "        text-align: right;\n",
       "    }\n",
       "</style>\n",
       "<table border=\"1\" class=\"dataframe\">\n",
       "  <thead>\n",
       "    <tr style=\"text-align: right;\">\n",
       "      <th></th>\n",
       "      <th>id</th>\n",
       "      <th>fecha</th>\n",
       "      <th>franja_hora</th>\n",
       "      <th>tipo_calle</th>\n",
       "      <th>direccion_normalizada</th>\n",
       "      <th>comuna</th>\n",
       "      <th>longitud</th>\n",
       "      <th>latitud</th>\n",
       "      <th>participantes</th>\n",
       "      <th>victima</th>\n",
       "      <th>...</th>\n",
       "      <th>sexo</th>\n",
       "      <th>edad</th>\n",
       "      <th>gravedad</th>\n",
       "      <th>moto</th>\n",
       "      <th>auto</th>\n",
       "      <th>transporte_publico</th>\n",
       "      <th>camion</th>\n",
       "      <th>ciclista</th>\n",
       "      <th>participantes_1</th>\n",
       "      <th>participantes_2</th>\n",
       "    </tr>\n",
       "  </thead>\n",
       "  <tbody>\n",
       "    <tr>\n",
       "      <th>0</th>\n",
       "      <td>2016-0001</td>\n",
       "      <td>2016-01-01</td>\n",
       "      <td>4</td>\n",
       "      <td>AVENIDA</td>\n",
       "      <td>PIEDRA BUENA AV. y FERNANDEZ DE LA CRUZ, F., G...</td>\n",
       "      <td>8</td>\n",
       "      <td>-58.47533969</td>\n",
       "      <td>-34.68757022</td>\n",
       "      <td>MOTO-AUTO</td>\n",
       "      <td>MOTO</td>\n",
       "      <td>...</td>\n",
       "      <td>MASCULINO</td>\n",
       "      <td>19</td>\n",
       "      <td>2016-01-01 00:00:00</td>\n",
       "      <td>5e-324</td>\n",
       "      <td>0.0</td>\n",
       "      <td>0.0</td>\n",
       "      <td>0.0</td>\n",
       "      <td>0.0</td>\n",
       "      <td>MOTO</td>\n",
       "      <td>AUTO</td>\n",
       "    </tr>\n",
       "    <tr>\n",
       "      <th>1</th>\n",
       "      <td>2016-0002</td>\n",
       "      <td>2016-01-02</td>\n",
       "      <td>1</td>\n",
       "      <td>GRAL PAZ</td>\n",
       "      <td>PAZ, GRAL. AV. y DE LOS CORRALES AV.</td>\n",
       "      <td>9</td>\n",
       "      <td>-58.50877521</td>\n",
       "      <td>-34.66977709</td>\n",
       "      <td>AUTO-PASAJEROS</td>\n",
       "      <td>AUTO</td>\n",
       "      <td>...</td>\n",
       "      <td>MASCULINO</td>\n",
       "      <td>70</td>\n",
       "      <td>2016-01-02 00:00:00</td>\n",
       "      <td>5e-324</td>\n",
       "      <td>0.0</td>\n",
       "      <td>0.0</td>\n",
       "      <td>0.0</td>\n",
       "      <td>0.0</td>\n",
       "      <td>AUTO</td>\n",
       "      <td>PASAJEROS</td>\n",
       "    </tr>\n",
       "    <tr>\n",
       "      <th>2</th>\n",
       "      <td>2016-0003</td>\n",
       "      <td>2016-01-03</td>\n",
       "      <td>7</td>\n",
       "      <td>AVENIDA</td>\n",
       "      <td>ENTRE RIOS AV. 2034</td>\n",
       "      <td>1</td>\n",
       "      <td>-58.39040293</td>\n",
       "      <td>-34.63189362</td>\n",
       "      <td>MOTO-AUTO</td>\n",
       "      <td>MOTO</td>\n",
       "      <td>...</td>\n",
       "      <td>MASCULINO</td>\n",
       "      <td>30</td>\n",
       "      <td>2016-01-03 00:00:00</td>\n",
       "      <td>5e-324</td>\n",
       "      <td>0.0</td>\n",
       "      <td>0.0</td>\n",
       "      <td>0.0</td>\n",
       "      <td>0.0</td>\n",
       "      <td>MOTO</td>\n",
       "      <td>AUTO</td>\n",
       "    </tr>\n",
       "    <tr>\n",
       "      <th>3</th>\n",
       "      <td>2016-0004</td>\n",
       "      <td>2016-01-10</td>\n",
       "      <td>0</td>\n",
       "      <td>AVENIDA</td>\n",
       "      <td>LARRAZABAL AV. y VILLEGAS, CONRADO, GRAL.</td>\n",
       "      <td>8</td>\n",
       "      <td>-58.46503904</td>\n",
       "      <td>-34.68092974</td>\n",
       "      <td>MOTO-SD</td>\n",
       "      <td>MOTO</td>\n",
       "      <td>...</td>\n",
       "      <td>MASCULINO</td>\n",
       "      <td>18</td>\n",
       "      <td>SD</td>\n",
       "      <td>5e-324</td>\n",
       "      <td>0.0</td>\n",
       "      <td>0.0</td>\n",
       "      <td>0.0</td>\n",
       "      <td>0.0</td>\n",
       "      <td>MOTO</td>\n",
       "      <td>SD</td>\n",
       "    </tr>\n",
       "    <tr>\n",
       "      <th>4</th>\n",
       "      <td>2016-0005</td>\n",
       "      <td>2016-01-21</td>\n",
       "      <td>5</td>\n",
       "      <td>AVENIDA</td>\n",
       "      <td>SAN JUAN AV. y SAENZ PEÃ‘A, LUIS, PRES.</td>\n",
       "      <td>1</td>\n",
       "      <td>-58.38718297</td>\n",
       "      <td>-34.62246630</td>\n",
       "      <td>MOTO-PASAJEROS</td>\n",
       "      <td>MOTO</td>\n",
       "      <td>...</td>\n",
       "      <td>MASCULINO</td>\n",
       "      <td>29</td>\n",
       "      <td>2016-02-01 00:00:00</td>\n",
       "      <td>5e-324</td>\n",
       "      <td>0.0</td>\n",
       "      <td>0.0</td>\n",
       "      <td>0.0</td>\n",
       "      <td>0.0</td>\n",
       "      <td>MOTO</td>\n",
       "      <td>PASAJEROS</td>\n",
       "    </tr>\n",
       "  </tbody>\n",
       "</table>\n",
       "<p>5 rows × 22 columns</p>\n",
       "</div>"
      ],
      "text/plain": [
       "          id       fecha  franja_hora tipo_calle  \\\n",
       "0  2016-0001  2016-01-01            4    AVENIDA   \n",
       "1  2016-0002  2016-01-02            1   GRAL PAZ   \n",
       "2  2016-0003  2016-01-03            7    AVENIDA   \n",
       "3  2016-0004  2016-01-10            0    AVENIDA   \n",
       "4  2016-0005  2016-01-21            5    AVENIDA   \n",
       "\n",
       "                               direccion_normalizada comuna      longitud  \\\n",
       "0  PIEDRA BUENA AV. y FERNANDEZ DE LA CRUZ, F., G...      8  -58.47533969   \n",
       "1               PAZ, GRAL. AV. y DE LOS CORRALES AV.      9  -58.50877521   \n",
       "2                                ENTRE RIOS AV. 2034      1  -58.39040293   \n",
       "3          LARRAZABAL AV. y VILLEGAS, CONRADO, GRAL.      8  -58.46503904   \n",
       "4            SAN JUAN AV. y SAENZ PEÃ‘A, LUIS, PRES.      1  -58.38718297   \n",
       "\n",
       "        latitud   participantes victima  ...       sexo edad  \\\n",
       "0  -34.68757022       MOTO-AUTO    MOTO  ...  MASCULINO   19   \n",
       "1  -34.66977709  AUTO-PASAJEROS    AUTO  ...  MASCULINO   70   \n",
       "2  -34.63189362       MOTO-AUTO    MOTO  ...  MASCULINO   30   \n",
       "3  -34.68092974         MOTO-SD    MOTO  ...  MASCULINO   18   \n",
       "4  -34.62246630  MOTO-PASAJEROS    MOTO  ...  MASCULINO   29   \n",
       "\n",
       "              gravedad    moto auto transporte_publico camion ciclista  \\\n",
       "0  2016-01-01 00:00:00  5e-324  0.0                0.0    0.0      0.0   \n",
       "1  2016-01-02 00:00:00  5e-324  0.0                0.0    0.0      0.0   \n",
       "2  2016-01-03 00:00:00  5e-324  0.0                0.0    0.0      0.0   \n",
       "3                   SD  5e-324  0.0                0.0    0.0      0.0   \n",
       "4  2016-02-01 00:00:00  5e-324  0.0                0.0    0.0      0.0   \n",
       "\n",
       "  participantes_1 participantes_2  \n",
       "0            MOTO            AUTO  \n",
       "1            AUTO       PASAJEROS  \n",
       "2            MOTO            AUTO  \n",
       "3            MOTO              SD  \n",
       "4            MOTO       PASAJEROS  \n",
       "\n",
       "[5 rows x 22 columns]"
      ]
     },
     "execution_count": 72,
     "metadata": {},
     "output_type": "execute_result"
    }
   ],
   "source": [
    "# Dividir la columna participantes por el guion y almacenar los valores en columnas distintas\n",
    "df_accidentes[\"participantes_1\"] = df_accidentes[\"participantes\"].str.split('-').str[0]\n",
    "df_accidentes[\"participantes_2\"] = df_accidentes[\"participantes\"].str.split('-').str[1]\n",
    "df_accidentes.head()"
   ]
  },
  {
   "cell_type": "code",
   "execution_count": 73,
   "metadata": {},
   "outputs": [],
   "source": [
    "# Eliminar la columna participantes\n",
    "df_accidentes.drop(\"participantes\", axis=1, inplace=True)"
   ]
  },
  {
   "cell_type": "code",
   "execution_count": 74,
   "metadata": {},
   "outputs": [
    {
     "data": {
      "text/plain": [
       "0    MOTO\n",
       "1    AUTO\n",
       "2    MOTO\n",
       "3    MOTO\n",
       "4    MOTO\n",
       "Name: victima, dtype: object"
      ]
     },
     "execution_count": 74,
     "metadata": {},
     "output_type": "execute_result"
    }
   ],
   "source": [
    "# Revisar que valores tiene victima\n",
    "df_accidentes[\"victima\"].head()"
   ]
  },
  {
   "cell_type": "code",
   "execution_count": 75,
   "metadata": {},
   "outputs": [
    {
     "data": {
      "text/plain": [
       "count     28315\n",
       "unique       19\n",
       "top          SD\n",
       "freq      12831\n",
       "Name: victima, dtype: object"
      ]
     },
     "execution_count": 75,
     "metadata": {},
     "output_type": "execute_result"
    }
   ],
   "source": [
    "# Revisar estadísticas de la columna victima\n",
    "df_accidentes[\"victima\"].describe()"
   ]
  },
  {
   "cell_type": "code",
   "execution_count": 76,
   "metadata": {},
   "outputs": [
    {
     "data": {
      "text/plain": [
       "victima\n",
       "SD                    12831\n",
       "MOTO                   6229\n",
       "AUTO                   2695\n",
       "PEATON                 2422\n",
       "CICLISTA               2263\n",
       "TRANSPORTE PUBLICO      905\n",
       "CAMIONETA               257\n",
       "TAXI                    247\n",
       "MOVIL                   142\n",
       "MIXTO                   113\n",
       "CAMION                   96\n",
       "BICICLETA                29\n",
       "MONOPATIN                28\n",
       "OTRO                     26\n",
       "UTILITARIO               16\n",
       "CARGAS                    7\n",
       "PASAJEROS                 5\n",
       "OBJETO FIJO               2\n",
       "PEATON_MOTO               2\n",
       "Name: count, dtype: int64"
      ]
     },
     "execution_count": 76,
     "metadata": {},
     "output_type": "execute_result"
    }
   ],
   "source": [
    "# Distribución de valores únicos\n",
    "df_accidentes[\"victima\"].value_counts()"
   ]
  },
  {
   "cell_type": "code",
   "execution_count": 77,
   "metadata": {},
   "outputs": [
    {
     "data": {
      "text/plain": [
       "0"
      ]
     },
     "execution_count": 77,
     "metadata": {},
     "output_type": "execute_result"
    }
   ],
   "source": [
    "# Revisar si hay nulos\n",
    "df_accidentes[\"victima\"].isna().sum()"
   ]
  },
  {
   "cell_type": "code",
   "execution_count": 78,
   "metadata": {},
   "outputs": [
    {
     "data": {
      "text/plain": [
       "0    MOTO\n",
       "1    AUTO\n",
       "2    MOTO\n",
       "3    MOTO\n",
       "4    MOTO\n",
       "Name: vehiculo_victima, dtype: object"
      ]
     },
     "execution_count": 78,
     "metadata": {},
     "output_type": "execute_result"
    }
   ],
   "source": [
    "# Revisar que valores tiene vehiculo_victima\n",
    "df_accidentes[\"vehiculo_victima\"].head()"
   ]
  },
  {
   "cell_type": "code",
   "execution_count": 79,
   "metadata": {},
   "outputs": [
    {
     "data": {
      "text/plain": [
       "count     28315\n",
       "unique       17\n",
       "top          sd\n",
       "freq      11792\n",
       "Name: vehiculo_victima, dtype: object"
      ]
     },
     "execution_count": 79,
     "metadata": {},
     "output_type": "execute_result"
    }
   ],
   "source": [
    "# Revisar estadísticas de la columna vehiculo_victima\n",
    "df_accidentes[\"vehiculo_victima\"].describe()"
   ]
  },
  {
   "cell_type": "code",
   "execution_count": 80,
   "metadata": {},
   "outputs": [
    {
     "data": {
      "text/plain": [
       "vehiculo_victima\n",
       "sd                    11792\n",
       "MOTO                   5081\n",
       "SD                     4486\n",
       "PEATON                 1951\n",
       "CICLISTA               1759\n",
       "AUTO                   1732\n",
       "TRANSPORTE PUBLICO      680\n",
       "TAXI                    241\n",
       "UTILITARIO              231\n",
       "MOVIL                   134\n",
       "MIXTO                   113\n",
       "CAMION                   40\n",
       "BICICLETA                29\n",
       "MONOPATIN                27\n",
       "CARGAS                    7\n",
       "OTRO                      7\n",
       "PASAJEROS                 5\n",
       "Name: count, dtype: int64"
      ]
     },
     "execution_count": 80,
     "metadata": {},
     "output_type": "execute_result"
    }
   ],
   "source": [
    "# Distribución de valores únicos\n",
    "df_accidentes[\"vehiculo_victima\"].value_counts()"
   ]
  },
  {
   "cell_type": "code",
   "execution_count": 81,
   "metadata": {},
   "outputs": [],
   "source": [
    "# Unificar sd y SD en la columna de vehículo_1\n",
    "df_accidentes[\"vehiculo_victima\"].replace(\"sd\", \"SD\", inplace=True)"
   ]
  },
  {
   "cell_type": "code",
   "execution_count": 82,
   "metadata": {},
   "outputs": [
    {
     "data": {
      "text/plain": [
       "0"
      ]
     },
     "execution_count": 82,
     "metadata": {},
     "output_type": "execute_result"
    }
   ],
   "source": [
    "# Revisar si hay nulos\n",
    "df_accidentes[\"vehiculo_victima\"].isna().sum()"
   ]
  },
  {
   "cell_type": "code",
   "execution_count": 83,
   "metadata": {},
   "outputs": [
    {
     "data": {
      "text/plain": [
       "victima             vehiculo_victima\n",
       "SD                  SD                  12831\n",
       "MOTO                SD                   1149\n",
       "AUTO                SD                    965\n",
       "CICLISTA            SD                    504\n",
       "PEATON              SD                    472\n",
       "TRANSPORTE PUBLICO  SD                    225\n",
       "CAMION              SD                     56\n",
       "CAMIONETA           SD                     39\n",
       "OTRO                SD                     19\n",
       "MOVIL               SD                      8\n",
       "TAXI                SD                      6\n",
       "UTILITARIO          SD                      3\n",
       "MONOPATIN           SD                      1\n",
       "Name: count, dtype: int64"
      ]
     },
     "execution_count": 83,
     "metadata": {},
     "output_type": "execute_result"
    }
   ],
   "source": [
    "df_accidentes[[\"victima\", \"vehiculo_victima\"]][df_accidentes[\"vehiculo_victima\"] == \"SD\"].value_counts()"
   ]
  },
  {
   "cell_type": "markdown",
   "metadata": {},
   "source": [
    "En la línea de código anterior veo que la columna victima me puede completar valores de la columna vehiculo_victima"
   ]
  },
  {
   "cell_type": "code",
   "execution_count": 84,
   "metadata": {},
   "outputs": [
    {
     "data": {
      "text/plain": [
       "0                      AUTO\n",
       "1                 PASAJEROS\n",
       "2                      AUTO\n",
       "3                        SD\n",
       "4                 PASAJEROS\n",
       "                ...        \n",
       "28310                    SD\n",
       "28311                    SD\n",
       "28312                    SD\n",
       "28313    TRANSPORTE PUBLICO\n",
       "28314                  AUTO\n",
       "Name: acusado, Length: 28315, dtype: object"
      ]
     },
     "execution_count": 84,
     "metadata": {},
     "output_type": "execute_result"
    }
   ],
   "source": [
    "# Revisar los valores de la columna de acusado\n",
    "df_accidentes[\"acusado\"]"
   ]
  },
  {
   "cell_type": "code",
   "execution_count": 85,
   "metadata": {},
   "outputs": [
    {
     "data": {
      "text/plain": [
       "0"
      ]
     },
     "execution_count": 85,
     "metadata": {},
     "output_type": "execute_result"
    }
   ],
   "source": [
    "# Revisar si hay nulos \n",
    "df_accidentes[\"acusado\"].isna().sum()"
   ]
  },
  {
   "cell_type": "code",
   "execution_count": 86,
   "metadata": {},
   "outputs": [
    {
     "data": {
      "text/plain": [
       "acusado\n",
       "SD                    17941\n",
       "AUTO                   5376\n",
       "TRANSPORTE PUBLICO     1188\n",
       "CAMIONETA               987\n",
       "MOTO                    807\n",
       "TAXI                    648\n",
       "OBJETO FIJO             399\n",
       "CAMION                  348\n",
       "PASAJEROS               178\n",
       "CARGAS                  150\n",
       "MOVIL                    99\n",
       "CICLISTA                 90\n",
       "OTRO                     31\n",
       "UTILITARIO               29\n",
       "MULTIPLE                 17\n",
       "PEATON                   16\n",
       "BICICLETA                 7\n",
       "MONOPATIN                 3\n",
       "TREN                      1\n",
       "Name: count, dtype: int64"
      ]
     },
     "execution_count": 86,
     "metadata": {},
     "output_type": "execute_result"
    }
   ],
   "source": [
    "# Revisar la distribución de valores\n",
    "df_accidentes[\"acusado\"].value_counts()"
   ]
  },
  {
   "cell_type": "markdown",
   "metadata": {},
   "source": [
    "#### Las dos columnas de los vehículos participantes las voy a llenar inicialmente con las columnas de vehículo víctima y la columna de acusado, y luego voy a revisar si puedo completar los valores faltantes con el resto de las columnas."
   ]
  },
  {
   "cell_type": "code",
   "execution_count": 87,
   "metadata": {},
   "outputs": [
    {
     "data": {
      "text/plain": [
       "Index(['id', 'fecha', 'franja_hora', 'tipo_calle', 'direccion_normalizada',\n",
       "       'comuna', 'longitud', 'latitud', 'victima', 'vehiculo_2', 'vehiculo_1',\n",
       "       'sexo', 'edad', 'gravedad', 'moto', 'auto', 'transporte_publico',\n",
       "       'camion', 'ciclista', 'participantes_1', 'participantes_2'],\n",
       "      dtype='object')"
      ]
     },
     "execution_count": 87,
     "metadata": {},
     "output_type": "execute_result"
    }
   ],
   "source": [
    "# Renombrar las columnas\n",
    "df_accidentes.rename({\"vehiculo_victima\": \"vehiculo_1\", \"acusado\": \"vehiculo_2\"}, inplace=True, axis=1)\n",
    "df_accidentes.columns"
   ]
  },
  {
   "cell_type": "markdown",
   "metadata": {},
   "source": [
    "-----------"
   ]
  },
  {
   "cell_type": "code",
   "execution_count": 88,
   "metadata": {},
   "outputs": [],
   "source": [
    "# Guardar el csv parcial\n",
    "df_accidentes.to_csv(\"accidentes_parcial.csv\", index=False)"
   ]
  },
  {
   "cell_type": "code",
   "execution_count": 109,
   "metadata": {},
   "outputs": [],
   "source": [
    "# Cargar el csv\n",
    "df_accidentes = pd.read_csv(\"accidentes_parcial.csv\")"
   ]
  },
  {
   "cell_type": "markdown",
   "metadata": {},
   "source": [
    "----------------"
   ]
  },
  {
   "cell_type": "markdown",
   "metadata": {},
   "source": [
    "Para preparar el relleno de las columnas vehiculo_1 y vehiculo_2. Voy a llenar con nulos todos los valores SD de ambas, y el resto de las columnas las voy a dejar solamente con nulos y con el valor del vehículo cuando existe. También voy a unificar nombre escritos de manera diferente."
   ]
  },
  {
   "cell_type": "code",
   "execution_count": 89,
   "metadata": {},
   "outputs": [
    {
     "data": {
      "text/plain": [
       "vehiculo_1\n",
       "SD                    16278\n",
       "MOTO                   5081\n",
       "PEATON                 1951\n",
       "CICLISTA               1759\n",
       "AUTO                   1732\n",
       "TRANSPORTE PUBLICO      680\n",
       "TAXI                    241\n",
       "UTILITARIO              231\n",
       "MOVIL                   134\n",
       "MIXTO                   113\n",
       "CAMION                   40\n",
       "BICICLETA                29\n",
       "MONOPATIN                27\n",
       "CARGAS                    7\n",
       "OTRO                      7\n",
       "PASAJEROS                 5\n",
       "Name: count, dtype: int64"
      ]
     },
     "execution_count": 89,
     "metadata": {},
     "output_type": "execute_result"
    }
   ],
   "source": [
    "# Revisar la distribución\n",
    "df_accidentes[\"vehiculo_1\"].value_counts()"
   ]
  },
  {
   "cell_type": "code",
   "execution_count": 110,
   "metadata": {},
   "outputs": [],
   "source": [
    "# Preparar los valores para los rellenos\n",
    "df_accidentes[\"vehiculo_1\"].replace('SD', np.NAN, inplace=True)\n",
    "df_accidentes[\"vehiculo_1\"].replace('CICLISTA', \"BICICLETA\", inplace=True)"
   ]
  },
  {
   "cell_type": "code",
   "execution_count": 91,
   "metadata": {},
   "outputs": [
    {
     "data": {
      "text/plain": [
       "vehiculo_2\n",
       "SD                    17941\n",
       "AUTO                   5376\n",
       "TRANSPORTE PUBLICO     1188\n",
       "CAMIONETA               987\n",
       "MOTO                    807\n",
       "TAXI                    648\n",
       "OBJETO FIJO             399\n",
       "CAMION                  348\n",
       "PASAJEROS               178\n",
       "CARGAS                  150\n",
       "MOVIL                    99\n",
       "CICLISTA                 90\n",
       "OTRO                     31\n",
       "UTILITARIO               29\n",
       "MULTIPLE                 17\n",
       "PEATON                   16\n",
       "BICICLETA                 7\n",
       "MONOPATIN                 3\n",
       "TREN                      1\n",
       "Name: count, dtype: int64"
      ]
     },
     "execution_count": 91,
     "metadata": {},
     "output_type": "execute_result"
    }
   ],
   "source": [
    "# Revisar la distribución\n",
    "df_accidentes[\"vehiculo_2\"].value_counts()"
   ]
  },
  {
   "cell_type": "code",
   "execution_count": 111,
   "metadata": {},
   "outputs": [],
   "source": [
    "# Preparar los valores para los rellenos\n",
    "df_accidentes[\"vehiculo_2\"].replace('SD', np.NAN, inplace=True)\n",
    "df_accidentes[\"vehiculo_2\"].replace('CICLISTA', \"BICICLETA\", inplace=True)"
   ]
  },
  {
   "cell_type": "code",
   "execution_count": 93,
   "metadata": {},
   "outputs": [
    {
     "data": {
      "text/plain": [
       "victima\n",
       "SD                    12831\n",
       "MOTO                   6229\n",
       "AUTO                   2695\n",
       "PEATON                 2422\n",
       "CICLISTA               2263\n",
       "TRANSPORTE PUBLICO      905\n",
       "CAMIONETA               257\n",
       "TAXI                    247\n",
       "MOVIL                   142\n",
       "MIXTO                   113\n",
       "CAMION                   96\n",
       "BICICLETA                29\n",
       "MONOPATIN                28\n",
       "OTRO                     26\n",
       "UTILITARIO               16\n",
       "CARGAS                    7\n",
       "PASAJEROS                 5\n",
       "OBJETO FIJO               2\n",
       "PEATON_MOTO               2\n",
       "Name: count, dtype: int64"
      ]
     },
     "execution_count": 93,
     "metadata": {},
     "output_type": "execute_result"
    }
   ],
   "source": [
    "# Revisar la distribución\n",
    "df_accidentes[\"victima\"].value_counts()"
   ]
  },
  {
   "cell_type": "code",
   "execution_count": 112,
   "metadata": {},
   "outputs": [
    {
     "name": "stderr",
     "output_type": "stream",
     "text": [
      "C:\\Users\\Usuario\\AppData\\Local\\Temp\\ipykernel_9564\\907857149.py:4: FutureWarning: The 'limit' keyword in Series.replace is deprecated and will be removed in a future version.\n",
      "  df_accidentes[\"victima\"].replace('PEATON_MOTO', \"PEATON\", inplace=True, limit=1)\n",
      "C:\\Users\\Usuario\\AppData\\Local\\Temp\\ipykernel_9564\\907857149.py:5: FutureWarning: The 'limit' keyword in Series.replace is deprecated and will be removed in a future version.\n",
      "  df_accidentes[\"victima\"].replace('PEATON_MOTO', \"MOTO\", inplace=True, limit=1)\n"
     ]
    }
   ],
   "source": [
    "# Preparar los valores para los rellenos\n",
    "df_accidentes[\"victima\"].replace('SD', np.NAN, inplace=True)\n",
    "df_accidentes[\"victima\"].replace('CICLISTA', \"BICICLETA\", inplace=True)\n",
    "df_accidentes[\"victima\"].replace('PEATON_MOTO', \"PEATON\", inplace=True, limit=1)\n",
    "df_accidentes[\"victima\"].replace('PEATON_MOTO', \"MOTO\", inplace=True, limit=1)"
   ]
  },
  {
   "cell_type": "code",
   "execution_count": 113,
   "metadata": {},
   "outputs": [
    {
     "data": {
      "text/plain": [
       "participantes_1\n",
       "SD                    12831\n",
       "MOTO                   6221\n",
       "AUTO                   2694\n",
       "PEATON                 2417\n",
       "CICLISTA               2263\n",
       "TRANSPORTE PUBLICO      905\n",
       "CAMIONETA               257\n",
       "TAXI                    247\n",
       "MOVIL                   142\n",
       "MIXTO                   113\n",
       "CAMION                   96\n",
       "BICICLETA                28\n",
       "MONOPATIN                28\n",
       "OTRO                     26\n",
       "MULTIPLE                 17\n",
       "UTILITARIO               16\n",
       "CARGAS                    7\n",
       "PASAJEROS                 5\n",
       "PEATON_MOTO               2\n",
       "Name: count, dtype: int64"
      ]
     },
     "execution_count": 113,
     "metadata": {},
     "output_type": "execute_result"
    }
   ],
   "source": [
    "# Revisar la distribución\n",
    "df_accidentes[\"participantes_1\"].value_counts()"
   ]
  },
  {
   "cell_type": "code",
   "execution_count": 114,
   "metadata": {},
   "outputs": [
    {
     "name": "stderr",
     "output_type": "stream",
     "text": [
      "C:\\Users\\Usuario\\AppData\\Local\\Temp\\ipykernel_9564\\389195891.py:4: FutureWarning: The 'limit' keyword in Series.replace is deprecated and will be removed in a future version.\n",
      "  df_accidentes[\"participantes_1\"].replace('PEATON_MOTO', \"PEATON\", inplace=True, limit=1)\n",
      "C:\\Users\\Usuario\\AppData\\Local\\Temp\\ipykernel_9564\\389195891.py:5: FutureWarning: The 'limit' keyword in Series.replace is deprecated and will be removed in a future version.\n",
      "  df_accidentes[\"participantes_1\"].replace('PEATON_MOTO', \"MOTO\", inplace=True, limit=1)\n"
     ]
    }
   ],
   "source": [
    "# Preparar los valores para los rellenos\n",
    "df_accidentes[\"participantes_1\"].replace('SD', np.NAN, inplace=True)\n",
    "df_accidentes[\"participantes_1\"].replace('CICLISTA', \"BICICLETA\", inplace=True)\n",
    "df_accidentes[\"participantes_1\"].replace('PEATON_MOTO', \"PEATON\", inplace=True, limit=1)\n",
    "df_accidentes[\"participantes_1\"].replace('PEATON_MOTO', \"MOTO\", inplace=True, limit=1)"
   ]
  },
  {
   "cell_type": "code",
   "execution_count": 115,
   "metadata": {},
   "outputs": [
    {
     "data": {
      "text/plain": [
       "participantes_2\n",
       "SD                    17941\n",
       "AUTO                   5374\n",
       "TRANSPORTE PUBLICO     1188\n",
       "CAMIONETA               987\n",
       "MOTO                    807\n",
       "TAXI                    648\n",
       "OBJETO FIJO             401\n",
       "CAMION                  348\n",
       "PASAJEROS               178\n",
       "CARGAS                  150\n",
       "MOVIL                   102\n",
       "CICLISTA                 90\n",
       "UTILITARIO               29\n",
       "OTRO                     28\n",
       "PEATON                   16\n",
       "BICICLETA                 7\n",
       "MONOPATIN                 3\n",
       "TREN                      1\n",
       "Name: count, dtype: int64"
      ]
     },
     "execution_count": 115,
     "metadata": {},
     "output_type": "execute_result"
    }
   ],
   "source": [
    "# Revisar la distribución\n",
    "df_accidentes[\"participantes_2\"].value_counts()"
   ]
  },
  {
   "cell_type": "code",
   "execution_count": 116,
   "metadata": {},
   "outputs": [],
   "source": [
    "# Preparar los valores para los rellenos\n",
    "df_accidentes[\"participantes_2\"].replace('SD', np.NAN, inplace=True)\n",
    "df_accidentes[\"participantes_2\"].replace('CICLISTA', \"BICICLETA\", inplace=True)"
   ]
  },
  {
   "cell_type": "markdown",
   "metadata": {},
   "source": [
    "Sobre las columnas siguientes, no encontré explicación de las marcas, pero infiero que \"SD\" es \"sin datos\", que \"x\" es para marcar en caso afirmativo, y los casos de \"0\" y \"0.0\" no sé si son positivos o negativos, pero viendo los casos de transporte público y camiones, infiero que también son casos negativos. Por lo que los únicos positivos son las \"x\"."
   ]
  },
  {
   "cell_type": "code",
   "execution_count": 117,
   "metadata": {},
   "outputs": [
    {
     "data": {
      "text/plain": [
       "moto\n",
       "SD          10153\n",
       "x            9978\n",
       "0            7375\n",
       "5e-324        676\n",
       "1e-323         38\n",
       "1.5e-323        3\n",
       "Name: count, dtype: int64"
      ]
     },
     "execution_count": 117,
     "metadata": {},
     "output_type": "execute_result"
    }
   ],
   "source": [
    "# Revisar la distribución\n",
    "df_accidentes[\"moto\"].value_counts()"
   ]
  },
  {
   "cell_type": "code",
   "execution_count": 118,
   "metadata": {},
   "outputs": [],
   "source": [
    "# Preparar los valores para los rellenos\n",
    "df_accidentes[\"moto\"].replace('SD', np.NAN, inplace=True)\n",
    "df_accidentes[\"moto\"].replace('0', np.NAN, inplace=True)\n",
    "df_accidentes[\"moto\"].replace('5e-324', np.NAN, inplace=True)\n",
    "df_accidentes[\"moto\"].replace('1e-323', np.NAN, inplace=True)\n",
    "df_accidentes[\"moto\"].replace('1.5e-323', np.NAN, inplace=True)\n",
    "df_accidentes[\"moto\"].replace('x', \"MOTO\", inplace=True)"
   ]
  },
  {
   "cell_type": "code",
   "execution_count": 119,
   "metadata": {},
   "outputs": [
    {
     "data": {
      "text/plain": [
       "auto\n",
       "SD     14564\n",
       "x       6525\n",
       "0       6417\n",
       "0.0      717\n",
       "Name: count, dtype: int64"
      ]
     },
     "execution_count": 119,
     "metadata": {},
     "output_type": "execute_result"
    }
   ],
   "source": [
    "# Revisar la distribución\n",
    "df_accidentes[\"auto\"].value_counts()"
   ]
  },
  {
   "cell_type": "code",
   "execution_count": 120,
   "metadata": {},
   "outputs": [],
   "source": [
    "# Preparar los valores para los rellenos\n",
    "df_accidentes[\"auto\"].replace('SD', np.NAN, inplace=True)\n",
    "df_accidentes[\"auto\"].replace('0', np.NAN, inplace=True)\n",
    "df_accidentes[\"auto\"].replace('0.0', np.NAN, inplace=True)\n",
    "df_accidentes[\"auto\"].replace('x', \"AUTO\", inplace=True)"
   ]
  },
  {
   "cell_type": "code",
   "execution_count": 121,
   "metadata": {},
   "outputs": [
    {
     "data": {
      "text/plain": [
       "transporte_publico\n",
       "SD     13539\n",
       "0      10898\n",
       "x       3069\n",
       "0.0      717\n",
       "Name: count, dtype: int64"
      ]
     },
     "execution_count": 121,
     "metadata": {},
     "output_type": "execute_result"
    }
   ],
   "source": [
    "# Revisar la distribución\n",
    "df_accidentes[\"transporte_publico\"].value_counts()"
   ]
  },
  {
   "cell_type": "code",
   "execution_count": 122,
   "metadata": {},
   "outputs": [],
   "source": [
    "# Preparar los valores para los rellenos\n",
    "df_accidentes[\"transporte_publico\"].replace('SD', np.NAN, inplace=True)\n",
    "df_accidentes[\"transporte_publico\"].replace('0', np.NAN, inplace=True)\n",
    "df_accidentes[\"transporte_publico\"].replace('0.0', np.NAN, inplace=True)\n",
    "df_accidentes[\"transporte_publico\"].replace('x', \"TRANSPORTE PUBLICO\", inplace=True)"
   ]
  },
  {
   "cell_type": "code",
   "execution_count": 123,
   "metadata": {},
   "outputs": [
    {
     "data": {
      "text/plain": [
       "camion\n",
       "SD     14755\n",
       "0      11185\n",
       "x       1566\n",
       "0.0      717\n",
       "Name: count, dtype: int64"
      ]
     },
     "execution_count": 123,
     "metadata": {},
     "output_type": "execute_result"
    }
   ],
   "source": [
    "# Revisar la distribución\n",
    "df_accidentes[\"camion\"].value_counts()"
   ]
  },
  {
   "cell_type": "code",
   "execution_count": 124,
   "metadata": {},
   "outputs": [],
   "source": [
    "# Preparar los valores para los rellenos\n",
    "df_accidentes[\"camion\"].replace('SD', np.NAN, inplace=True)\n",
    "df_accidentes[\"camion\"].replace('0', np.NAN, inplace=True)\n",
    "df_accidentes[\"camion\"].replace('0.0', np.NAN, inplace=True)\n",
    "df_accidentes[\"camion\"].replace('x', \"CAMION\", inplace=True)"
   ]
  },
  {
   "cell_type": "code",
   "execution_count": 125,
   "metadata": {},
   "outputs": [
    {
     "data": {
      "text/plain": [
       "ciclista\n",
       "SD     13392\n",
       "0      10605\n",
       "x       3509\n",
       "0.0      717\n",
       "Name: count, dtype: int64"
      ]
     },
     "execution_count": 125,
     "metadata": {},
     "output_type": "execute_result"
    }
   ],
   "source": [
    "# Revisar la distribución\n",
    "df_accidentes[\"ciclista\"].value_counts()"
   ]
  },
  {
   "cell_type": "code",
   "execution_count": 126,
   "metadata": {},
   "outputs": [],
   "source": [
    "# Preparar los valores para los rellenos\n",
    "df_accidentes[\"ciclista\"].replace('SD', np.NAN, inplace=True)\n",
    "df_accidentes[\"ciclista\"].replace('0', np.NAN, inplace=True)\n",
    "df_accidentes[\"ciclista\"].replace('0.0', np.NAN, inplace=True)\n",
    "df_accidentes[\"ciclista\"].replace('x', \"BICICLETA\", inplace=True)"
   ]
  },
  {
   "cell_type": "markdown",
   "metadata": {},
   "source": [
    "----------------"
   ]
  },
  {
   "cell_type": "code",
   "execution_count": 127,
   "metadata": {},
   "outputs": [],
   "source": [
    "# Guardar el csv parcial\n",
    "df_accidentes.to_csv(\"accidentes_parcial.csv\", index=False)"
   ]
  },
  {
   "cell_type": "code",
   "execution_count": 2,
   "metadata": {},
   "outputs": [],
   "source": [
    "# Cargar el csv\n",
    "df_accidentes = pd.read_csv(\"accidentes_parcial.csv\")"
   ]
  },
  {
   "cell_type": "markdown",
   "metadata": {},
   "source": [
    "-----------"
   ]
  },
  {
   "cell_type": "markdown",
   "metadata": {},
   "source": [
    "A partir de los procesos que recibió el dataframe, las columnas \"victima\" y \"participantes_1\" se le van a pasar solamente a \"vehiculo_1\" y la columna \"participantes_2\" se le va a pasar a \"vehiculo_2\" Todas las columnas fueron preparadas para tal fin, y no se van a pasar columnas a ambos destinos para evitar que un mismo dato complete las dos columnas de vehiculo. (Ej. Si tengo un accidente entre una moto y un SD, tengo que evitar que se complete moto-moto por error.)"
   ]
  },
  {
   "cell_type": "code",
   "execution_count": 128,
   "metadata": {},
   "outputs": [
    {
     "data": {
      "text/plain": [
       "16278"
      ]
     },
     "execution_count": 128,
     "metadata": {},
     "output_type": "execute_result"
    }
   ],
   "source": [
    "# Contar los nulos para ver la efectividad del relleno\n",
    "df_accidentes[\"vehiculo_1\"].isna().sum()"
   ]
  },
  {
   "cell_type": "code",
   "execution_count": 129,
   "metadata": {},
   "outputs": [
    {
     "data": {
      "text/plain": [
       "12831"
      ]
     },
     "execution_count": 129,
     "metadata": {},
     "output_type": "execute_result"
    }
   ],
   "source": [
    "# Rellenar usando la columna victima\n",
    "df_accidentes[\"vehiculo_1\"].fillna(df_accidentes[\"victima\"], inplace=True)\n",
    "df_accidentes[\"vehiculo_1\"].isna().sum()\n"
   ]
  },
  {
   "cell_type": "code",
   "execution_count": 130,
   "metadata": {},
   "outputs": [
    {
     "data": {
      "text/plain": [
       "12831"
      ]
     },
     "execution_count": 130,
     "metadata": {},
     "output_type": "execute_result"
    }
   ],
   "source": [
    "# Rellenar usando la columna participantes_1\n",
    "df_accidentes[\"vehiculo_1\"].fillna(df_accidentes[\"participantes_1\"], inplace=True)\n",
    "df_accidentes[\"vehiculo_1\"].isna().sum()"
   ]
  },
  {
   "cell_type": "code",
   "execution_count": 131,
   "metadata": {},
   "outputs": [
    {
     "data": {
      "text/plain": [
       "17941"
      ]
     },
     "execution_count": 131,
     "metadata": {},
     "output_type": "execute_result"
    }
   ],
   "source": [
    "# Contar los nulos para ver la efectividad del relleno\n",
    "df_accidentes[\"vehiculo_2\"].isna().sum()"
   ]
  },
  {
   "cell_type": "code",
   "execution_count": 132,
   "metadata": {},
   "outputs": [
    {
     "data": {
      "text/plain": [
       "17941"
      ]
     },
     "execution_count": 132,
     "metadata": {},
     "output_type": "execute_result"
    }
   ],
   "source": [
    "# Rellenar usando la columna participantes_2\n",
    "df_accidentes[\"vehiculo_2\"].fillna(df_accidentes[\"participantes_2\"], inplace=True)\n",
    "df_accidentes[\"vehiculo_2\"].isna().sum()"
   ]
  },
  {
   "cell_type": "markdown",
   "metadata": {},
   "source": [
    "Las columnas surgidas de dividir la columna de participantes, no aportaron nuevos valores."
   ]
  },
  {
   "cell_type": "markdown",
   "metadata": {},
   "source": [
    "En el caso de las columnas de vehículos, como se marcaba con una x el vehículo involucrado, cuando hay solo una x no puedo saber si se trataba de 2 vehículos del mismo tipo, o uno del tipo marcado y uno desconocido, por lo que voy a suponer que la x solo representa un vehículo involucrado, y que si se repetía, la persona llenaba la columna de víctima, acusado o participantes que eran parte del mismo dataset. **Por lo tanto, voy a rellenar los valores de vehiculo_1 siempre que se pueda, y los de vehiculo_2 solo si es diferente al de vehiculo_1.**"
   ]
  },
  {
   "cell_type": "code",
   "execution_count": 133,
   "metadata": {},
   "outputs": [
    {
     "data": {
      "text/plain": [
       "Index(['id', 'fecha', 'franja_hora', 'tipo_calle', 'direccion_normalizada',\n",
       "       'comuna', 'longitud', 'latitud', 'victima', 'vehiculo_2', 'vehiculo_1',\n",
       "       'sexo', 'edad', 'gravedad', 'moto', 'auto', 'transporte_publico',\n",
       "       'camion', 'ciclista', 'participantes_1', 'participantes_2'],\n",
       "      dtype='object')"
      ]
     },
     "execution_count": 133,
     "metadata": {},
     "output_type": "execute_result"
    }
   ],
   "source": [
    "df_accidentes.columns"
   ]
  },
  {
   "cell_type": "code",
   "execution_count": 134,
   "metadata": {},
   "outputs": [
    {
     "data": {
      "text/plain": [
       "12831"
      ]
     },
     "execution_count": 134,
     "metadata": {},
     "output_type": "execute_result"
    }
   ],
   "source": [
    "# Contar los nulos para ver la efectividad del relleno\n",
    "df_accidentes[\"vehiculo_1\"].isna().sum()"
   ]
  },
  {
   "cell_type": "code",
   "execution_count": 135,
   "metadata": {},
   "outputs": [
    {
     "data": {
      "text/plain": [
       "9628"
      ]
     },
     "execution_count": 135,
     "metadata": {},
     "output_type": "execute_result"
    }
   ],
   "source": [
    "# Rellenar usando la columna moto\n",
    "df_accidentes[\"vehiculo_1\"].fillna(df_accidentes[\"moto\"], inplace=True)\n",
    "df_accidentes[\"vehiculo_1\"].isna().sum()"
   ]
  },
  {
   "cell_type": "code",
   "execution_count": 136,
   "metadata": {},
   "outputs": [
    {
     "data": {
      "text/plain": [
       "9525"
      ]
     },
     "execution_count": 136,
     "metadata": {},
     "output_type": "execute_result"
    }
   ],
   "source": [
    "# Rellenar usando la columna auto\n",
    "df_accidentes[\"vehiculo_1\"].fillna(df_accidentes[\"auto\"], inplace=True)\n",
    "df_accidentes[\"vehiculo_1\"].isna().sum()"
   ]
  },
  {
   "cell_type": "code",
   "execution_count": 137,
   "metadata": {},
   "outputs": [
    {
     "data": {
      "text/plain": [
       "8482"
      ]
     },
     "execution_count": 137,
     "metadata": {},
     "output_type": "execute_result"
    }
   ],
   "source": [
    "# Rellenar usando la columna transporte_publico\n",
    "df_accidentes[\"vehiculo_1\"].fillna(df_accidentes[\"transporte_publico\"], inplace=True)\n",
    "df_accidentes[\"vehiculo_1\"].isna().sum()"
   ]
  },
  {
   "cell_type": "code",
   "execution_count": 138,
   "metadata": {},
   "outputs": [
    {
     "data": {
      "text/plain": [
       "8280"
      ]
     },
     "execution_count": 138,
     "metadata": {},
     "output_type": "execute_result"
    }
   ],
   "source": [
    "# Rellenar usando la columna camion\n",
    "df_accidentes[\"vehiculo_1\"].fillna(df_accidentes[\"camion\"], inplace=True)\n",
    "df_accidentes[\"vehiculo_1\"].isna().sum()"
   ]
  },
  {
   "cell_type": "code",
   "execution_count": 139,
   "metadata": {},
   "outputs": [
    {
     "data": {
      "text/plain": [
       "7820"
      ]
     },
     "execution_count": 139,
     "metadata": {},
     "output_type": "execute_result"
    }
   ],
   "source": [
    "# Rellenar usando la columna ciclista\n",
    "df_accidentes[\"vehiculo_1\"].fillna(df_accidentes[\"ciclista\"], inplace=True)\n",
    "df_accidentes[\"vehiculo_1\"].isna().sum()"
   ]
  },
  {
   "cell_type": "markdown",
   "metadata": {},
   "source": [
    "Arranqué con 16278 nulos y terminé con 7820, lo cual considero satisfactorio."
   ]
  },
  {
   "cell_type": "markdown",
   "metadata": {},
   "source": [
    "La función siguiente, generada con ayuda de GPT, me va a ayudar a completar las columnas del dataframe evitando duplicar el dato del vehículo implicado, según lo explicado más arriba.\n",
    "\n"
   ]
  },
  {
   "cell_type": "code",
   "execution_count": 140,
   "metadata": {},
   "outputs": [],
   "source": [
    "def completar_vehiculos(df, columna_parametro):\n",
    "  \"\"\"\n",
    "  Función para completar la columna \"vehiculo_2\"con el valor de la \"columna_parametro\" si es posible.\n",
    "\n",
    "  Argumentos:\n",
    "    df: El DataFrame con la columna \"vehiculo_2\" y \"columna_parametro\".\n",
    "    columna_parametro: El nombre de la columna que se usará para completar la otra.\n",
    "\n",
    "  Devuelve:\n",
    "    El DataFrame con la columna \"vehiculo_2\" completadas cuando corresponda.\n",
    "  \"\"\"\n",
    "  for i in df.index:\n",
    "    if pd.isnull(df.loc[i, \"vehiculo_2\"]) and not pd.isnull(df.loc[i, columna_parametro]) and (df.loc[i, \"vehiculo_1\"] != df.loc[i, columna_parametro]):\n",
    "      df.loc[i, \"vehiculo_2\"] = df.loc[i, columna_parametro]\n",
    "  return df"
   ]
  },
  {
   "cell_type": "code",
   "execution_count": 141,
   "metadata": {},
   "outputs": [
    {
     "data": {
      "text/plain": [
       "17941"
      ]
     },
     "execution_count": 141,
     "metadata": {},
     "output_type": "execute_result"
    }
   ],
   "source": [
    "# Contar los nulos para ver la efectividad del relleno\n",
    "df_accidentes[\"vehiculo_2\"].isna().sum()"
   ]
  },
  {
   "cell_type": "code",
   "execution_count": 142,
   "metadata": {},
   "outputs": [
    {
     "data": {
      "text/plain": [
       "17438"
      ]
     },
     "execution_count": 142,
     "metadata": {},
     "output_type": "execute_result"
    }
   ],
   "source": [
    "# Rellenar usando la columna moto\n",
    "completar_vehiculos(df_accidentes, \"moto\")\n",
    "df_accidentes[\"vehiculo_2\"].isna().sum()"
   ]
  },
  {
   "cell_type": "code",
   "execution_count": 143,
   "metadata": {},
   "outputs": [
    {
     "data": {
      "text/plain": [
       "17438"
      ]
     },
     "execution_count": 143,
     "metadata": {},
     "output_type": "execute_result"
    }
   ],
   "source": [
    "# Rellenar usando la columna auto\n",
    "completar_vehiculos(df_accidentes, \"auto\")\n",
    "df_accidentes[\"vehiculo_2\"].isna().sum()"
   ]
  },
  {
   "cell_type": "code",
   "execution_count": 144,
   "metadata": {},
   "outputs": [
    {
     "data": {
      "text/plain": [
       "17006"
      ]
     },
     "execution_count": 144,
     "metadata": {},
     "output_type": "execute_result"
    }
   ],
   "source": [
    "# Rellenar usando la columna transporte_publico\n",
    "completar_vehiculos(df_accidentes, \"transporte_publico\")\n",
    "df_accidentes[\"vehiculo_2\"].isna().sum()"
   ]
  },
  {
   "cell_type": "code",
   "execution_count": 145,
   "metadata": {},
   "outputs": [
    {
     "data": {
      "text/plain": [
       "16773"
      ]
     },
     "execution_count": 145,
     "metadata": {},
     "output_type": "execute_result"
    }
   ],
   "source": [
    "# Rellenar usando la columna camion\n",
    "completar_vehiculos(df_accidentes, \"camion\")\n",
    "df_accidentes[\"vehiculo_2\"].isna().sum()"
   ]
  },
  {
   "cell_type": "code",
   "execution_count": 146,
   "metadata": {},
   "outputs": [
    {
     "data": {
      "text/plain": [
       "16148"
      ]
     },
     "execution_count": 146,
     "metadata": {},
     "output_type": "execute_result"
    }
   ],
   "source": [
    "# Rellenar usando la columna ciclista\n",
    "completar_vehiculos(df_accidentes, \"ciclista\")\n",
    "df_accidentes[\"vehiculo_2\"].isna().sum()"
   ]
  },
  {
   "cell_type": "markdown",
   "metadata": {},
   "source": [
    "Ahora voy a volver a cambiar los nulos por SD"
   ]
  },
  {
   "cell_type": "code",
   "execution_count": 147,
   "metadata": {},
   "outputs": [],
   "source": [
    "df_accidentes[\"vehiculo_1\"].fillna(\"SD\", inplace=True)\n",
    "df_accidentes[\"vehiculo_2\"].fillna(\"SD\", inplace=True)"
   ]
  },
  {
   "cell_type": "code",
   "execution_count": 148,
   "metadata": {},
   "outputs": [
    {
     "data": {
      "text/plain": [
       "vehiculo_1\n",
       "MOTO                  9433\n",
       "SD                    7820\n",
       "AUTO                  2800\n",
       "BICICLETA             2752\n",
       "PEATON                2423\n",
       "TRANSPORTE PUBLICO    1948\n",
       "CAMION                 298\n",
       "TAXI                   247\n",
       "UTILITARIO             234\n",
       "MOVIL                  142\n",
       "MIXTO                  113\n",
       "CAMIONETA               39\n",
       "MONOPATIN               28\n",
       "OTRO                    26\n",
       "CARGAS                   7\n",
       "PASAJEROS                5\n",
       "Name: count, dtype: int64"
      ]
     },
     "execution_count": 148,
     "metadata": {},
     "output_type": "execute_result"
    }
   ],
   "source": [
    "# Revisar distribución\n",
    "df_accidentes[\"vehiculo_1\"].value_counts()"
   ]
  },
  {
   "cell_type": "code",
   "execution_count": 149,
   "metadata": {},
   "outputs": [
    {
     "data": {
      "text/plain": [
       "vehiculo_2\n",
       "SD                    16148\n",
       "AUTO                   5376\n",
       "TRANSPORTE PUBLICO     1620\n",
       "MOTO                   1310\n",
       "CAMIONETA               987\n",
       "BICICLETA               722\n",
       "TAXI                    648\n",
       "CAMION                  581\n",
       "OBJETO FIJO             399\n",
       "PASAJEROS               178\n",
       "CARGAS                  150\n",
       "MOVIL                    99\n",
       "OTRO                     31\n",
       "UTILITARIO               29\n",
       "MULTIPLE                 17\n",
       "PEATON                   16\n",
       "MONOPATIN                 3\n",
       "TREN                      1\n",
       "Name: count, dtype: int64"
      ]
     },
     "execution_count": 149,
     "metadata": {},
     "output_type": "execute_result"
    }
   ],
   "source": [
    "# Revisar distribución\n",
    "df_accidentes[\"vehiculo_2\"].value_counts()"
   ]
  },
  {
   "cell_type": "markdown",
   "metadata": {},
   "source": [
    "Voy a eliminar las columnas que ya no necesito."
   ]
  },
  {
   "cell_type": "code",
   "execution_count": 151,
   "metadata": {},
   "outputs": [
    {
     "data": {
      "text/plain": [
       "Index(['id', 'fecha', 'franja_hora', 'tipo_calle', 'direccion_normalizada',\n",
       "       'comuna', 'longitud', 'latitud', 'vehiculo_2', 'vehiculo_1', 'sexo',\n",
       "       'edad', 'gravedad'],\n",
       "      dtype='object')"
      ]
     },
     "execution_count": 151,
     "metadata": {},
     "output_type": "execute_result"
    }
   ],
   "source": [
    "# Eliminar las columnas que ya no se necesitan\n",
    "columnas_eliminar = [\"victima\", \"participantes_1\", \"participantes_2\", \"moto\", \"auto\", \"transporte_publico\", \"camion\", \"ciclista\"]\n",
    "df_accidentes = df_accidentes.drop(columnas_eliminar,axis=1)\n",
    "df_accidentes.columns"
   ]
  },
  {
   "cell_type": "markdown",
   "metadata": {},
   "source": [
    "#### Pude eliminar más de la mitad de los nulos del primer vehículo implicado en el accidente, y solo unos pocos del segundo vehículo implicado."
   ]
  },
  {
   "cell_type": "markdown",
   "metadata": {},
   "source": [
    "#### Voy a revisar la distribución de valores totales para agrupar los menos frecuentes en \"OTRO\"."
   ]
  },
  {
   "cell_type": "code",
   "execution_count": 163,
   "metadata": {},
   "outputs": [],
   "source": [
    "vehiculo_1 = df_accidentes[\"vehiculo_1\"].value_counts()\n",
    "vehiculo_2 = df_accidentes[\"vehiculo_2\"].value_counts()"
   ]
  },
  {
   "cell_type": "code",
   "execution_count": 179,
   "metadata": {},
   "outputs": [
    {
     "data": {
      "text/plain": [
       "SD                    23968.0\n",
       "MOTO                  10743.0\n",
       "AUTO                   8176.0\n",
       "TRANSPORTE PUBLICO     3568.0\n",
       "BICICLETA              3474.0\n",
       "PEATON                 2439.0\n",
       "CAMIONETA              1026.0\n",
       "TAXI                    895.0\n",
       "CAMION                  879.0\n",
       "OBJETO FIJO             399.0\n",
       "UTILITARIO              263.0\n",
       "MOVIL                   241.0\n",
       "PASAJEROS               183.0\n",
       "CARGAS                  157.0\n",
       "MIXTO                   113.0\n",
       "OTRO                     57.0\n",
       "MONOPATIN                31.0\n",
       "MULTIPLE                 17.0\n",
       "TREN                      1.0\n",
       "Name: count, dtype: float64"
      ]
     },
     "execution_count": 179,
     "metadata": {},
     "output_type": "execute_result"
    }
   ],
   "source": [
    "# Unificar los índices\n",
    "indices_comunes = vehiculo_1.index.union(vehiculo_2.index)\n",
    "\n",
    "# Sumar los valores para los índices coincidentes\n",
    "suma_valores = vehiculo_1.reindex(indices_comunes).fillna(0) + vehiculo_2.reindex(indices_comunes).fillna(0)\n",
    "\n",
    "# Crear una nueva serie con los índices únicos y las sumas\n",
    "resultado = pd.Series(suma_valores, index=indices_comunes)\n",
    "\n",
    "resultado.sort_values(ascending=False, inplace=True)\n",
    "\n",
    "resultado\n"
   ]
  },
  {
   "cell_type": "code",
   "execution_count": 180,
   "metadata": {},
   "outputs": [],
   "source": [
    "import matplotlib.pyplot as plt\n",
    "import seaborn as sns"
   ]
  },
  {
   "cell_type": "code",
   "execution_count": 182,
   "metadata": {},
   "outputs": [
    {
     "data": {
      "text/plain": [
       "<Figure size 600x600 with 0 Axes>"
      ]
     },
     "metadata": {},
     "output_type": "display_data"
    },
    {
     "data": {
      "image/png": "[encoded data removed]",
      "text/plain": [
       "<Figure size 640x480 with 1 Axes>"
      ]
     },
     "metadata": {},
     "output_type": "display_data"
    }
   ],
   "source": [
    "plt.figure(figsize=(6,6))\n",
    "sns.set_theme(style=\"darkgrid\",palette='dark',font=\"Verdana\",font_scale=1)\n",
    "fig, ax = plt.subplots()\n",
    "ax.pie(resultado, labels=resultado.keys())\n",
    "plt.title('Accidentes por Vehículo')\n",
    "plt.show()"
   ]
  },
  {
   "cell_type": "markdown",
   "metadata": {},
   "source": [
    "Me voy a quedar con \"MOTO\", \"AUTOMOVIL\", \"TRANSPORTE PUBLICO\", \"BICICLETA\" y \"PEATON\".  \n",
    "El resto de los vehículos los voy a asignar por similitud o los voy a dejar en \"OTRO\"."
   ]
  },
  {
   "cell_type": "code",
   "execution_count": 184,
   "metadata": {},
   "outputs": [],
   "source": [
    "# Sumar CAMION, CARGAS Y PASAJEROS a TRANSPORTE PUBLICO por similitud de características\n",
    "df_accidentes[\"vehiculo_1\"].replace('CAMION', \"TRANSPORTE PUBLICO\", inplace=True)\n",
    "df_accidentes[\"vehiculo_2\"].replace('CAMION', \"TRANSPORTE PUBLICO\", inplace=True)\n",
    "df_accidentes[\"vehiculo_1\"].replace('CARGAS', \"TRANSPORTE PUBLICO\", inplace=True)\n",
    "df_accidentes[\"vehiculo_2\"].replace('CARGAS', \"TRANSPORTE PUBLICO\", inplace=True)\n",
    "df_accidentes[\"vehiculo_1\"].replace('PASAJEROS', \"TRANSPORTE PUBLICO\", inplace=True)\n",
    "df_accidentes[\"vehiculo_2\"].replace('PASAJEROS', \"TRANSPORTE PUBLICO\", inplace=True)\n",
    "\n",
    "# Sumar TAXI, UTILITARIO, MOVIL y CAMIONETA a AUTO por similitud de características\n",
    "df_accidentes[\"vehiculo_1\"].replace('TAXI', \"AUTOMOVIL\", inplace=True)\n",
    "df_accidentes[\"vehiculo_1\"].replace('MOVIL', \"AUTOMOVIL\", inplace=True)\n",
    "df_accidentes[\"vehiculo_1\"].replace('UTILITARIO', \"AUTOMOVIL\", inplace=True)\n",
    "df_accidentes[\"vehiculo_1\"].replace('CAMIONETA', \"AUTOMOVIL\", inplace=True)\n",
    "df_accidentes[\"vehiculo_1\"].replace('AUTO', \"AUTOMOVIL\", inplace=True)\n",
    "df_accidentes[\"vehiculo_2\"].replace('TAXI', \"AUTOMOVIL\", inplace=True)\n",
    "df_accidentes[\"vehiculo_2\"].replace('MOVIL', \"AUTOMOVIL\", inplace=True)\n",
    "df_accidentes[\"vehiculo_2\"].replace('UTILITARIO', \"AUTOMOVIL\", inplace=True)\n",
    "df_accidentes[\"vehiculo_2\"].replace('CAMIONETA', \"AUTOMOVIL\", inplace=True)\n",
    "df_accidentes[\"vehiculo_2\"].replace('AUTO', \"AUTOMOVIL\", inplace=True)\n",
    "\n",
    "# Sumar MONOPATIN a BICICLETA por similitud de características\n",
    "df_accidentes[\"vehiculo_1\"].replace('MONOPATIN', \"BICICLETA\", inplace=True)\n",
    "df_accidentes[\"vehiculo_2\"].replace('MONOPATIN', \"BICICLETA\", inplace=True)\n",
    "\n",
    "# Sumar MIXTO, OBJETO FIJO, MULTIPLE Y TREN a OTRO por similitud de características\n",
    "df_accidentes[\"vehiculo_1\"].replace('MIXTO', \"OTRO\", inplace=True)\n",
    "df_accidentes[\"vehiculo_2\"].replace('OBJETO FIJO', \"OTRO\", inplace=True)\n",
    "df_accidentes[\"vehiculo_2\"].replace('MULTIPLE', \"OTRO\", inplace=True)\n",
    "df_accidentes[\"vehiculo_2\"].replace('TREN', \"OTRO\", inplace=True)"
   ]
  },
  {
   "cell_type": "code",
   "execution_count": 186,
   "metadata": {},
   "outputs": [
    {
     "data": {
      "text/plain": [
       "vehiculo_1\n",
       "MOTO                  9433\n",
       "SD                    7820\n",
       "AUTOMOVIL             3462\n",
       "BICICLETA             2780\n",
       "PEATON                2423\n",
       "TRANSPORTE PUBLICO    2258\n",
       "OTRO                   139\n",
       "Name: count, dtype: int64"
      ]
     },
     "execution_count": 186,
     "metadata": {},
     "output_type": "execute_result"
    }
   ],
   "source": [
    "df_accidentes[\"vehiculo_1\"].value_counts()"
   ]
  },
  {
   "cell_type": "code",
   "execution_count": 187,
   "metadata": {},
   "outputs": [
    {
     "data": {
      "text/plain": [
       "vehiculo_2\n",
       "SD                    16148\n",
       "AUTOMOVIL              7139\n",
       "TRANSPORTE PUBLICO     2529\n",
       "MOTO                   1310\n",
       "BICICLETA               725\n",
       "OTRO                    448\n",
       "PEATON                   16\n",
       "Name: count, dtype: int64"
      ]
     },
     "execution_count": 187,
     "metadata": {},
     "output_type": "execute_result"
    }
   ],
   "source": [
    "df_accidentes[\"vehiculo_2\"].value_counts()"
   ]
  },
  {
   "cell_type": "markdown",
   "metadata": {},
   "source": [
    "Como observación, hay muchos más peatones y bicicletas en la columna de vehiculo_1, porque se originó a partir de la columna de víctima."
   ]
  },
  {
   "cell_type": "code",
   "execution_count": 188,
   "metadata": {},
   "outputs": [],
   "source": [
    "# Guardar el csv parcial\n",
    "df_accidentes.to_csv(\"accidentes_parcial.csv\", index=False)"
   ]
  },
  {
   "cell_type": "markdown",
   "metadata": {},
   "source": [
    "# Sexo"
   ]
  },
  {
   "cell_type": "code",
   "execution_count": null,
   "metadata": {},
   "outputs": [],
   "source": [
    "# Cargar el csv\n",
    "df_accidentes = pd.read_csv(\"accidentes_parcial.csv\")"
   ]
  },
  {
   "cell_type": "code",
   "execution_count": 189,
   "metadata": {},
   "outputs": [
    {
     "data": {
      "text/plain": [
       "sexo\n",
       "Varon        16793\n",
       "Mujer         8246\n",
       "SD            1935\n",
       "MASCULINO      545\n",
       "sd             299\n",
       "varon          224\n",
       "FEMENINO       166\n",
       "MUJER           62\n",
       "mujer           44\n",
       "Mujer            1\n",
       "Name: count, dtype: int64"
      ]
     },
     "execution_count": 189,
     "metadata": {},
     "output_type": "execute_result"
    }
   ],
   "source": [
    "df_accidentes[\"sexo\"].value_counts()"
   ]
  },
  {
   "cell_type": "code",
   "execution_count": 190,
   "metadata": {},
   "outputs": [
    {
     "data": {
      "text/plain": [
       "0"
      ]
     },
     "execution_count": 190,
     "metadata": {},
     "output_type": "execute_result"
    }
   ],
   "source": [
    "df_accidentes[\"sexo\"].isna().sum()"
   ]
  },
  {
   "cell_type": "code",
   "execution_count": 191,
   "metadata": {},
   "outputs": [
    {
     "data": {
      "text/plain": [
       "count     28315\n",
       "unique       10\n",
       "top       Varon\n",
       "freq      16793\n",
       "Name: sexo, dtype: object"
      ]
     },
     "execution_count": 191,
     "metadata": {},
     "output_type": "execute_result"
    }
   ],
   "source": [
    "df_accidentes[\"sexo\"].describe()"
   ]
  },
  {
   "cell_type": "markdown",
   "metadata": {},
   "source": [
    "Tengo 17562 masculinos, 8519 femeninos y 2234 desconocidos. En este caso, ya que los desconocidos son menos del 10%, voy a dividir de manera sencilla los SD como masculinos y los sd como femeninos, y voy a unificar con la letra M y F las distintas strings."
   ]
  },
  {
   "cell_type": "code",
   "execution_count": 192,
   "metadata": {},
   "outputs": [],
   "source": [
    "valores_M = [\"Varon\", \"SD\", \"MASCULINO\", \"varon\"]\n",
    "df_accidentes[\"sexo\"].replace(valores_M, \"M\", inplace=True)"
   ]
  },
  {
   "cell_type": "code",
   "execution_count": 193,
   "metadata": {},
   "outputs": [],
   "source": [
    "valores_F = [\"Mujer\", \"sd\", \"FEMENINO\", \"MUJER\", \"mujer\", \"Mujer \"]\n",
    "df_accidentes[\"sexo\"].replace(valores_F, \"F\", inplace=True)"
   ]
  },
  {
   "cell_type": "code",
   "execution_count": 194,
   "metadata": {},
   "outputs": [
    {
     "data": {
      "text/plain": [
       "sexo\n",
       "M    19497\n",
       "F     8818\n",
       "Name: count, dtype: int64"
      ]
     },
     "execution_count": 194,
     "metadata": {},
     "output_type": "execute_result"
    }
   ],
   "source": [
    "df_accidentes[\"sexo\"].value_counts()"
   ]
  },
  {
   "cell_type": "code",
   "execution_count": 195,
   "metadata": {},
   "outputs": [],
   "source": [
    "# Guardar el csv parcial\n",
    "df_accidentes.to_csv(\"accidentes_parcial.csv\", index=False)"
   ]
  },
  {
   "cell_type": "markdown",
   "metadata": {},
   "source": [
    "# Edad"
   ]
  },
  {
   "cell_type": "code",
   "execution_count": 310,
   "metadata": {},
   "outputs": [],
   "source": [
    "# Cargar el csv\n",
    "df_accidentes = pd.read_csv(\"accidentes_parcial.csv\")"
   ]
  },
  {
   "cell_type": "code",
   "execution_count": 284,
   "metadata": {},
   "outputs": [
    {
     "data": {
      "text/plain": [
       "count     28315\n",
       "unique      101\n",
       "top          SD\n",
       "freq       4043\n",
       "Name: edad, dtype: object"
      ]
     },
     "execution_count": 284,
     "metadata": {},
     "output_type": "execute_result"
    }
   ],
   "source": [
    "# Revisar la columna\n",
    "df_accidentes[\"edad\"].describe()"
   ]
  },
  {
   "cell_type": "code",
   "execution_count": 285,
   "metadata": {},
   "outputs": [
    {
     "data": {
      "text/plain": [
       "0"
      ]
     },
     "execution_count": 285,
     "metadata": {},
     "output_type": "execute_result"
    }
   ],
   "source": [
    "# Revisar si hay nulos\n",
    "df_accidentes[\"edad\"].isna().sum()"
   ]
  },
  {
   "cell_type": "code",
   "execution_count": 286,
   "metadata": {},
   "outputs": [
    {
     "data": {
      "text/plain": [
       "array(['19', '70', '30', '18', '29', '22', '16', '59', '65', '34', '41',\n",
       "       '50', '38', '21', '52', '36', '20', '54', 'SD', '56', '24', '78',\n",
       "       '79', '26', '57', '37', '58', '23', '60', '42', '53', '51', '40',\n",
       "       '87', '76', '75', '35', '80', '43', '45', '67', '27', '55', '49',\n",
       "       '81', '25', '33', '46', '83', '39', '28', '7', '48', '4', '82',\n",
       "       '32', '17', '47', '61', '10', '95', '73', '84', '66', '85', '1',\n",
       "       '15', '13', '77', '44', '31', '62', '74', '71', '11', '86', '69',\n",
       "       '72', '12', '63', '92', '68', '91', '64', '5', '88', '3', '6', '9',\n",
       "       '2', '90', '89', '97', '8', '14', '96', 'sd', '94', '100', '0',\n",
       "       '93'], dtype=object)"
      ]
     },
     "execution_count": 286,
     "metadata": {},
     "output_type": "execute_result"
    }
   ],
   "source": [
    "# Buscar que valores hay además de las edades\n",
    "df_accidentes[\"edad\"].unique()"
   ]
  },
  {
   "cell_type": "markdown",
   "metadata": {},
   "source": [
    "Voy a cambiar los \"sin datos\" por nulos, para luego asignarles un valor de edad."
   ]
  },
  {
   "cell_type": "code",
   "execution_count": 311,
   "metadata": {},
   "outputs": [],
   "source": [
    "# Asignar nulos a los regitros \"sin datos\"\n",
    "df_accidentes[\"edad\"].replace(\"SD\", np.NAN, inplace=True)\n",
    "df_accidentes[\"edad\"].replace(\"sd\", np.NAN, inplace=True)"
   ]
  },
  {
   "cell_type": "code",
   "execution_count": 304,
   "metadata": {},
   "outputs": [
    {
     "data": {
      "text/plain": [
       "4524"
      ]
     },
     "execution_count": 304,
     "metadata": {},
     "output_type": "execute_result"
    }
   ],
   "source": [
    "df_accidentes[\"edad\"].isna().sum()"
   ]
  },
  {
   "cell_type": "markdown",
   "metadata": {},
   "source": [
    "#### Hice varias pruebas de imputación con librerías de machine learning sin lograr resultados satisfactorios, por lo que decidí hacer una imputación aleatoria en la franja de edades más frecuente."
   ]
  },
  {
   "cell_type": "code",
   "execution_count": 295,
   "metadata": {},
   "outputs": [
    {
     "data": {
      "text/plain": [
       "edad\n",
       "28    832\n",
       "29    829\n",
       "27    796\n",
       "30    793\n",
       "26    776\n",
       "25    755\n",
       "31    740\n",
       "23    726\n",
       "32    723\n",
       "24    710\n",
       "34    674\n",
       "33    671\n",
       "22    633\n",
       "35    626\n",
       "37    591\n",
       "38    554\n",
       "39    550\n",
       "36    545\n",
       "40    513\n",
       "21    511\n",
       "41    497\n",
       "43    493\n",
       "42    465\n",
       "44    450\n",
       "45    399\n",
       "20    389\n",
       "47    376\n",
       "46    370\n",
       "49    326\n",
       "19    320\n",
       "Name: count, dtype: int64"
      ]
     },
     "execution_count": 295,
     "metadata": {},
     "output_type": "execute_result"
    }
   ],
   "source": [
    "df_accidentes[\"edad\"].value_counts().head(30)"
   ]
  },
  {
   "cell_type": "code",
   "execution_count": 312,
   "metadata": {},
   "outputs": [],
   "source": [
    "# Voy a asignar los nulos a las edades entre 19 y 50 años\n",
    "edades_aleatorias = np.random.randint(19, 50, df_accidentes[\"edad\"].isna().sum())\n",
    "df_accidentes.loc[df_accidentes['edad'].isnull(), 'edad'] = edades_aleatorias"
   ]
  },
  {
   "cell_type": "code",
   "execution_count": 313,
   "metadata": {},
   "outputs": [],
   "source": [
    "# Convertir las edades a entero\n",
    "df_accidentes['edad'] = df_accidentes['edad'].astype(int)"
   ]
  },
  {
   "cell_type": "code",
   "execution_count": 314,
   "metadata": {},
   "outputs": [
    {
     "name": "stdout",
     "output_type": "stream",
     "text": [
      "0\n"
     ]
    },
    {
     "data": {
      "text/plain": [
       "edad\n",
       "28     976\n",
       "29     972\n",
       "30     948\n",
       "27     927\n",
       "25     922\n",
       "      ... \n",
       "93       3\n",
       "0        2\n",
       "97       1\n",
       "96       1\n",
       "100      1\n",
       "Name: count, Length: 99, dtype: int64"
      ]
     },
     "execution_count": 314,
     "metadata": {},
     "output_type": "execute_result"
    }
   ],
   "source": [
    "# Verificar que no quedaron nulos y contar valores\n",
    "print(df_accidentes[\"edad\"].isna().sum())\n",
    "df_accidentes[\"edad\"].value_counts()"
   ]
  },
  {
   "cell_type": "code",
   "execution_count": 315,
   "metadata": {},
   "outputs": [
    {
     "data": {
      "text/plain": [
       "count    28315.000000\n",
       "mean        37.242628\n",
       "std         14.617896\n",
       "min          0.000000\n",
       "25%         27.000000\n",
       "50%         34.000000\n",
       "75%         45.000000\n",
       "max        100.000000\n",
       "Name: edad, dtype: float64"
      ]
     },
     "execution_count": 315,
     "metadata": {},
     "output_type": "execute_result"
    }
   ],
   "source": [
    "# Revisar las estadísticas\n",
    "df_accidentes[\"edad\"].describe()"
   ]
  },
  {
   "cell_type": "code",
   "execution_count": 316,
   "metadata": {},
   "outputs": [
    {
     "data": {
      "image/png": "[encoded data removed]",
      "text/plain": [
       "<Figure size 2000x600 with 1 Axes>"
      ]
     },
     "metadata": {},
     "output_type": "display_data"
    }
   ],
   "source": [
    "plt.figure(figsize=(20,6))\n",
    "sns.set_theme(style=\"darkgrid\",palette='dark',font=\"Verdana\",font_scale=.7)\n",
    "sns.barplot(x=df_accidentes[\"edad\"].value_counts().index,y=df_accidentes[\"edad\"].value_counts())\n",
    "plt.title('Distribución Etaria de Accidentes')\n",
    "plt.xlabel('Edad')\n",
    "plt.ylabel(\"Cantidad\")\n",
    "plt.show()"
   ]
  },
  {
   "cell_type": "markdown",
   "metadata": {},
   "source": [
    "#### Lógicamente hay un aumento en la franja elegida, pero es el mejor de los resultados al que he llegado con las diferentes pruebas."
   ]
  },
  {
   "cell_type": "code",
   "execution_count": 317,
   "metadata": {},
   "outputs": [],
   "source": [
    "# Guardar el csv parcial\n",
    "df_accidentes.to_csv(\"accidentes_parcial.csv\", index=False)"
   ]
  },
  {
   "cell_type": "markdown",
   "metadata": {},
   "source": [
    "# Gravedad"
   ]
  },
  {
   "cell_type": "code",
   "execution_count": 2,
   "metadata": {},
   "outputs": [],
   "source": [
    "# Cargar el csv\n",
    "df_accidentes = pd.read_csv(\"accidentes_parcial.csv\")"
   ]
  },
  {
   "cell_type": "code",
   "execution_count": 318,
   "metadata": {},
   "outputs": [
    {
     "data": {
      "text/plain": [
       "gravedad\n",
       "SD                     26759\n",
       "GRAVE                    808\n",
       "sd                        95\n",
       "2017-01-16 00:00:00        3\n",
       "2020-12-25 00:00:00        3\n",
       "                       ...  \n",
       "2018-01-26 00:00:00        1\n",
       "2018-01-19 00:00:00        1\n",
       "2018-01-18 00:00:00        1\n",
       "2018-01-14 00:00:00        1\n",
       "2018-10-14 00:00:00        1\n",
       "Name: count, Length: 567, dtype: int64"
      ]
     },
     "execution_count": 318,
     "metadata": {},
     "output_type": "execute_result"
    }
   ],
   "source": [
    "# Revisar los valores\n",
    "df_accidentes[\"gravedad\"].value_counts()"
   ]
  },
  {
   "cell_type": "markdown",
   "metadata": {},
   "source": [
    "#### Todos los valores con fecha son muertes. La fecha viene de la fecha de fallecimiento de cuando uní los datasets."
   ]
  },
  {
   "cell_type": "code",
   "execution_count": 319,
   "metadata": {},
   "outputs": [
    {
     "data": {
      "text/plain": [
       "str"
      ]
     },
     "execution_count": 319,
     "metadata": {},
     "output_type": "execute_result"
    }
   ],
   "source": [
    "# Revisar el formato de las fechas\n",
    "type(df_accidentes[\"gravedad\"].value_counts().index[3])"
   ]
  },
  {
   "cell_type": "code",
   "execution_count": 320,
   "metadata": {},
   "outputs": [
    {
     "data": {
      "text/plain": [
       "array(['2016-01-01 00:00:00', '2016-01-02 00:00:00',\n",
       "       '2016-01-03 00:00:00', 'SD', '2016-02-01 00:00:00',\n",
       "       '2016-01-24 00:00:00', '2016-01-26 00:00:00',\n",
       "       '2016-01-29 00:00:00', '2016-02-08 00:00:00',\n",
       "       '2016-02-10 00:00:00', '2016-02-14 00:00:00',\n",
       "       '2016-02-16 00:00:00', '2016-02-17 00:00:00',\n",
       "       '2016-03-02 00:00:00', '2016-02-28 00:00:00',\n",
       "       '2016-03-04 00:00:00', '2016-03-12 00:00:00',\n",
       "       '2016-03-13 00:00:00', '2016-03-14 00:00:00',\n",
       "       '2016-03-19 00:00:00', '2016-03-21 00:00:00',\n",
       "       '2016-03-23 00:00:00', '2016-03-29 00:00:00',\n",
       "       '2016-03-30 00:00:00', '2016-03-31 00:00:00',\n",
       "       '2016-04-15 00:00:00', '2016-04-19 00:00:00',\n",
       "       '2016-04-20 00:00:00', '2016-04-22 00:00:00',\n",
       "       '2016-04-25 00:00:00', '2016-04-28 00:00:00',\n",
       "       '2016-04-26 00:00:00', '2016-05-08 00:00:00',\n",
       "       '2016-05-26 00:00:00', '2016-05-20 00:00:00',\n",
       "       '2016-05-23 00:00:00', '2016-06-12 00:00:00',\n",
       "       '2016-06-13 00:00:00', '2016-07-05 00:00:00',\n",
       "       '2016-06-29 00:00:00', '2016-07-08 00:00:00',\n",
       "       '2016-07-01 00:00:00', '2016-07-03 00:00:00',\n",
       "       '2016-07-14 00:00:00', '2016-07-15 00:00:00',\n",
       "       '2016-07-19 00:00:00', '2016-07-23 00:00:00',\n",
       "       '2016-08-12 00:00:00', '2016-08-03 00:00:00',\n",
       "       '2016-08-15 00:00:00', '2016-08-26 00:00:00',\n",
       "       '2016-08-24 00:00:00', '2016-08-25 00:00:00',\n",
       "       '2016-08-27 00:00:00', '2016-08-31 00:00:00',\n",
       "       '2016-09-02 00:00:00', '2016-09-04 00:00:00',\n",
       "       '2016-09-13 00:00:00', '2016-10-02 00:00:00',\n",
       "       '2016-10-04 00:00:00', '2016-10-10 00:00:00',\n",
       "       '2016-10-25 00:00:00', '2016-10-23 00:00:00',\n",
       "       '2016-11-05 00:00:00', '2016-11-07 00:00:00',\n",
       "       '2016-11-16 00:00:00', '2016-11-18 00:00:00',\n",
       "       '2016-11-24 00:00:00', '2016-11-25 00:00:00',\n",
       "       '2016-11-30 00:00:00', '2016-12-06 00:00:00',\n",
       "       '2017-01-01 00:00:00', '2016-12-13 00:00:00',\n",
       "       '2016-12-16 00:00:00', '2016-12-19 00:00:00',\n",
       "       '2016-12-26 00:00:00', '2017-01-02 00:00:00',\n",
       "       '2017-01-05 00:00:00', '2017-01-11 00:00:00',\n",
       "       '2017-01-16 00:00:00', '2017-01-22 00:00:00',\n",
       "       '2017-01-24 00:00:00', '2017-01-27 00:00:00',\n",
       "       '2017-01-28 00:00:00', '2017-02-21 00:00:00',\n",
       "       '2017-02-04 00:00:00', '2017-02-06 00:00:00',\n",
       "       '2017-02-09 00:00:00', '2017-02-18 00:00:00',\n",
       "       '2017-02-23 00:00:00', '2017-02-24 00:00:00',\n",
       "       '2017-02-26 00:00:00', '2017-02-28 00:00:00',\n",
       "       '2017-03-07 00:00:00', '2017-03-11 00:00:00',\n",
       "       '2017-03-12 00:00:00', '2017-03-13 00:00:00',\n",
       "       '2017-03-23 00:00:00', '2017-03-29 00:00:00',\n",
       "       '2017-03-31 00:00:00', '2017-04-01 00:00:00',\n",
       "       '2017-04-03 00:00:00', '2017-04-10 00:00:00',\n",
       "       '2017-04-14 00:00:00', '2017-04-23 00:00:00',\n",
       "       '2017-04-27 00:00:00', '2017-04-28 00:00:00',\n",
       "       '2017-05-01 00:00:00', '2017-05-05 00:00:00',\n",
       "       '2017-05-07 00:00:00', '2017-05-09 00:00:00',\n",
       "       '2017-05-11 00:00:00', '2017-05-13 00:00:00',\n",
       "       '2017-05-16 00:00:00', '2017-05-15 00:00:00',\n",
       "       '2017-05-17 00:00:00', '2017-05-20 00:00:00',\n",
       "       '2017-05-22 00:00:00', '2017-05-23 00:00:00',\n",
       "       '2017-05-27 00:00:00', '2017-05-29 00:00:00',\n",
       "       '2017-05-31 00:00:00', '2017-06-03 00:00:00',\n",
       "       '2017-06-04 00:00:00', '2017-06-12 00:00:00',\n",
       "       '2017-06-13 00:00:00', '2017-06-18 00:00:00',\n",
       "       '2017-06-19 00:00:00', '2017-06-22 00:00:00',\n",
       "       '2017-06-25 00:00:00', '2017-07-04 00:00:00',\n",
       "       '2017-07-05 00:00:00', '2017-07-07 00:00:00',\n",
       "       '2017-07-09 00:00:00', '2017-07-10 00:00:00',\n",
       "       '2017-07-15 00:00:00', '2017-07-24 00:00:00',\n",
       "       '2017-07-25 00:00:00', '2017-07-27 00:00:00',\n",
       "       '2017-08-06 00:00:00', '2017-08-07 00:00:00',\n",
       "       '2017-08-08 00:00:00', '2017-08-17 00:00:00',\n",
       "       '2017-08-21 00:00:00', '2017-08-23 00:00:00',\n",
       "       '2017-08-24 00:00:00', '2017-08-25 00:00:00',\n",
       "       '2017-08-31 00:00:00', '2017-09-01 00:00:00',\n",
       "       '2017-09-02 00:00:00', '2017-09-05 00:00:00',\n",
       "       '2017-09-07 00:00:00', '2017-09-13 00:00:00',\n",
       "       '2017-09-11 00:00:00', '2017-09-15 00:00:00',\n",
       "       '2017-09-20 00:00:00', '2017-09-29 00:00:00',\n",
       "       '2017-10-02 00:00:00', '2017-10-10 00:00:00',\n",
       "       '2017-10-12 00:00:00', '2017-10-13 00:00:00',\n",
       "       '2017-10-14 00:00:00', '2017-10-16 00:00:00',\n",
       "       '2017-10-17 00:00:00', '2017-10-26 00:00:00',\n",
       "       '2017-10-27 00:00:00', '2017-10-30 00:00:00',\n",
       "       '2017-11-06 00:00:00', '2017-11-07 00:00:00',\n",
       "       '2017-11-16 00:00:00', '2017-11-17 00:00:00',\n",
       "       '2017-11-19 00:00:00', '2017-11-23 00:00:00',\n",
       "       '2017-11-25 00:00:00', '2017-11-26 00:00:00',\n",
       "       '2017-11-28 00:00:00', '2017-11-29 00:00:00',\n",
       "       '2017-11-30 00:00:00', '2017-12-04 00:00:00',\n",
       "       '2017-12-06 00:00:00', '2017-12-12 00:00:00',\n",
       "       '2017-12-11 00:00:00', '2017-12-17 00:00:00',\n",
       "       '2017-12-18 00:00:00', '2017-12-20 00:00:00',\n",
       "       '2017-12-22 00:00:00', '2017-12-26 00:00:00',\n",
       "       '2018-01-02 00:00:00', '2018-01-03 00:00:00',\n",
       "       '2018-01-05 00:00:00', '2018-01-09 00:00:00',\n",
       "       '2018-01-10 00:00:00', '2018-01-11 00:00:00',\n",
       "       '2018-01-12 00:00:00', '2018-01-14 00:00:00',\n",
       "       '2018-01-18 00:00:00', '2018-01-19 00:00:00',\n",
       "       '2018-01-26 00:00:00', '2018-01-28 00:00:00',\n",
       "       '2018-02-04 00:00:00', '2018-02-06 00:00:00',\n",
       "       '2018-02-15 00:00:00', '2018-02-20 00:00:00',\n",
       "       '2018-02-17 00:00:00', '2018-02-19 00:00:00',\n",
       "       '2018-02-22 00:00:00', '2018-02-24 00:00:00',\n",
       "       '2018-02-28 00:00:00', '2018-03-05 00:00:00',\n",
       "       '2018-03-09 00:00:00', '2018-03-11 00:00:00',\n",
       "       '2018-03-13 00:00:00', '2018-03-15 00:00:00',\n",
       "       '2018-03-20 00:00:00', '2018-03-28 00:00:00',\n",
       "       '2018-04-02 00:00:00', '2018-04-10 00:00:00',\n",
       "       '2018-04-11 00:00:00', '2018-04-12 00:00:00',\n",
       "       '2018-04-15 00:00:00', '2018-04-19 00:00:00',\n",
       "       '2018-04-20 00:00:00', '2018-04-21 00:00:00',\n",
       "       '2018-04-27 00:00:00', '2018-04-29 00:00:00',\n",
       "       '2018-04-28 00:00:00', '2018-04-30 00:00:00',\n",
       "       '2018-05-02 00:00:00', '2018-05-09 00:00:00',\n",
       "       '2018-05-16 00:00:00', '2018-05-13 00:00:00',\n",
       "       '2018-05-24 00:00:00', '2018-05-15 00:00:00',\n",
       "       '2018-05-19 00:00:00', '2018-05-20 00:00:00',\n",
       "       '2018-05-25 00:00:00', '2018-05-29 00:00:00',\n",
       "       '2018-06-04 00:00:00', '2018-06-13 00:00:00',\n",
       "       '2018-06-08 00:00:00', '2018-06-10 00:00:00',\n",
       "       '2018-06-14 00:00:00', '2018-06-17 00:00:00',\n",
       "       '2018-06-25 00:00:00', '2018-06-26 00:00:00',\n",
       "       '2018-06-28 00:00:00', '2018-07-06 00:00:00',\n",
       "       '2018-07-01 00:00:00', '2018-07-04 00:00:00',\n",
       "       '2018-07-07 00:00:00', '2018-07-10 00:00:00',\n",
       "       '2018-07-13 00:00:00', '2018-07-11 00:00:00',\n",
       "       '2018-07-14 00:00:00', '2018-07-15 00:00:00',\n",
       "       '2018-07-16 00:00:00', '2018-07-17 00:00:00',\n",
       "       '2018-07-21 00:00:00', '2018-07-23 00:00:00',\n",
       "       '2018-07-25 00:00:00', '2018-07-29 00:00:00',\n",
       "       '2018-08-01 00:00:00', '2018-08-02 00:00:00',\n",
       "       '2018-08-03 00:00:00', '2018-08-10 00:00:00',\n",
       "       '2018-08-20 00:00:00', '2018-08-17 00:00:00',\n",
       "       '2018-08-18 00:00:00', '2018-08-19 00:00:00',\n",
       "       '2018-08-23 00:00:00', '2018-08-26 00:00:00',\n",
       "       '2018-08-31 00:00:00', '2018-09-02 00:00:00',\n",
       "       '2018-09-09 00:00:00', '2018-09-13 00:00:00',\n",
       "       '2018-09-20 00:00:00', '2018-09-21 00:00:00',\n",
       "       '2018-09-29 00:00:00', '2018-10-01 00:00:00',\n",
       "       '2018-10-03 00:00:00', '2018-10-04 00:00:00',\n",
       "       '2018-10-06 00:00:00', '2018-10-10 00:00:00',\n",
       "       '2018-10-14 00:00:00', '2018-10-19 00:00:00',\n",
       "       '2018-10-24 00:00:00', '2018-10-25 00:00:00',\n",
       "       '2018-10-30 00:00:00', '2018-11-01 00:00:00',\n",
       "       '2018-11-08 00:00:00', '2018-11-05 00:00:00',\n",
       "       '2018-11-06 00:00:00', '2018-11-20 00:00:00',\n",
       "       '2018-11-09 00:00:00', '2018-11-12 00:00:00',\n",
       "       '2018-11-15 00:00:00', '2018-11-17 00:00:00',\n",
       "       '2018-11-23 00:00:00', '2018-11-19 00:00:00',\n",
       "       '2018-11-25 00:00:00', '2018-11-30 00:00:00',\n",
       "       '2018-12-03 00:00:00', '2018-12-07 00:00:00',\n",
       "       '2018-12-12 00:00:00', '2018-12-13 00:00:00',\n",
       "       '2018-12-22 00:00:00', '2018-12-18 00:00:00',\n",
       "       '2018-12-19 00:00:00', '2018-12-21 00:00:00',\n",
       "       '2018-12-24 00:00:00', '2019-01-01 00:00:00',\n",
       "       '2018-12-29 00:00:00', '2019-01-08 00:00:00',\n",
       "       '2019-01-09 00:00:00', '2019-01-12 00:00:00',\n",
       "       '2019-01-14 00:00:00', '2019-01-19 00:00:00',\n",
       "       '2019-01-23 00:00:00', '2019-01-26 00:00:00',\n",
       "       '2019-01-31 00:00:00', '2019-02-02 00:00:00',\n",
       "       '2019-02-10 00:00:00', '2019-02-20 00:00:00',\n",
       "       '2019-03-02 00:00:00', '2019-02-23 00:00:00',\n",
       "       '2019-02-24 00:00:00', '2019-03-07 00:00:00',\n",
       "       '2019-03-03 00:00:00', '26/03/2019', '2019-03-16 00:00:00',\n",
       "       '2019-03-15 00:00:00', '2019-03-19 00:00:00',\n",
       "       '2019-04-04 00:00:00', '2019-03-28 00:00:00',\n",
       "       '2019-04-06 00:00:00', '2019-04-07 00:00:00',\n",
       "       '2019-04-09 00:00:00', '2019-04-12 00:00:00',\n",
       "       '2019-04-18 00:00:00', '2019-04-21 00:00:00',\n",
       "       '2019-04-23 00:00:00', '2019-05-02 00:00:00',\n",
       "       '2019-05-01 00:00:00', '2019-05-05 00:00:00',\n",
       "       '2019-05-09 00:00:00', '2019-05-15 00:00:00',\n",
       "       '2019-05-11 00:00:00', '2019-05-14 00:00:00',\n",
       "       '2019-05-21 00:00:00', '2019-05-29 00:00:00',\n",
       "       '2019-06-03 00:00:00', '2019-06-04 00:00:00',\n",
       "       '2019-06-06 00:00:00', '2019-06-07 00:00:00',\n",
       "       '2019-06-09 00:00:00', '2019-06-11 00:00:00',\n",
       "       '2019-06-14 00:00:00', '2019-06-20 00:00:00',\n",
       "       '2019-06-21 00:00:00', '2019-06-29 00:00:00',\n",
       "       '2019-07-08 00:00:00', '2019-07-10 00:00:00',\n",
       "       '2019-07-13 00:00:00', '2019-07-17 00:00:00',\n",
       "       '2019-08-02 00:00:00', '2019-08-04 00:00:00',\n",
       "       '2019-08-06 00:00:00', '2019-08-09 00:00:00',\n",
       "       '2019-08-11 00:00:00', '2019-08-14 00:00:00',\n",
       "       '2019-08-17 00:00:00', '2019-08-22 00:00:00',\n",
       "       '2019-08-27 00:00:00', '2019-09-02 00:00:00',\n",
       "       '2019-09-06 00:00:00', '2019-08-29 00:00:00',\n",
       "       '2019-08-30 00:00:00', '2019-09-05 00:00:00',\n",
       "       '2019-09-08 00:00:00', '2019-09-15 00:00:00',\n",
       "       '2019-09-17 00:00:00', '2019-10-07 00:00:00',\n",
       "       '2019-09-25 00:00:00', '2019-09-26 00:00:00',\n",
       "       '2019-09-27 00:00:00', '2019-10-09 00:00:00',\n",
       "       '2019-10-15 00:00:00', '2019-10-21 00:00:00',\n",
       "       '2019-10-22 00:00:00', '2019-10-23 00:00:00',\n",
       "       '2019-10-26 00:00:00', '2019-11-01 00:00:00',\n",
       "       '2019-11-03 00:00:00', '2019-11-13 00:00:00',\n",
       "       '2019-11-18 00:00:00', '2019-11-20 00:00:00',\n",
       "       '2019-11-22 00:00:00', '2019-11-25 00:00:00',\n",
       "       '2019-11-29 00:00:00', '2019-12-18 00:00:00',\n",
       "       '2019-12-17 00:00:00', '2019-12-22 00:00:00',\n",
       "       '2019-05-08 00:00:00', '2020-01-04 00:00:00',\n",
       "       '2020-01-07 00:00:00', '2020-01-11 00:00:00',\n",
       "       '2020-01-15 00:00:00', '2020-02-10 00:00:00',\n",
       "       '2020-01-20 00:00:00', '2020-01-27 00:00:00',\n",
       "       '2020-01-30 00:00:00', '2020-02-05 00:00:00',\n",
       "       '2020-02-08 00:00:00', '2020-02-12 00:00:00',\n",
       "       '2020-02-18 00:00:00', '2020-03-03 00:00:00',\n",
       "       '2020-02-27 00:00:00', '2020-02-28 00:00:00',\n",
       "       '2020-03-09 00:00:00', '2020-03-05 00:00:00',\n",
       "       '2020-03-10 00:00:00', '2020-03-17 00:00:00',\n",
       "       '2020-03-14 00:00:00', '2020-04-07 00:00:00',\n",
       "       '2020-05-03 00:00:00', '2020-04-24 00:00:00',\n",
       "       '2020-05-12 00:00:00', '2020-05-17 00:00:00',\n",
       "       '2020-05-18 00:00:00', '2020-05-23 00:00:00',\n",
       "       '2020-06-12 00:00:00', '2020-06-16 00:00:00',\n",
       "       '2020-06-30 00:00:00', '2020-07-10 00:00:00',\n",
       "       '2020-07-19 00:00:00', '2020-08-02 00:00:00',\n",
       "       '2020-08-04 00:00:00', '2020-08-22 00:00:00',\n",
       "       '2020-08-29 00:00:00', '2020-08-30 00:00:00',\n",
       "       '2020-09-01 00:00:00', '2020-09-12 00:00:00',\n",
       "       '2020-09-28 00:00:00', '2020-09-29 00:00:00',\n",
       "       '2020-09-30 00:00:00', '2020-10-05 00:00:00',\n",
       "       '2020-10-19 00:00:00', '2020-10-27 00:00:00',\n",
       "       '2020-10-29 00:00:00', '2020-10-30 00:00:00',\n",
       "       '2020-11-01 00:00:00', '2020-11-05 00:00:00',\n",
       "       '2020-11-07 00:00:00', '2020-11-09 00:00:00',\n",
       "       '2020-11-23 00:00:00', '2020-12-11 00:00:00',\n",
       "       '2020-11-21 00:00:00', '2020-11-25 00:00:00',\n",
       "       '2020-12-14 00:00:00', '2020-12-03 00:00:00',\n",
       "       '2020-12-04 00:00:00', '2020-12-05 00:00:00',\n",
       "       '2020-12-06 00:00:00', '2020-12-07 00:00:00',\n",
       "       '2020-12-20 00:00:00', '2020-12-15 00:00:00',\n",
       "       '2020-12-22 00:00:00', '2020-12-17 00:00:00',\n",
       "       '2020-12-19 00:00:00', '2020-12-23 00:00:00',\n",
       "       '2021-01-17 00:00:00', '2020-12-25 00:00:00',\n",
       "       '2020-12-27 00:00:00', '2021-01-06 00:00:00',\n",
       "       '2021-01-07 00:00:00', '2021-01-10 00:00:00',\n",
       "       '2021-01-11 00:00:00', '2021-01-14 00:00:00',\n",
       "       '2021-01-12 00:00:00', '2021-01-26 00:00:00',\n",
       "       '2021-01-22 00:00:00', '2021-01-23 00:00:00',\n",
       "       '2021-01-27 00:00:00', '2021-01-29 00:00:00',\n",
       "       '2021-01-31 00:00:00', '2021-02-18 00:00:00',\n",
       "       '2021-02-06 00:00:00', '2021-02-14 00:00:00',\n",
       "       '2021-02-17 00:00:00', '2021-03-08 00:00:00',\n",
       "       '2021-02-21 00:00:00', '2021-03-04 00:00:00',\n",
       "       '2021-03-06 00:00:00', '2021-03-01 00:00:00',\n",
       "       '2021-03-03 00:00:00', '2021-03-11 00:00:00',\n",
       "       '2021-03-15 00:00:00', '2021-03-16 00:00:00',\n",
       "       '2021-03-29 00:00:00', '2021-04-02 00:00:00',\n",
       "       '2021-04-07 00:00:00', '2021-04-11 00:00:00',\n",
       "       '2021-04-29 00:00:00', '2021-04-14 00:00:00',\n",
       "       '2021-04-19 00:00:00', '2021-05-03 00:00:00',\n",
       "       '2021-05-09 00:00:00', '2021-05-11 00:00:00',\n",
       "       '2021-05-14 00:00:00', '2021-06-05 00:00:00',\n",
       "       '2021-05-20 00:00:00', '2021-05-21 00:00:00',\n",
       "       '2021-05-22 00:00:00', '2021-05-25 00:00:00',\n",
       "       '2021-05-26 00:00:00', '2021-05-31 00:00:00',\n",
       "       '2021-06-02 00:00:00', '2021-06-23 00:00:00',\n",
       "       '2021-06-03 00:00:00', '2021-06-10 00:00:00',\n",
       "       '2021-06-16 00:00:00', '2021-06-20 00:00:00',\n",
       "       '2021-06-30 00:00:00', '2021-06-22 00:00:00',\n",
       "       '2021-06-29 00:00:00', '2021-07-09 00:00:00',\n",
       "       '2021-07-10 00:00:00', '2021-07-21 00:00:00',\n",
       "       '2021-07-22 00:00:00', '2021-07-24 00:00:00',\n",
       "       '2021-07-27 00:00:00', '2021-08-02 00:00:00',\n",
       "       '2021-08-03 00:00:00', '2021-08-10 00:00:00',\n",
       "       '2021-08-09 00:00:00', '2021-08-08 00:00:00',\n",
       "       '2021-08-15 00:00:00', '2021-08-21 00:00:00',\n",
       "       '2021-08-28 00:00:00', '2021-09-01 00:00:00',\n",
       "       '2021-09-18 00:00:00', '2021-09-20 00:00:00',\n",
       "       '2021-09-21 00:00:00', '2021-10-16 00:00:00',\n",
       "       '2021-10-18 00:00:00', '2021-10-23 00:00:00',\n",
       "       '2021-10-25 00:00:00', '2021-10-28 00:00:00',\n",
       "       '2021-11-02 00:00:00', '2021-11-06 00:00:00',\n",
       "       '2021-11-09 00:00:00', '2021-11-11 00:00:00',\n",
       "       '2021-11-20 00:00:00', '2021-11-25 00:00:00',\n",
       "       '2021-11-27 00:00:00', '2021-12-07 00:00:00',\n",
       "       '2021-12-11 00:00:00', '2022-01-03 00:00:00',\n",
       "       '2021-12-12 00:00:00', '2021-12-18 00:00:00',\n",
       "       '2021-12-20 00:00:00', '2022-01-02 00:00:00',\n",
       "       '2021-11-19 00:00:00', 'GRAVE', 'sd', 'FATAL', 'grave'],\n",
       "      dtype=object)"
      ]
     },
     "execution_count": 320,
     "metadata": {},
     "output_type": "execute_result"
    }
   ],
   "source": [
    "# Revisar los valores\n",
    "df_accidentes[\"gravedad\"].unique()"
   ]
  },
  {
   "cell_type": "code",
   "execution_count": 321,
   "metadata": {},
   "outputs": [],
   "source": [
    "# Transformar todas las fecha en fatal\n",
    "df_accidentes.loc[df_accidentes[\"gravedad\"].str.startswith(\"2\"), \"gravedad\"] = \"FATAL\""
   ]
  },
  {
   "cell_type": "code",
   "execution_count": 322,
   "metadata": {},
   "outputs": [
    {
     "data": {
      "text/plain": [
       "gravedad\n",
       "SD       26759\n",
       "GRAVE      808\n",
       "FATAL      651\n",
       "sd          95\n",
       "grave        2\n",
       "Name: count, dtype: int64"
      ]
     },
     "execution_count": 322,
     "metadata": {},
     "output_type": "execute_result"
    }
   ],
   "source": [
    "df_accidentes[\"gravedad\"].value_counts()"
   ]
  },
  {
   "cell_type": "code",
   "execution_count": 323,
   "metadata": {},
   "outputs": [],
   "source": [
    "# Terminar de unificar los valores\n",
    "df_accidentes[\"gravedad\"].replace(\"SD\", \"LEVE - SIN LESIONES\", inplace=True)\n",
    "df_accidentes[\"gravedad\"].replace(\"sd\", \"LEVE - SIN LESIONES\", inplace=True)\n",
    "df_accidentes[\"gravedad\"].replace(\"grave\", \"GRAVE\", inplace=True)"
   ]
  },
  {
   "cell_type": "code",
   "execution_count": 324,
   "metadata": {},
   "outputs": [
    {
     "data": {
      "text/plain": [
       "gravedad\n",
       "LEVE - SIN LESIONES    26854\n",
       "GRAVE                    810\n",
       "FATAL                    651\n",
       "Name: count, dtype: int64"
      ]
     },
     "execution_count": 324,
     "metadata": {},
     "output_type": "execute_result"
    }
   ],
   "source": [
    "df_accidentes[\"gravedad\"].value_counts()"
   ]
  },
  {
   "cell_type": "code",
   "execution_count": 325,
   "metadata": {},
   "outputs": [],
   "source": [
    "# Guardar el csv de la segunda etapa\n",
    "df_accidentes.to_csv(\"accidentes_2.csv\", index=False)"
   ]
  },
  {
   "cell_type": "markdown",
   "metadata": {},
   "source": [
    "## Por último voy a reordenar las columnas"
   ]
  },
  {
   "cell_type": "code",
   "execution_count": 326,
   "metadata": {},
   "outputs": [
    {
     "data": {
      "text/html": [
       "<div>\n",
       "<style scoped>\n",
       "    .dataframe tbody tr th:only-of-type {\n",
       "        vertical-align: middle;\n",
       "    }\n",
       "\n",
       "    .dataframe tbody tr th {\n",
       "        vertical-align: top;\n",
       "    }\n",
       "\n",
       "    .dataframe thead th {\n",
       "        text-align: right;\n",
       "    }\n",
       "</style>\n",
       "<table border=\"1\" class=\"dataframe\">\n",
       "  <thead>\n",
       "    <tr style=\"text-align: right;\">\n",
       "      <th></th>\n",
       "      <th>id</th>\n",
       "      <th>fecha</th>\n",
       "      <th>franja_hora</th>\n",
       "      <th>tipo_calle</th>\n",
       "      <th>direccion_normalizada</th>\n",
       "      <th>comuna</th>\n",
       "      <th>longitud</th>\n",
       "      <th>latitud</th>\n",
       "      <th>vehiculo_2</th>\n",
       "      <th>vehiculo_1</th>\n",
       "      <th>sexo</th>\n",
       "      <th>edad</th>\n",
       "      <th>gravedad</th>\n",
       "    </tr>\n",
       "  </thead>\n",
       "  <tbody>\n",
       "    <tr>\n",
       "      <th>0</th>\n",
       "      <td>2016-0001</td>\n",
       "      <td>2016-01-01</td>\n",
       "      <td>4</td>\n",
       "      <td>AVENIDA</td>\n",
       "      <td>PIEDRA BUENA AV. y FERNANDEZ DE LA CRUZ, F., G...</td>\n",
       "      <td>8</td>\n",
       "      <td>-58.47533969</td>\n",
       "      <td>-34.68757022</td>\n",
       "      <td>AUTOMOVIL</td>\n",
       "      <td>MOTO</td>\n",
       "      <td>M</td>\n",
       "      <td>19</td>\n",
       "      <td>FATAL</td>\n",
       "    </tr>\n",
       "    <tr>\n",
       "      <th>1</th>\n",
       "      <td>2016-0002</td>\n",
       "      <td>2016-01-02</td>\n",
       "      <td>1</td>\n",
       "      <td>GRAL PAZ</td>\n",
       "      <td>PAZ, GRAL. AV. y DE LOS CORRALES AV.</td>\n",
       "      <td>9</td>\n",
       "      <td>-58.50877521</td>\n",
       "      <td>-34.66977709</td>\n",
       "      <td>TRANSPORTE PUBLICO</td>\n",
       "      <td>AUTOMOVIL</td>\n",
       "      <td>M</td>\n",
       "      <td>70</td>\n",
       "      <td>FATAL</td>\n",
       "    </tr>\n",
       "    <tr>\n",
       "      <th>2</th>\n",
       "      <td>2016-0003</td>\n",
       "      <td>2016-01-03</td>\n",
       "      <td>7</td>\n",
       "      <td>AVENIDA</td>\n",
       "      <td>ENTRE RIOS AV. 2034</td>\n",
       "      <td>1</td>\n",
       "      <td>-58.39040293</td>\n",
       "      <td>-34.63189362</td>\n",
       "      <td>AUTOMOVIL</td>\n",
       "      <td>MOTO</td>\n",
       "      <td>M</td>\n",
       "      <td>30</td>\n",
       "      <td>FATAL</td>\n",
       "    </tr>\n",
       "    <tr>\n",
       "      <th>3</th>\n",
       "      <td>2016-0004</td>\n",
       "      <td>2016-01-10</td>\n",
       "      <td>0</td>\n",
       "      <td>AVENIDA</td>\n",
       "      <td>LARRAZABAL AV. y VILLEGAS, CONRADO, GRAL.</td>\n",
       "      <td>8</td>\n",
       "      <td>-58.46503904</td>\n",
       "      <td>-34.68092974</td>\n",
       "      <td>SD</td>\n",
       "      <td>MOTO</td>\n",
       "      <td>M</td>\n",
       "      <td>18</td>\n",
       "      <td>LEVE - SIN LESIONES</td>\n",
       "    </tr>\n",
       "    <tr>\n",
       "      <th>4</th>\n",
       "      <td>2016-0005</td>\n",
       "      <td>2016-01-21</td>\n",
       "      <td>5</td>\n",
       "      <td>AVENIDA</td>\n",
       "      <td>SAN JUAN AV. y SAENZ PEÃ‘A, LUIS, PRES.</td>\n",
       "      <td>1</td>\n",
       "      <td>-58.38718297</td>\n",
       "      <td>-34.62246630</td>\n",
       "      <td>TRANSPORTE PUBLICO</td>\n",
       "      <td>MOTO</td>\n",
       "      <td>M</td>\n",
       "      <td>29</td>\n",
       "      <td>FATAL</td>\n",
       "    </tr>\n",
       "  </tbody>\n",
       "</table>\n",
       "</div>"
      ],
      "text/plain": [
       "          id       fecha  franja_hora tipo_calle  \\\n",
       "0  2016-0001  2016-01-01            4    AVENIDA   \n",
       "1  2016-0002  2016-01-02            1   GRAL PAZ   \n",
       "2  2016-0003  2016-01-03            7    AVENIDA   \n",
       "3  2016-0004  2016-01-10            0    AVENIDA   \n",
       "4  2016-0005  2016-01-21            5    AVENIDA   \n",
       "\n",
       "                               direccion_normalizada comuna      longitud  \\\n",
       "0  PIEDRA BUENA AV. y FERNANDEZ DE LA CRUZ, F., G...      8  -58.47533969   \n",
       "1               PAZ, GRAL. AV. y DE LOS CORRALES AV.      9  -58.50877521   \n",
       "2                                ENTRE RIOS AV. 2034      1  -58.39040293   \n",
       "3          LARRAZABAL AV. y VILLEGAS, CONRADO, GRAL.      8  -58.46503904   \n",
       "4            SAN JUAN AV. y SAENZ PEÃ‘A, LUIS, PRES.      1  -58.38718297   \n",
       "\n",
       "        latitud          vehiculo_2 vehiculo_1 sexo  edad             gravedad  \n",
       "0  -34.68757022           AUTOMOVIL       MOTO    M    19                FATAL  \n",
       "1  -34.66977709  TRANSPORTE PUBLICO  AUTOMOVIL    M    70                FATAL  \n",
       "2  -34.63189362           AUTOMOVIL       MOTO    M    30                FATAL  \n",
       "3  -34.68092974                  SD       MOTO    M    18  LEVE - SIN LESIONES  \n",
       "4  -34.62246630  TRANSPORTE PUBLICO       MOTO    M    29                FATAL  "
      ]
     },
     "execution_count": 326,
     "metadata": {},
     "output_type": "execute_result"
    }
   ],
   "source": [
    "# Cargar el csv\n",
    "df = pd.read_csv(\"accidentes_2.csv\")\n",
    "df.head()"
   ]
  },
  {
   "cell_type": "code",
   "execution_count": 327,
   "metadata": {},
   "outputs": [
    {
     "data": {
      "text/plain": [
       "Index(['id', 'fecha', 'franja_hora', 'tipo_calle', 'direccion_normalizada',\n",
       "       'comuna', 'longitud', 'latitud', 'vehiculo_2', 'vehiculo_1', 'sexo',\n",
       "       'edad', 'gravedad'],\n",
       "      dtype='object')"
      ]
     },
     "execution_count": 327,
     "metadata": {},
     "output_type": "execute_result"
    }
   ],
   "source": [
    "df.columns"
   ]
  },
  {
   "cell_type": "code",
   "execution_count": 328,
   "metadata": {},
   "outputs": [],
   "source": [
    "df = df[[\"id\", \"fecha\", \"franja_hora\", \"gravedad\", \"sexo\", \"edad\", \"vehiculo_1\", \"vehiculo_2\", \"direccion_normalizada\", \"tipo_calle\", \"comuna\", \"latitud\", \"longitud\"]]"
   ]
  },
  {
   "cell_type": "code",
   "execution_count": 329,
   "metadata": {},
   "outputs": [
    {
     "data": {
      "text/html": [
       "<div>\n",
       "<style scoped>\n",
       "    .dataframe tbody tr th:only-of-type {\n",
       "        vertical-align: middle;\n",
       "    }\n",
       "\n",
       "    .dataframe tbody tr th {\n",
       "        vertical-align: top;\n",
       "    }\n",
       "\n",
       "    .dataframe thead th {\n",
       "        text-align: right;\n",
       "    }\n",
       "</style>\n",
       "<table border=\"1\" class=\"dataframe\">\n",
       "  <thead>\n",
       "    <tr style=\"text-align: right;\">\n",
       "      <th></th>\n",
       "      <th>id</th>\n",
       "      <th>fecha</th>\n",
       "      <th>franja_hora</th>\n",
       "      <th>gravedad</th>\n",
       "      <th>sexo</th>\n",
       "      <th>edad</th>\n",
       "      <th>vehiculo_1</th>\n",
       "      <th>vehiculo_2</th>\n",
       "      <th>direccion_normalizada</th>\n",
       "      <th>tipo_calle</th>\n",
       "      <th>comuna</th>\n",
       "      <th>latitud</th>\n",
       "      <th>longitud</th>\n",
       "    </tr>\n",
       "  </thead>\n",
       "  <tbody>\n",
       "    <tr>\n",
       "      <th>0</th>\n",
       "      <td>2016-0001</td>\n",
       "      <td>2016-01-01</td>\n",
       "      <td>4</td>\n",
       "      <td>FATAL</td>\n",
       "      <td>M</td>\n",
       "      <td>19</td>\n",
       "      <td>MOTO</td>\n",
       "      <td>AUTOMOVIL</td>\n",
       "      <td>PIEDRA BUENA AV. y FERNANDEZ DE LA CRUZ, F., G...</td>\n",
       "      <td>AVENIDA</td>\n",
       "      <td>8</td>\n",
       "      <td>-34.68757022</td>\n",
       "      <td>-58.47533969</td>\n",
       "    </tr>\n",
       "    <tr>\n",
       "      <th>1</th>\n",
       "      <td>2016-0002</td>\n",
       "      <td>2016-01-02</td>\n",
       "      <td>1</td>\n",
       "      <td>FATAL</td>\n",
       "      <td>M</td>\n",
       "      <td>70</td>\n",
       "      <td>AUTOMOVIL</td>\n",
       "      <td>TRANSPORTE PUBLICO</td>\n",
       "      <td>PAZ, GRAL. AV. y DE LOS CORRALES AV.</td>\n",
       "      <td>GRAL PAZ</td>\n",
       "      <td>9</td>\n",
       "      <td>-34.66977709</td>\n",
       "      <td>-58.50877521</td>\n",
       "    </tr>\n",
       "    <tr>\n",
       "      <th>2</th>\n",
       "      <td>2016-0003</td>\n",
       "      <td>2016-01-03</td>\n",
       "      <td>7</td>\n",
       "      <td>FATAL</td>\n",
       "      <td>M</td>\n",
       "      <td>30</td>\n",
       "      <td>MOTO</td>\n",
       "      <td>AUTOMOVIL</td>\n",
       "      <td>ENTRE RIOS AV. 2034</td>\n",
       "      <td>AVENIDA</td>\n",
       "      <td>1</td>\n",
       "      <td>-34.63189362</td>\n",
       "      <td>-58.39040293</td>\n",
       "    </tr>\n",
       "    <tr>\n",
       "      <th>3</th>\n",
       "      <td>2016-0004</td>\n",
       "      <td>2016-01-10</td>\n",
       "      <td>0</td>\n",
       "      <td>LEVE - SIN LESIONES</td>\n",
       "      <td>M</td>\n",
       "      <td>18</td>\n",
       "      <td>MOTO</td>\n",
       "      <td>SD</td>\n",
       "      <td>LARRAZABAL AV. y VILLEGAS, CONRADO, GRAL.</td>\n",
       "      <td>AVENIDA</td>\n",
       "      <td>8</td>\n",
       "      <td>-34.68092974</td>\n",
       "      <td>-58.46503904</td>\n",
       "    </tr>\n",
       "    <tr>\n",
       "      <th>4</th>\n",
       "      <td>2016-0005</td>\n",
       "      <td>2016-01-21</td>\n",
       "      <td>5</td>\n",
       "      <td>FATAL</td>\n",
       "      <td>M</td>\n",
       "      <td>29</td>\n",
       "      <td>MOTO</td>\n",
       "      <td>TRANSPORTE PUBLICO</td>\n",
       "      <td>SAN JUAN AV. y SAENZ PEÃ‘A, LUIS, PRES.</td>\n",
       "      <td>AVENIDA</td>\n",
       "      <td>1</td>\n",
       "      <td>-34.62246630</td>\n",
       "      <td>-58.38718297</td>\n",
       "    </tr>\n",
       "  </tbody>\n",
       "</table>\n",
       "</div>"
      ],
      "text/plain": [
       "          id       fecha  franja_hora             gravedad sexo  edad  \\\n",
       "0  2016-0001  2016-01-01            4                FATAL    M    19   \n",
       "1  2016-0002  2016-01-02            1                FATAL    M    70   \n",
       "2  2016-0003  2016-01-03            7                FATAL    M    30   \n",
       "3  2016-0004  2016-01-10            0  LEVE - SIN LESIONES    M    18   \n",
       "4  2016-0005  2016-01-21            5                FATAL    M    29   \n",
       "\n",
       "  vehiculo_1          vehiculo_2  \\\n",
       "0       MOTO           AUTOMOVIL   \n",
       "1  AUTOMOVIL  TRANSPORTE PUBLICO   \n",
       "2       MOTO           AUTOMOVIL   \n",
       "3       MOTO                  SD   \n",
       "4       MOTO  TRANSPORTE PUBLICO   \n",
       "\n",
       "                               direccion_normalizada tipo_calle comuna  \\\n",
       "0  PIEDRA BUENA AV. y FERNANDEZ DE LA CRUZ, F., G...    AVENIDA      8   \n",
       "1               PAZ, GRAL. AV. y DE LOS CORRALES AV.   GRAL PAZ      9   \n",
       "2                                ENTRE RIOS AV. 2034    AVENIDA      1   \n",
       "3          LARRAZABAL AV. y VILLEGAS, CONRADO, GRAL.    AVENIDA      8   \n",
       "4            SAN JUAN AV. y SAENZ PEÃ‘A, LUIS, PRES.    AVENIDA      1   \n",
       "\n",
       "        latitud      longitud  \n",
       "0  -34.68757022  -58.47533969  \n",
       "1  -34.66977709  -58.50877521  \n",
       "2  -34.63189362  -58.39040293  \n",
       "3  -34.68092974  -58.46503904  \n",
       "4  -34.62246630  -58.38718297  "
      ]
     },
     "execution_count": 329,
     "metadata": {},
     "output_type": "execute_result"
    }
   ],
   "source": [
    "df.head()"
   ]
  },
  {
   "cell_type": "code",
   "execution_count": 330,
   "metadata": {},
   "outputs": [],
   "source": [
    "# Guardar el csv de la segunda etapa\n",
    "df.to_csv(\"accidentes_2.csv\", index=False)"
   ]
  },
  {
   "cell_type": "code",
   "execution_count": 331,
   "metadata": {},
   "outputs": [
    {
     "data": {
      "text/html": [
       "<div>\n",
       "<style scoped>\n",
       "    .dataframe tbody tr th:only-of-type {\n",
       "        vertical-align: middle;\n",
       "    }\n",
       "\n",
       "    .dataframe tbody tr th {\n",
       "        vertical-align: top;\n",
       "    }\n",
       "\n",
       "    .dataframe thead th {\n",
       "        text-align: right;\n",
       "    }\n",
       "</style>\n",
       "<table border=\"1\" class=\"dataframe\">\n",
       "  <thead>\n",
       "    <tr style=\"text-align: right;\">\n",
       "      <th></th>\n",
       "      <th>id</th>\n",
       "      <th>fecha</th>\n",
       "      <th>franja_hora</th>\n",
       "      <th>gravedad</th>\n",
       "      <th>sexo</th>\n",
       "      <th>edad</th>\n",
       "      <th>vehiculo_1</th>\n",
       "      <th>vehiculo_2</th>\n",
       "      <th>direccion_normalizada</th>\n",
       "      <th>tipo_calle</th>\n",
       "      <th>comuna</th>\n",
       "      <th>latitud</th>\n",
       "      <th>longitud</th>\n",
       "    </tr>\n",
       "  </thead>\n",
       "  <tbody>\n",
       "    <tr>\n",
       "      <th>0</th>\n",
       "      <td>2016-0001</td>\n",
       "      <td>2016-01-01</td>\n",
       "      <td>4</td>\n",
       "      <td>FATAL</td>\n",
       "      <td>M</td>\n",
       "      <td>19</td>\n",
       "      <td>MOTO</td>\n",
       "      <td>AUTOMOVIL</td>\n",
       "      <td>PIEDRA BUENA AV. y FERNANDEZ DE LA CRUZ, F., G...</td>\n",
       "      <td>AVENIDA</td>\n",
       "      <td>8</td>\n",
       "      <td>-34.68757022</td>\n",
       "      <td>-58.47533969</td>\n",
       "    </tr>\n",
       "    <tr>\n",
       "      <th>1</th>\n",
       "      <td>2016-0002</td>\n",
       "      <td>2016-01-02</td>\n",
       "      <td>1</td>\n",
       "      <td>FATAL</td>\n",
       "      <td>M</td>\n",
       "      <td>70</td>\n",
       "      <td>AUTOMOVIL</td>\n",
       "      <td>TRANSPORTE PUBLICO</td>\n",
       "      <td>PAZ, GRAL. AV. y DE LOS CORRALES AV.</td>\n",
       "      <td>GRAL PAZ</td>\n",
       "      <td>9</td>\n",
       "      <td>-34.66977709</td>\n",
       "      <td>-58.50877521</td>\n",
       "    </tr>\n",
       "    <tr>\n",
       "      <th>2</th>\n",
       "      <td>2016-0003</td>\n",
       "      <td>2016-01-03</td>\n",
       "      <td>7</td>\n",
       "      <td>FATAL</td>\n",
       "      <td>M</td>\n",
       "      <td>30</td>\n",
       "      <td>MOTO</td>\n",
       "      <td>AUTOMOVIL</td>\n",
       "      <td>ENTRE RIOS AV. 2034</td>\n",
       "      <td>AVENIDA</td>\n",
       "      <td>1</td>\n",
       "      <td>-34.63189362</td>\n",
       "      <td>-58.39040293</td>\n",
       "    </tr>\n",
       "    <tr>\n",
       "      <th>3</th>\n",
       "      <td>2016-0004</td>\n",
       "      <td>2016-01-10</td>\n",
       "      <td>0</td>\n",
       "      <td>LEVE - SIN LESIONES</td>\n",
       "      <td>M</td>\n",
       "      <td>18</td>\n",
       "      <td>MOTO</td>\n",
       "      <td>SD</td>\n",
       "      <td>LARRAZABAL AV. y VILLEGAS, CONRADO, GRAL.</td>\n",
       "      <td>AVENIDA</td>\n",
       "      <td>8</td>\n",
       "      <td>-34.68092974</td>\n",
       "      <td>-58.46503904</td>\n",
       "    </tr>\n",
       "    <tr>\n",
       "      <th>4</th>\n",
       "      <td>2016-0005</td>\n",
       "      <td>2016-01-21</td>\n",
       "      <td>5</td>\n",
       "      <td>FATAL</td>\n",
       "      <td>M</td>\n",
       "      <td>29</td>\n",
       "      <td>MOTO</td>\n",
       "      <td>TRANSPORTE PUBLICO</td>\n",
       "      <td>SAN JUAN AV. y SAENZ PEÃ‘A, LUIS, PRES.</td>\n",
       "      <td>AVENIDA</td>\n",
       "      <td>1</td>\n",
       "      <td>-34.62246630</td>\n",
       "      <td>-58.38718297</td>\n",
       "    </tr>\n",
       "  </tbody>\n",
       "</table>\n",
       "</div>"
      ],
      "text/plain": [
       "          id       fecha  franja_hora             gravedad sexo  edad  \\\n",
       "0  2016-0001  2016-01-01            4                FATAL    M    19   \n",
       "1  2016-0002  2016-01-02            1                FATAL    M    70   \n",
       "2  2016-0003  2016-01-03            7                FATAL    M    30   \n",
       "3  2016-0004  2016-01-10            0  LEVE - SIN LESIONES    M    18   \n",
       "4  2016-0005  2016-01-21            5                FATAL    M    29   \n",
       "\n",
       "  vehiculo_1          vehiculo_2  \\\n",
       "0       MOTO           AUTOMOVIL   \n",
       "1  AUTOMOVIL  TRANSPORTE PUBLICO   \n",
       "2       MOTO           AUTOMOVIL   \n",
       "3       MOTO                  SD   \n",
       "4       MOTO  TRANSPORTE PUBLICO   \n",
       "\n",
       "                               direccion_normalizada tipo_calle comuna  \\\n",
       "0  PIEDRA BUENA AV. y FERNANDEZ DE LA CRUZ, F., G...    AVENIDA      8   \n",
       "1               PAZ, GRAL. AV. y DE LOS CORRALES AV.   GRAL PAZ      9   \n",
       "2                                ENTRE RIOS AV. 2034    AVENIDA      1   \n",
       "3          LARRAZABAL AV. y VILLEGAS, CONRADO, GRAL.    AVENIDA      8   \n",
       "4            SAN JUAN AV. y SAENZ PEÃ‘A, LUIS, PRES.    AVENIDA      1   \n",
       "\n",
       "        latitud      longitud  \n",
       "0  -34.68757022  -58.47533969  \n",
       "1  -34.66977709  -58.50877521  \n",
       "2  -34.63189362  -58.39040293  \n",
       "3  -34.68092974  -58.46503904  \n",
       "4  -34.62246630  -58.38718297  "
      ]
     },
     "execution_count": 331,
     "metadata": {},
     "output_type": "execute_result"
    }
   ],
   "source": [
    "# Cargar el csv\n",
    "df = pd.read_csv(\"accidentes_2.csv\")\n",
    "df.head()"
   ]
  }
 ],
 "metadata": {
  "kernelspec": {
   "display_name": "Python 3",
   "language": "python",
   "name": "python3"
  },
  "language_info": {
   "codemirror_mode": {
    "name": "ipython",
    "version": 3
   },
   "file_extension": ".py",
   "mimetype": "text/x-python",
   "name": "python",
   "nbconvert_exporter": "python",
   "pygments_lexer": "ipython3",
   "version": "3.11.5"
  }
 },
 "nbformat": 4,
 "nbformat_minor": 2
}
